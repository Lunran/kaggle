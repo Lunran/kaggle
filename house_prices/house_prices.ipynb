{
 "cells": [
  {
   "cell_type": "markdown",
   "metadata": {
    "ein.tags": "worksheet-0",
    "slideshow": {
     "slide_type": "-"
    }
   },
   "source": [
    "- ref. https://www.kaggle.com/apapiu/regularized-linear-models\n",
    "- ref. https://www.kaggle.com/serigne/stacked-regressions-top-4-on-leaderboard"
   ]
  },
  {
   "cell_type": "code",
   "execution_count": 67,
   "metadata": {
    "autoscroll": false,
    "collapsed": false,
    "ein.tags": "worksheet-0",
    "slideshow": {
     "slide_type": "-"
    }
   },
   "outputs": [
    {
     "name": "stdout",
     "output_type": "stream",
     "text": [
      "train\n",
      "['Id' 'MSSubClass' 'MSZoning' 'LotFrontage' 'LotArea' 'Street' 'Alley'\n",
      " 'LotShape' 'LandContour' 'Utilities' 'LotConfig' 'LandSlope'\n",
      " 'Neighborhood' 'Condition1' 'Condition2' 'BldgType' 'HouseStyle'\n",
      " 'OverallQual' 'OverallCond' 'YearBuilt' 'YearRemodAdd' 'RoofStyle'\n",
      " 'RoofMatl' 'Exterior1st' 'Exterior2nd' 'MasVnrType' 'MasVnrArea'\n",
      " 'ExterQual' 'ExterCond' 'Foundation' 'BsmtQual' 'BsmtCond' 'BsmtExposure'\n",
      " 'BsmtFinType1' 'BsmtFinSF1' 'BsmtFinType2' 'BsmtFinSF2' 'BsmtUnfSF'\n",
      " 'TotalBsmtSF' 'Heating' 'HeatingQC' 'CentralAir' 'Electrical' '1stFlrSF'\n",
      " '2ndFlrSF' 'LowQualFinSF' 'GrLivArea' 'BsmtFullBath' 'BsmtHalfBath'\n",
      " 'FullBath' 'HalfBath' 'BedroomAbvGr' 'KitchenAbvGr' 'KitchenQual'\n",
      " 'TotRmsAbvGrd' 'Functional' 'Fireplaces' 'FireplaceQu' 'GarageType'\n",
      " 'GarageYrBlt' 'GarageFinish' 'GarageCars' 'GarageArea' 'GarageQual'\n",
      " 'GarageCond' 'PavedDrive' 'WoodDeckSF' 'OpenPorchSF' 'EnclosedPorch'\n",
      " '3SsnPorch' 'ScreenPorch' 'PoolArea' 'PoolQC' 'Fence' 'MiscFeature'\n",
      " 'MiscVal' 'MoSold' 'YrSold' 'SaleType' 'SaleCondition' 'SalePrice']\n",
      "test\n",
      "['Id' 'MSSubClass' 'MSZoning' 'LotFrontage' 'LotArea' 'Street' 'Alley'\n",
      " 'LotShape' 'LandContour' 'Utilities' 'LotConfig' 'LandSlope'\n",
      " 'Neighborhood' 'Condition1' 'Condition2' 'BldgType' 'HouseStyle'\n",
      " 'OverallQual' 'OverallCond' 'YearBuilt' 'YearRemodAdd' 'RoofStyle'\n",
      " 'RoofMatl' 'Exterior1st' 'Exterior2nd' 'MasVnrType' 'MasVnrArea'\n",
      " 'ExterQual' 'ExterCond' 'Foundation' 'BsmtQual' 'BsmtCond' 'BsmtExposure'\n",
      " 'BsmtFinType1' 'BsmtFinSF1' 'BsmtFinType2' 'BsmtFinSF2' 'BsmtUnfSF'\n",
      " 'TotalBsmtSF' 'Heating' 'HeatingQC' 'CentralAir' 'Electrical' '1stFlrSF'\n",
      " '2ndFlrSF' 'LowQualFinSF' 'GrLivArea' 'BsmtFullBath' 'BsmtHalfBath'\n",
      " 'FullBath' 'HalfBath' 'BedroomAbvGr' 'KitchenAbvGr' 'KitchenQual'\n",
      " 'TotRmsAbvGrd' 'Functional' 'Fireplaces' 'FireplaceQu' 'GarageType'\n",
      " 'GarageYrBlt' 'GarageFinish' 'GarageCars' 'GarageArea' 'GarageQual'\n",
      " 'GarageCond' 'PavedDrive' 'WoodDeckSF' 'OpenPorchSF' 'EnclosedPorch'\n",
      " '3SsnPorch' 'ScreenPorch' 'PoolArea' 'PoolQC' 'Fence' 'MiscFeature'\n",
      " 'MiscVal' 'MoSold' 'YrSold' 'SaleType' 'SaleCondition']\n"
     ]
    }
   ],
   "source": [
    "# load data\n",
    "import pandas as pd, numpy as np\n",
    "import seaborn as sns, matplotlib.pyplot as plt\n",
    "pd.set_option(\"display.width\", 100)\n",
    "pd.set_option(\"display.max_rows\", 100)\n",
    "\n",
    "train_df = pd.read_csv(\"./train.csv\", header=0)\n",
    "test_df = pd.read_csv(\"./test.csv\", header=0)\n",
    "train_id = train_df[\"Id\"]\n",
    "train_y = train_df[\"SalePrice\"]\n",
    "test_id = test_df[\"Id\"]\n",
    "all_df = pd.concat((train_df.loc[:,'MSSubClass':'SaleCondition'], test_df.loc[:,'MSSubClass':'SaleCondition']))\n",
    "dfd = {'train': train_df, 'test': test_df}\n",
    "for name,df in dfd.items():\n",
    "    print(name)\n",
    "    print(df.columns.values)"
   ]
  },
  {
   "cell_type": "code",
   "execution_count": 68,
   "metadata": {
    "autoscroll": false,
    "collapsed": false,
    "ein.tags": "worksheet-0",
    "slideshow": {
     "slide_type": "-"
    }
   },
   "outputs": [
    {
     "name": "stdout",
     "output_type": "stream",
     "text": [
      "train\n",
      "   Id  MSSubClass MSZoning  LotFrontage  LotArea Street Alley LotShape LandContour Utilities  \\\n",
      "0   1          60       RL         65.0     8450   Pave   NaN      Reg         Lvl    AllPub   \n",
      "1   2          20       RL         80.0     9600   Pave   NaN      Reg         Lvl    AllPub   \n",
      "2   3          60       RL         68.0    11250   Pave   NaN      IR1         Lvl    AllPub   \n",
      "\n",
      "     ...     PoolArea PoolQC Fence MiscFeature MiscVal MoSold YrSold  SaleType  SaleCondition  \\\n",
      "0    ...            0    NaN   NaN         NaN       0      2   2008        WD         Normal   \n",
      "1    ...            0    NaN   NaN         NaN       0      5   2007        WD         Normal   \n",
      "2    ...            0    NaN   NaN         NaN       0      9   2008        WD         Normal   \n",
      "\n",
      "   SalePrice  \n",
      "0     208500  \n",
      "1     181500  \n",
      "2     223500  \n",
      "\n",
      "[3 rows x 81 columns]\n",
      "test\n",
      "     Id  MSSubClass MSZoning  LotFrontage  LotArea Street Alley LotShape LandContour Utilities  \\\n",
      "0  1461          20       RH         80.0    11622   Pave   NaN      Reg         Lvl    AllPub   \n",
      "1  1462          20       RL         81.0    14267   Pave   NaN      IR1         Lvl    AllPub   \n",
      "2  1463          60       RL         74.0    13830   Pave   NaN      IR1         Lvl    AllPub   \n",
      "\n",
      "       ...       ScreenPorch PoolArea PoolQC  Fence MiscFeature MiscVal MoSold  YrSold  SaleType  \\\n",
      "0      ...               120        0    NaN  MnPrv         NaN       0      6    2010        WD   \n",
      "1      ...                 0        0    NaN    NaN        Gar2   12500      6    2010        WD   \n",
      "2      ...                 0        0    NaN  MnPrv         NaN       0      3    2010        WD   \n",
      "\n",
      "   SaleCondition  \n",
      "0         Normal  \n",
      "1         Normal  \n",
      "2         Normal  \n",
      "\n",
      "[3 rows x 80 columns]\n"
     ]
    }
   ],
   "source": [
    "# check data\n",
    "for name,df in dfd.items():\n",
    "    print(name)\n",
    "    print(df.head(3))"
   ]
  },
  {
   "cell_type": "code",
   "execution_count": 69,
   "metadata": {
    "autoscroll": false,
    "collapsed": false,
    "ein.tags": "worksheet-0",
    "slideshow": {
     "slide_type": "-"
    }
   },
   "outputs": [
    {
     "name": "stdout",
     "output_type": "stream",
     "text": [
      "train\n",
      "<class 'pandas.core.frame.DataFrame'>\n",
      "RangeIndex: 1460 entries, 0 to 1459\n",
      "Data columns (total 81 columns):\n",
      "Id               1460 non-null int64\n",
      "MSSubClass       1460 non-null int64\n",
      "MSZoning         1460 non-null object\n",
      "LotFrontage      1201 non-null float64\n",
      "LotArea          1460 non-null int64\n",
      "Street           1460 non-null object\n",
      "Alley            91 non-null object\n",
      "LotShape         1460 non-null object\n",
      "LandContour      1460 non-null object\n",
      "Utilities        1460 non-null object\n",
      "LotConfig        1460 non-null object\n",
      "LandSlope        1460 non-null object\n",
      "Neighborhood     1460 non-null object\n",
      "Condition1       1460 non-null object\n",
      "Condition2       1460 non-null object\n",
      "BldgType         1460 non-null object\n",
      "HouseStyle       1460 non-null object\n",
      "OverallQual      1460 non-null int64\n",
      "OverallCond      1460 non-null int64\n",
      "YearBuilt        1460 non-null int64\n",
      "YearRemodAdd     1460 non-null int64\n",
      "RoofStyle        1460 non-null object\n",
      "RoofMatl         1460 non-null object\n",
      "Exterior1st      1460 non-null object\n",
      "Exterior2nd      1460 non-null object\n",
      "MasVnrType       1452 non-null object\n",
      "MasVnrArea       1452 non-null float64\n",
      "ExterQual        1460 non-null object\n",
      "ExterCond        1460 non-null object\n",
      "Foundation       1460 non-null object\n",
      "BsmtQual         1423 non-null object\n",
      "BsmtCond         1423 non-null object\n",
      "BsmtExposure     1422 non-null object\n",
      "BsmtFinType1     1423 non-null object\n",
      "BsmtFinSF1       1460 non-null int64\n",
      "BsmtFinType2     1422 non-null object\n",
      "BsmtFinSF2       1460 non-null int64\n",
      "BsmtUnfSF        1460 non-null int64\n",
      "TotalBsmtSF      1460 non-null int64\n",
      "Heating          1460 non-null object\n",
      "HeatingQC        1460 non-null object\n",
      "CentralAir       1460 non-null object\n",
      "Electrical       1459 non-null object\n",
      "1stFlrSF         1460 non-null int64\n",
      "2ndFlrSF         1460 non-null int64\n",
      "LowQualFinSF     1460 non-null int64\n",
      "GrLivArea        1460 non-null int64\n",
      "BsmtFullBath     1460 non-null int64\n",
      "BsmtHalfBath     1460 non-null int64\n",
      "FullBath         1460 non-null int64\n",
      "HalfBath         1460 non-null int64\n",
      "BedroomAbvGr     1460 non-null int64\n",
      "KitchenAbvGr     1460 non-null int64\n",
      "KitchenQual      1460 non-null object\n",
      "TotRmsAbvGrd     1460 non-null int64\n",
      "Functional       1460 non-null object\n",
      "Fireplaces       1460 non-null int64\n",
      "FireplaceQu      770 non-null object\n",
      "GarageType       1379 non-null object\n",
      "GarageYrBlt      1379 non-null float64\n",
      "GarageFinish     1379 non-null object\n",
      "GarageCars       1460 non-null int64\n",
      "GarageArea       1460 non-null int64\n",
      "GarageQual       1379 non-null object\n",
      "GarageCond       1379 non-null object\n",
      "PavedDrive       1460 non-null object\n",
      "WoodDeckSF       1460 non-null int64\n",
      "OpenPorchSF      1460 non-null int64\n",
      "EnclosedPorch    1460 non-null int64\n",
      "3SsnPorch        1460 non-null int64\n",
      "ScreenPorch      1460 non-null int64\n",
      "PoolArea         1460 non-null int64\n",
      "PoolQC           7 non-null object\n",
      "Fence            281 non-null object\n",
      "MiscFeature      54 non-null object\n",
      "MiscVal          1460 non-null int64\n",
      "MoSold           1460 non-null int64\n",
      "YrSold           1460 non-null int64\n",
      "SaleType         1460 non-null object\n",
      "SaleCondition    1460 non-null object\n",
      "SalePrice        1460 non-null int64\n",
      "dtypes: float64(3), int64(35), object(43)\n",
      "memory usage: 924.0+ KB\n",
      "None\n",
      "test\n",
      "<class 'pandas.core.frame.DataFrame'>\n",
      "RangeIndex: 1459 entries, 0 to 1458\n",
      "Data columns (total 80 columns):\n",
      "Id               1459 non-null int64\n",
      "MSSubClass       1459 non-null int64\n",
      "MSZoning         1455 non-null object\n",
      "LotFrontage      1232 non-null float64\n",
      "LotArea          1459 non-null int64\n",
      "Street           1459 non-null object\n",
      "Alley            107 non-null object\n",
      "LotShape         1459 non-null object\n",
      "LandContour      1459 non-null object\n",
      "Utilities        1457 non-null object\n",
      "LotConfig        1459 non-null object\n",
      "LandSlope        1459 non-null object\n",
      "Neighborhood     1459 non-null object\n",
      "Condition1       1459 non-null object\n",
      "Condition2       1459 non-null object\n",
      "BldgType         1459 non-null object\n",
      "HouseStyle       1459 non-null object\n",
      "OverallQual      1459 non-null int64\n",
      "OverallCond      1459 non-null int64\n",
      "YearBuilt        1459 non-null int64\n",
      "YearRemodAdd     1459 non-null int64\n",
      "RoofStyle        1459 non-null object\n",
      "RoofMatl         1459 non-null object\n",
      "Exterior1st      1458 non-null object\n",
      "Exterior2nd      1458 non-null object\n",
      "MasVnrType       1443 non-null object\n",
      "MasVnrArea       1444 non-null float64\n",
      "ExterQual        1459 non-null object\n",
      "ExterCond        1459 non-null object\n",
      "Foundation       1459 non-null object\n",
      "BsmtQual         1415 non-null object\n",
      "BsmtCond         1414 non-null object\n",
      "BsmtExposure     1415 non-null object\n",
      "BsmtFinType1     1417 non-null object\n",
      "BsmtFinSF1       1458 non-null float64\n",
      "BsmtFinType2     1417 non-null object\n",
      "BsmtFinSF2       1458 non-null float64\n",
      "BsmtUnfSF        1458 non-null float64\n",
      "TotalBsmtSF      1458 non-null float64\n",
      "Heating          1459 non-null object\n",
      "HeatingQC        1459 non-null object\n",
      "CentralAir       1459 non-null object\n",
      "Electrical       1459 non-null object\n",
      "1stFlrSF         1459 non-null int64\n",
      "2ndFlrSF         1459 non-null int64\n",
      "LowQualFinSF     1459 non-null int64\n",
      "GrLivArea        1459 non-null int64\n",
      "BsmtFullBath     1457 non-null float64\n",
      "BsmtHalfBath     1457 non-null float64\n",
      "FullBath         1459 non-null int64\n",
      "HalfBath         1459 non-null int64\n",
      "BedroomAbvGr     1459 non-null int64\n",
      "KitchenAbvGr     1459 non-null int64\n",
      "KitchenQual      1458 non-null object\n",
      "TotRmsAbvGrd     1459 non-null int64\n",
      "Functional       1457 non-null object\n",
      "Fireplaces       1459 non-null int64\n",
      "FireplaceQu      729 non-null object\n",
      "GarageType       1383 non-null object\n",
      "GarageYrBlt      1381 non-null float64\n",
      "GarageFinish     1381 non-null object\n",
      "GarageCars       1458 non-null float64\n",
      "GarageArea       1458 non-null float64\n",
      "GarageQual       1381 non-null object\n",
      "GarageCond       1381 non-null object\n",
      "PavedDrive       1459 non-null object\n",
      "WoodDeckSF       1459 non-null int64\n",
      "OpenPorchSF      1459 non-null int64\n",
      "EnclosedPorch    1459 non-null int64\n",
      "3SsnPorch        1459 non-null int64\n",
      "ScreenPorch      1459 non-null int64\n",
      "PoolArea         1459 non-null int64\n",
      "PoolQC           3 non-null object\n",
      "Fence            290 non-null object\n",
      "MiscFeature      51 non-null object\n",
      "MiscVal          1459 non-null int64\n",
      "MoSold           1459 non-null int64\n",
      "YrSold           1459 non-null int64\n",
      "SaleType         1458 non-null object\n",
      "SaleCondition    1459 non-null object\n",
      "dtypes: float64(11), int64(26), object(43)\n",
      "memory usage: 912.0+ KB\n",
      "None\n"
     ]
    }
   ],
   "source": [
    "# check data\n",
    "for name,df in dfd.items():\n",
    "    print(name)\n",
    "    print(df.info())"
   ]
  },
  {
   "cell_type": "code",
   "execution_count": 70,
   "metadata": {
    "autoscroll": false,
    "collapsed": false,
    "ein.tags": "worksheet-0",
    "slideshow": {
     "slide_type": "-"
    }
   },
   "outputs": [
    {
     "name": "stdout",
     "output_type": "stream",
     "text": [
      "train\n"
     ]
    },
    {
     "name": "stdout",
     "output_type": "stream",
     "text": [
      "              count unique      top  freq       mean       std    min     25%     50%      75%  \\\n",
      "Id             1460    NaN      NaN   NaN      730.5    421.61      1  365.75   730.5  1095.25   \n",
      "MSSubClass     1460    NaN      NaN   NaN    56.8973   42.3006     20      20      50       70   \n",
      "MSZoning       1460      5       RL  1151        NaN       NaN    NaN     NaN     NaN      NaN   \n",
      "LotFrontage    1201    NaN      NaN   NaN      70.05   24.2848     21      59      69       80   \n",
      "LotArea        1460    NaN      NaN   NaN    10516.8   9981.26   1300  7553.5  9478.5  11601.5   \n",
      "Street         1460      2     Pave  1454        NaN       NaN    NaN     NaN     NaN      NaN   \n",
      "Alley            91      2     Grvl    50        NaN       NaN    NaN     NaN     NaN      NaN   \n",
      "LotShape       1460      4      Reg   925        NaN       NaN    NaN     NaN     NaN      NaN   \n",
      "LandContour    1460      4      Lvl  1311        NaN       NaN    NaN     NaN     NaN      NaN   \n",
      "Utilities      1460      2   AllPub  1459        NaN       NaN    NaN     NaN     NaN      NaN   \n",
      "LotConfig      1460      5   Inside  1052        NaN       NaN    NaN     NaN     NaN      NaN   \n",
      "LandSlope      1460      3      Gtl  1382        NaN       NaN    NaN     NaN     NaN      NaN   \n",
      "Neighborhood   1460     25    NAmes   225        NaN       NaN    NaN     NaN     NaN      NaN   \n",
      "Condition1     1460      9     Norm  1260        NaN       NaN    NaN     NaN     NaN      NaN   \n",
      "Condition2     1460      8     Norm  1445        NaN       NaN    NaN     NaN     NaN      NaN   \n",
      "BldgType       1460      5     1Fam  1220        NaN       NaN    NaN     NaN     NaN      NaN   \n",
      "HouseStyle     1460      8   1Story   726        NaN       NaN    NaN     NaN     NaN      NaN   \n",
      "OverallQual    1460    NaN      NaN   NaN    6.09932     1.383      1       5       6        7   \n",
      "OverallCond    1460    NaN      NaN   NaN    5.57534    1.1128      1       5       5        6   \n",
      "YearBuilt      1460    NaN      NaN   NaN    1971.27   30.2029   1872    1954    1973     2000   \n",
      "YearRemodAdd   1460    NaN      NaN   NaN    1984.87   20.6454   1950    1967    1994     2004   \n",
      "RoofStyle      1460      6    Gable  1141        NaN       NaN    NaN     NaN     NaN      NaN   \n",
      "RoofMatl       1460      8  CompShg  1434        NaN       NaN    NaN     NaN     NaN      NaN   \n",
      "Exterior1st    1460     15  VinylSd   515        NaN       NaN    NaN     NaN     NaN      NaN   \n",
      "Exterior2nd    1460     16  VinylSd   504        NaN       NaN    NaN     NaN     NaN      NaN   \n",
      "MasVnrType     1452      4     None   864        NaN       NaN    NaN     NaN     NaN      NaN   \n",
      "MasVnrArea     1452    NaN      NaN   NaN    103.685   181.066      0       0       0      166   \n",
      "ExterQual      1460      4       TA   906        NaN       NaN    NaN     NaN     NaN      NaN   \n",
      "ExterCond      1460      5       TA  1282        NaN       NaN    NaN     NaN     NaN      NaN   \n",
      "Foundation     1460      6    PConc   647        NaN       NaN    NaN     NaN     NaN      NaN   \n",
      "BsmtQual       1423      4       TA   649        NaN       NaN    NaN     NaN     NaN      NaN   \n",
      "BsmtCond       1423      4       TA  1311        NaN       NaN    NaN     NaN     NaN      NaN   \n",
      "BsmtExposure   1422      4       No   953        NaN       NaN    NaN     NaN     NaN      NaN   \n",
      "BsmtFinType1   1423      6      Unf   430        NaN       NaN    NaN     NaN     NaN      NaN   \n",
      "BsmtFinSF1     1460    NaN      NaN   NaN     443.64   456.098      0       0   383.5   712.25   \n",
      "BsmtFinType2   1422      6      Unf  1256        NaN       NaN    NaN     NaN     NaN      NaN   \n",
      "BsmtFinSF2     1460    NaN      NaN   NaN    46.5493   161.319      0       0       0        0   \n",
      "BsmtUnfSF      1460    NaN      NaN   NaN     567.24   441.867      0     223   477.5      808   \n",
      "TotalBsmtSF    1460    NaN      NaN   NaN    1057.43   438.705      0  795.75   991.5  1298.25   \n",
      "Heating        1460      6     GasA  1428        NaN       NaN    NaN     NaN     NaN      NaN   \n",
      "HeatingQC      1460      5       Ex   741        NaN       NaN    NaN     NaN     NaN      NaN   \n",
      "CentralAir     1460      2        Y  1365        NaN       NaN    NaN     NaN     NaN      NaN   \n",
      "Electrical     1459      5    SBrkr  1334        NaN       NaN    NaN     NaN     NaN      NaN   \n",
      "1stFlrSF       1460    NaN      NaN   NaN    1162.63   386.588    334     882    1087  1391.25   \n",
      "2ndFlrSF       1460    NaN      NaN   NaN    346.992   436.528      0       0       0      728   \n",
      "LowQualFinSF   1460    NaN      NaN   NaN    5.84452   48.6231      0       0       0        0   \n",
      "GrLivArea      1460    NaN      NaN   NaN    1515.46    525.48    334  1129.5    1464  1776.75   \n",
      "BsmtFullBath   1460    NaN      NaN   NaN   0.425342  0.518911      0       0       0        1   \n",
      "BsmtHalfBath   1460    NaN      NaN   NaN  0.0575342  0.238753      0       0       0        0   \n",
      "FullBath       1460    NaN      NaN   NaN    1.56507  0.550916      0       1       2        2   \n",
      "HalfBath       1460    NaN      NaN   NaN   0.382877  0.502885      0       0       0        1   \n",
      "BedroomAbvGr   1460    NaN      NaN   NaN    2.86644  0.815778      0       2       3        3   \n",
      "KitchenAbvGr   1460    NaN      NaN   NaN    1.04658  0.220338      0       1       1        1   \n",
      "KitchenQual    1460      4       TA   735        NaN       NaN    NaN     NaN     NaN      NaN   \n",
      "TotRmsAbvGrd   1460    NaN      NaN   NaN    6.51781   1.62539      2       5       6        7   \n",
      "Functional     1460      7      Typ  1360        NaN       NaN    NaN     NaN     NaN      NaN   \n",
      "Fireplaces     1460    NaN      NaN   NaN   0.613014  0.644666      0       0       1        1   \n",
      "FireplaceQu     770      5       Gd   380        NaN       NaN    NaN     NaN     NaN      NaN   \n",
      "GarageType     1379      6   Attchd   870        NaN       NaN    NaN     NaN     NaN      NaN   \n",
      "GarageYrBlt    1379    NaN      NaN   NaN    1978.51   24.6897   1900    1961    1980     2002   \n",
      "GarageFinish   1379      3      Unf   605        NaN       NaN    NaN     NaN     NaN      NaN   \n",
      "GarageCars     1460    NaN      NaN   NaN    1.76712  0.747315      0       1       2        2   \n",
      "GarageArea     1460    NaN      NaN   NaN     472.98   213.805      0   334.5     480      576   \n",
      "GarageQual     1379      5       TA  1311        NaN       NaN    NaN     NaN     NaN      NaN   \n",
      "GarageCond     1379      5       TA  1326        NaN       NaN    NaN     NaN     NaN      NaN   \n",
      "PavedDrive     1460      3        Y  1340        NaN       NaN    NaN     NaN     NaN      NaN   \n",
      "WoodDeckSF     1460    NaN      NaN   NaN    94.2445   125.339      0       0       0      168   \n",
      "OpenPorchSF    1460    NaN      NaN   NaN    46.6603    66.256      0       0      25       68   \n",
      "EnclosedPorch  1460    NaN      NaN   NaN    21.9541   61.1191      0       0       0        0   \n",
      "3SsnPorch      1460    NaN      NaN   NaN    3.40959   29.3173      0       0       0        0   \n",
      "ScreenPorch    1460    NaN      NaN   NaN     15.061   55.7574      0       0       0        0   \n",
      "PoolArea       1460    NaN      NaN   NaN     2.7589   40.1773      0       0       0        0   \n",
      "PoolQC            7      3       Gd     3        NaN       NaN    NaN     NaN     NaN      NaN   \n",
      "Fence           281      4    MnPrv   157        NaN       NaN    NaN     NaN     NaN      NaN   \n",
      "MiscFeature      54      4     Shed    49        NaN       NaN    NaN     NaN     NaN      NaN   \n",
      "MiscVal        1460    NaN      NaN   NaN     43.489   496.123      0       0       0        0   \n",
      "MoSold         1460    NaN      NaN   NaN    6.32192   2.70363      1       5       6        8   \n",
      "YrSold         1460    NaN      NaN   NaN    2007.82    1.3281   2006    2007    2008     2009   \n",
      "SaleType       1460      9       WD  1267        NaN       NaN    NaN     NaN     NaN      NaN   \n",
      "SaleCondition  1460      6   Normal  1198        NaN       NaN    NaN     NaN     NaN      NaN   \n",
      "SalePrice      1460    NaN      NaN   NaN     180921   79442.5  34900  129975  163000   214000   \n",
      "\n",
      "                  max  \n",
      "Id               1460  \n",
      "MSSubClass        190  \n",
      "MSZoning          NaN  \n",
      "LotFrontage       313  \n",
      "LotArea        215245  \n",
      "Street            NaN  \n",
      "Alley             NaN  \n",
      "LotShape          NaN  \n",
      "LandContour       NaN  \n",
      "Utilities         NaN  \n",
      "LotConfig         NaN  \n",
      "LandSlope         NaN  \n",
      "Neighborhood      NaN  \n",
      "Condition1        NaN  \n",
      "Condition2        NaN  \n",
      "BldgType          NaN  \n",
      "HouseStyle        NaN  \n",
      "OverallQual        10  \n",
      "OverallCond         9  \n",
      "YearBuilt        2010  \n",
      "YearRemodAdd     2010  \n",
      "RoofStyle         NaN  \n",
      "RoofMatl          NaN  \n",
      "Exterior1st       NaN  \n",
      "Exterior2nd       NaN  \n",
      "MasVnrType        NaN  \n",
      "MasVnrArea       1600  \n",
      "ExterQual         NaN  \n",
      "ExterCond         NaN  \n",
      "Foundation        NaN  \n",
      "BsmtQual          NaN  \n",
      "BsmtCond          NaN  \n",
      "BsmtExposure      NaN  \n",
      "BsmtFinType1      NaN  \n",
      "BsmtFinSF1       5644  \n",
      "BsmtFinType2      NaN  \n",
      "BsmtFinSF2       1474  \n",
      "BsmtUnfSF        2336  \n",
      "TotalBsmtSF      6110  \n",
      "Heating           NaN  \n",
      "HeatingQC         NaN  \n",
      "CentralAir        NaN  \n",
      "Electrical        NaN  \n",
      "1stFlrSF         4692  \n",
      "2ndFlrSF         2065  \n",
      "LowQualFinSF      572  \n",
      "GrLivArea        5642  \n",
      "BsmtFullBath        3  \n",
      "BsmtHalfBath        2  \n",
      "FullBath            3  \n",
      "HalfBath            2  \n",
      "BedroomAbvGr        8  \n",
      "KitchenAbvGr        3  \n",
      "KitchenQual       NaN  \n",
      "TotRmsAbvGrd       14  \n",
      "Functional        NaN  \n",
      "Fireplaces          3  \n",
      "FireplaceQu       NaN  \n",
      "GarageType        NaN  \n",
      "GarageYrBlt      2010  \n",
      "GarageFinish      NaN  \n",
      "GarageCars          4  \n",
      "GarageArea       1418  \n",
      "GarageQual        NaN  \n",
      "GarageCond        NaN  \n",
      "PavedDrive        NaN  \n",
      "WoodDeckSF        857  \n",
      "OpenPorchSF       547  \n",
      "EnclosedPorch     552  \n",
      "3SsnPorch         508  \n",
      "ScreenPorch       480  \n",
      "PoolArea          738  \n",
      "PoolQC            NaN  \n",
      "Fence             NaN  \n",
      "MiscFeature       NaN  \n",
      "MiscVal         15500  \n",
      "MoSold             12  \n",
      "YrSold           2010  \n",
      "SaleType          NaN  \n",
      "SaleCondition     NaN  \n",
      "SalePrice      755000  \n",
      "test\n"
     ]
    },
    {
     "name": "stdout",
     "output_type": "stream",
     "text": [
      "              count unique      top  freq       mean       std   min     25%    50%      75%  \\\n",
      "Id             1459    NaN      NaN   NaN       2190   421.321  1461  1825.5   2190   2554.5   \n",
      "MSSubClass     1459    NaN      NaN   NaN    57.3783   42.7469    20      20     50       70   \n",
      "MSZoning       1455      5       RL  1114        NaN       NaN   NaN     NaN    NaN      NaN   \n",
      "LotFrontage    1232    NaN      NaN   NaN    68.5804   22.3768    21      58     67       80   \n",
      "LotArea        1459    NaN      NaN   NaN    9819.16   4955.52  1470    7391   9399  11517.5   \n",
      "Street         1459      2     Pave  1453        NaN       NaN   NaN     NaN    NaN      NaN   \n",
      "Alley           107      2     Grvl    70        NaN       NaN   NaN     NaN    NaN      NaN   \n",
      "LotShape       1459      4      Reg   934        NaN       NaN   NaN     NaN    NaN      NaN   \n",
      "LandContour    1459      4      Lvl  1311        NaN       NaN   NaN     NaN    NaN      NaN   \n",
      "Utilities      1457      1   AllPub  1457        NaN       NaN   NaN     NaN    NaN      NaN   \n",
      "LotConfig      1459      5   Inside  1081        NaN       NaN   NaN     NaN    NaN      NaN   \n",
      "LandSlope      1459      3      Gtl  1396        NaN       NaN   NaN     NaN    NaN      NaN   \n",
      "Neighborhood   1459     25    NAmes   218        NaN       NaN   NaN     NaN    NaN      NaN   \n",
      "Condition1     1459      9     Norm  1251        NaN       NaN   NaN     NaN    NaN      NaN   \n",
      "Condition2     1459      5     Norm  1444        NaN       NaN   NaN     NaN    NaN      NaN   \n",
      "BldgType       1459      5     1Fam  1205        NaN       NaN   NaN     NaN    NaN      NaN   \n",
      "HouseStyle     1459      7   1Story   745        NaN       NaN   NaN     NaN    NaN      NaN   \n",
      "OverallQual    1459    NaN      NaN   NaN    6.07882   1.43681     1       5      6        7   \n",
      "OverallCond    1459    NaN      NaN   NaN     5.5538   1.11374     1       5      5        6   \n",
      "YearBuilt      1459    NaN      NaN   NaN    1971.36   30.3901  1879    1953   1973     2001   \n",
      "YearRemodAdd   1459    NaN      NaN   NaN    1983.66   21.1305  1950    1963   1992     2004   \n",
      "RoofStyle      1459      6    Gable  1169        NaN       NaN   NaN     NaN    NaN      NaN   \n",
      "RoofMatl       1459      4  CompShg  1442        NaN       NaN   NaN     NaN    NaN      NaN   \n",
      "Exterior1st    1458     13  VinylSd   510        NaN       NaN   NaN     NaN    NaN      NaN   \n",
      "Exterior2nd    1458     15  VinylSd   510        NaN       NaN   NaN     NaN    NaN      NaN   \n",
      "MasVnrType     1443      4     None   878        NaN       NaN   NaN     NaN    NaN      NaN   \n",
      "MasVnrArea     1444    NaN      NaN   NaN    100.709   177.626     0       0      0      164   \n",
      "ExterQual      1459      4       TA   892        NaN       NaN   NaN     NaN    NaN      NaN   \n",
      "ExterCond      1459      5       TA  1256        NaN       NaN   NaN     NaN    NaN      NaN   \n",
      "Foundation     1459      6    PConc   661        NaN       NaN   NaN     NaN    NaN      NaN   \n",
      "BsmtQual       1415      4       TA   634        NaN       NaN   NaN     NaN    NaN      NaN   \n",
      "BsmtCond       1414      4       TA  1295        NaN       NaN   NaN     NaN    NaN      NaN   \n",
      "BsmtExposure   1415      4       No   951        NaN       NaN   NaN     NaN    NaN      NaN   \n",
      "BsmtFinType1   1417      6      GLQ   431        NaN       NaN   NaN     NaN    NaN      NaN   \n",
      "BsmtFinSF1     1458    NaN      NaN   NaN    439.204   455.268     0       0  350.5    753.5   \n",
      "BsmtFinType2   1417      6      Unf  1237        NaN       NaN   NaN     NaN    NaN      NaN   \n",
      "BsmtFinSF2     1458    NaN      NaN   NaN    52.6193   176.754     0       0      0        0   \n",
      "BsmtUnfSF      1458    NaN      NaN   NaN    554.295    437.26     0  219.25    460   797.75   \n",
      "TotalBsmtSF    1458    NaN      NaN   NaN    1046.12   442.899     0     784    988     1305   \n",
      "Heating        1459      4     GasA  1446        NaN       NaN   NaN     NaN    NaN      NaN   \n",
      "HeatingQC      1459      5       Ex   752        NaN       NaN   NaN     NaN    NaN      NaN   \n",
      "CentralAir     1459      2        Y  1358        NaN       NaN   NaN     NaN    NaN      NaN   \n",
      "Electrical     1459      4    SBrkr  1337        NaN       NaN   NaN     NaN    NaN      NaN   \n",
      "1stFlrSF       1459    NaN      NaN   NaN    1156.53   398.166   407   873.5   1079   1382.5   \n",
      "2ndFlrSF       1459    NaN      NaN   NaN    325.968    420.61     0       0      0      676   \n",
      "LowQualFinSF   1459    NaN      NaN   NaN    3.54352   44.0433     0       0      0        0   \n",
      "GrLivArea      1459    NaN      NaN   NaN    1486.05   485.566   407  1117.5   1432     1721   \n",
      "BsmtFullBath   1457    NaN      NaN   NaN   0.434454  0.530648     0       0      0        1   \n",
      "BsmtHalfBath   1457    NaN      NaN   NaN  0.0652025  0.252468     0       0      0        0   \n",
      "FullBath       1459    NaN      NaN   NaN    1.57094   0.55519     0       1      2        2   \n",
      "HalfBath       1459    NaN      NaN   NaN   0.377656  0.503017     0       0      0        1   \n",
      "BedroomAbvGr   1459    NaN      NaN   NaN    2.85401  0.829788     0       2      3        3   \n",
      "KitchenAbvGr   1459    NaN      NaN   NaN    1.04249  0.208472     0       1      1        1   \n",
      "KitchenQual    1458      4       TA   757        NaN       NaN   NaN     NaN    NaN      NaN   \n",
      "TotRmsAbvGrd   1459    NaN      NaN   NaN     6.3852   1.50889     3       5      6        7   \n",
      "Functional     1457      7      Typ  1357        NaN       NaN   NaN     NaN    NaN      NaN   \n",
      "Fireplaces     1459    NaN      NaN   NaN    0.58122   0.64742     0       0      0        1   \n",
      "FireplaceQu     729      5       Gd   364        NaN       NaN   NaN     NaN    NaN      NaN   \n",
      "GarageType     1383      6   Attchd   853        NaN       NaN   NaN     NaN    NaN      NaN   \n",
      "GarageYrBlt    1381    NaN      NaN   NaN    1977.72   26.4312  1895    1959   1979     2002   \n",
      "GarageFinish   1381      3      Unf   625        NaN       NaN   NaN     NaN    NaN      NaN   \n",
      "GarageCars     1458    NaN      NaN   NaN    1.76612  0.775945     0       1      2        2   \n",
      "GarageArea     1458    NaN      NaN   NaN    472.769   217.049     0     318    480      576   \n",
      "GarageQual     1381      4       TA  1293        NaN       NaN   NaN     NaN    NaN      NaN   \n",
      "GarageCond     1381      5       TA  1328        NaN       NaN   NaN     NaN    NaN      NaN   \n",
      "PavedDrive     1459      3        Y  1301        NaN       NaN   NaN     NaN    NaN      NaN   \n",
      "WoodDeckSF     1459    NaN      NaN   NaN    93.1748   127.745     0       0      0      168   \n",
      "OpenPorchSF    1459    NaN      NaN   NaN    48.3139   68.8834     0       0     28       72   \n",
      "EnclosedPorch  1459    NaN      NaN   NaN    24.2433   67.2278     0       0      0        0   \n",
      "3SsnPorch      1459    NaN      NaN   NaN    1.79438   20.2078     0       0      0        0   \n",
      "ScreenPorch    1459    NaN      NaN   NaN    17.0644   56.6098     0       0      0        0   \n",
      "PoolArea       1459    NaN      NaN   NaN    1.74435   30.4916     0       0      0        0   \n",
      "PoolQC            3      2       Ex     2        NaN       NaN   NaN     NaN    NaN      NaN   \n",
      "Fence           290      4    MnPrv   172        NaN       NaN   NaN     NaN    NaN      NaN   \n",
      "MiscFeature      51      3     Shed    46        NaN       NaN   NaN     NaN    NaN      NaN   \n",
      "MiscVal        1459    NaN      NaN   NaN    58.1679   630.807     0       0      0        0   \n",
      "MoSold         1459    NaN      NaN   NaN    6.10418   2.72243     1       4      6        8   \n",
      "YrSold         1459    NaN      NaN   NaN    2007.77   1.30174  2006    2007   2008     2009   \n",
      "SaleType       1458      9       WD  1258        NaN       NaN   NaN     NaN    NaN      NaN   \n",
      "SaleCondition  1459      6   Normal  1204        NaN       NaN   NaN     NaN    NaN      NaN   \n",
      "\n",
      "                 max  \n",
      "Id              2919  \n",
      "MSSubClass       190  \n",
      "MSZoning         NaN  \n",
      "LotFrontage      200  \n",
      "LotArea        56600  \n",
      "Street           NaN  \n",
      "Alley            NaN  \n",
      "LotShape         NaN  \n",
      "LandContour      NaN  \n",
      "Utilities        NaN  \n",
      "LotConfig        NaN  \n",
      "LandSlope        NaN  \n",
      "Neighborhood     NaN  \n",
      "Condition1       NaN  \n",
      "Condition2       NaN  \n",
      "BldgType         NaN  \n",
      "HouseStyle       NaN  \n",
      "OverallQual       10  \n",
      "OverallCond        9  \n",
      "YearBuilt       2010  \n",
      "YearRemodAdd    2010  \n",
      "RoofStyle        NaN  \n",
      "RoofMatl         NaN  \n",
      "Exterior1st      NaN  \n",
      "Exterior2nd      NaN  \n",
      "MasVnrType       NaN  \n",
      "MasVnrArea      1290  \n",
      "ExterQual        NaN  \n",
      "ExterCond        NaN  \n",
      "Foundation       NaN  \n",
      "BsmtQual         NaN  \n",
      "BsmtCond         NaN  \n",
      "BsmtExposure     NaN  \n",
      "BsmtFinType1     NaN  \n",
      "BsmtFinSF1      4010  \n",
      "BsmtFinType2     NaN  \n",
      "BsmtFinSF2      1526  \n",
      "BsmtUnfSF       2140  \n",
      "TotalBsmtSF     5095  \n",
      "Heating          NaN  \n",
      "HeatingQC        NaN  \n",
      "CentralAir       NaN  \n",
      "Electrical       NaN  \n",
      "1stFlrSF        5095  \n",
      "2ndFlrSF        1862  \n",
      "LowQualFinSF    1064  \n",
      "GrLivArea       5095  \n",
      "BsmtFullBath       3  \n",
      "BsmtHalfBath       2  \n",
      "FullBath           4  \n",
      "HalfBath           2  \n",
      "BedroomAbvGr       6  \n",
      "KitchenAbvGr       2  \n",
      "KitchenQual      NaN  \n",
      "TotRmsAbvGrd      15  \n",
      "Functional       NaN  \n",
      "Fireplaces         4  \n",
      "FireplaceQu      NaN  \n",
      "GarageType       NaN  \n",
      "GarageYrBlt     2207  \n",
      "GarageFinish     NaN  \n",
      "GarageCars         5  \n",
      "GarageArea      1488  \n",
      "GarageQual       NaN  \n",
      "GarageCond       NaN  \n",
      "PavedDrive       NaN  \n",
      "WoodDeckSF      1424  \n",
      "OpenPorchSF      742  \n",
      "EnclosedPorch   1012  \n",
      "3SsnPorch        360  \n",
      "ScreenPorch      576  \n",
      "PoolArea         800  \n",
      "PoolQC           NaN  \n",
      "Fence            NaN  \n",
      "MiscFeature      NaN  \n",
      "MiscVal        17000  \n",
      "MoSold            12  \n",
      "YrSold          2010  \n",
      "SaleType         NaN  \n",
      "SaleCondition    NaN  \n"
     ]
    }
   ],
   "source": [
    "# check data\n",
    "for name,df in dfd.items():\n",
    "    print(name)\n",
    "    print(df.describe(include='all').T)"
   ]
  },
  {
   "cell_type": "code",
   "execution_count": 71,
   "metadata": {
    "autoscroll": false,
    "collapsed": false,
    "ein.tags": "worksheet-0",
    "slideshow": {
     "slide_type": "-"
    }
   },
   "outputs": [
    {
     "name": "stdout",
     "output_type": "stream",
     "text": [
      "['MSSubClass' 'LotArea' 'OverallQual' 'OverallCond' 'YearBuilt'\n",
      " 'YearRemodAdd' '1stFlrSF' '2ndFlrSF' 'LowQualFinSF' 'GrLivArea' 'FullBath'\n",
      " 'HalfBath' 'BedroomAbvGr' 'KitchenAbvGr' 'TotRmsAbvGrd' 'Fireplaces'\n",
      " 'WoodDeckSF' 'OpenPorchSF' 'EnclosedPorch' '3SsnPorch' 'ScreenPorch'\n",
      " 'PoolArea' 'MiscVal' 'MoSold' 'YrSold']\n"
     ]
    }
   ],
   "source": [
    "# check datatype\n",
    "int_cols = all_df.select_dtypes(['int64']).columns.values\n",
    "## ref.\n",
    "## int_cols = list(set(train_df.select_dtypes(['int64']).columns.values).union(set(test_df.select_dtypes(['int64']).columns.values)))\n",
    "print(int_cols)"
   ]
  },
  {
   "cell_type": "code",
   "execution_count": 72,
   "metadata": {
    "autoscroll": false,
    "collapsed": false,
    "ein.tags": "worksheet-0",
    "slideshow": {
     "slide_type": "-"
    }
   },
   "outputs": [
    {
     "name": "stdout",
     "output_type": "stream",
     "text": [
      "['MSZoning' 'Street' 'Alley' 'LotShape' 'LandContour' 'Utilities'\n",
      " 'LotConfig' 'LandSlope' 'Neighborhood' 'Condition1' 'Condition2'\n",
      " 'BldgType' 'HouseStyle' 'RoofStyle' 'RoofMatl' 'Exterior1st' 'Exterior2nd'\n",
      " 'MasVnrType' 'ExterQual' 'ExterCond' 'Foundation' 'BsmtQual' 'BsmtCond'\n",
      " 'BsmtExposure' 'BsmtFinType1' 'BsmtFinType2' 'Heating' 'HeatingQC'\n",
      " 'CentralAir' 'Electrical' 'KitchenQual' 'Functional' 'FireplaceQu'\n",
      " 'GarageType' 'GarageFinish' 'GarageQual' 'GarageCond' 'PavedDrive'\n",
      " 'PoolQC' 'Fence' 'MiscFeature' 'SaleType' 'SaleCondition']\n"
     ]
    }
   ],
   "source": [
    "# check datatype\n",
    "object_cols = all_df.select_dtypes(['object']).columns.values\n",
    "## ref.\n",
    "## object_cols = list(set(train_df.select_dtypes(['object']).columns.values).union(set(test_df.select_dtypes(['object']).columns.values)))\n",
    "print(object_cols)"
   ]
  },
  {
   "cell_type": "code",
   "execution_count": 73,
   "metadata": {
    "autoscroll": false,
    "collapsed": false,
    "ein.tags": "worksheet-0",
    "slideshow": {
     "slide_type": "-"
    }
   },
   "outputs": [
    {
     "name": "stdout",
     "output_type": "stream",
     "text": [
      "['LotFrontage' 'MasVnrArea' 'BsmtFinSF1' 'BsmtFinSF2' 'BsmtUnfSF'\n",
      " 'TotalBsmtSF' 'BsmtFullBath' 'BsmtHalfBath' 'GarageYrBlt' 'GarageCars'\n",
      " 'GarageArea']\n"
     ]
    }
   ],
   "source": [
    "# check datatype\n",
    "float_cols = all_df.select_dtypes(['float64']).columns.values\n",
    "## ref.\n",
    "## float_cols = list(set(train_df.select_dtypes(['float64']).columns.values).union(set(test_df.select_dtypes(['float64']).columns.values)))\n",
    "print(float_cols)"
   ]
  },
  {
   "cell_type": "code",
   "execution_count": 74,
   "metadata": {
    "autoscroll": false,
    "collapsed": false,
    "ein.tags": "worksheet-0",
    "slideshow": {
     "slide_type": "-"
    }
   },
   "outputs": [
    {
     "name": "stdout",
     "output_type": "stream",
     "text": [
      "[]\n"
     ]
    }
   ],
   "source": [
    "# check datatype\n",
    "print(all_df.select_dtypes(exclude=['int64', 'object', 'float64']).columns.values)\n",
    "## ref.\n",
    "## print(train_df.select_dtypes(exclude=['int64', 'object', 'float64']).columns.values)\n",
    "## print(test_df.select_dtypes(exclude=['int64', 'object', 'float64']).columns.values)"
   ]
  },
  {
   "cell_type": "code",
   "execution_count": 75,
   "metadata": {
    "autoscroll": false,
    "collapsed": false,
    "ein.tags": "worksheet-0",
    "slideshow": {
     "slide_type": "-"
    }
   },
   "outputs": [
    {
     "name": "stdout",
     "output_type": "stream",
     "text": [
      "train\n",
      "PoolQC          0.995205\n",
      "MiscFeature     0.963014\n",
      "Alley           0.937671\n",
      "Fence           0.807534\n",
      "FireplaceQu     0.472603\n",
      "LotFrontage     0.177397\n",
      "GarageYrBlt     0.055479\n",
      "GarageType      0.055479\n",
      "GarageFinish    0.055479\n",
      "GarageQual      0.055479\n",
      "GarageCond      0.055479\n",
      "BsmtFinType2    0.026027\n",
      "BsmtExposure    0.026027\n",
      "BsmtFinType1    0.025342\n",
      "BsmtCond        0.025342\n",
      "BsmtQual        0.025342\n",
      "MasVnrArea      0.005479\n",
      "MasVnrType      0.005479\n",
      "Electrical      0.000685\n",
      "dtype: float64\n",
      "test\n",
      "PoolQC          0.997944\n",
      "MiscFeature     0.965045\n",
      "Alley           0.926662\n",
      "Fence           0.801234\n",
      "FireplaceQu     0.500343\n",
      "LotFrontage     0.155586\n",
      "GarageYrBlt     0.053461\n",
      "GarageCond      0.053461\n",
      "GarageQual      0.053461\n",
      "GarageFinish    0.053461\n",
      "GarageType      0.052090\n",
      "BsmtCond        0.030843\n",
      "BsmtExposure    0.030158\n",
      "BsmtQual        0.030158\n",
      "BsmtFinType1    0.028787\n",
      "BsmtFinType2    0.028787\n",
      "MasVnrType      0.010966\n",
      "MasVnrArea      0.010281\n",
      "MSZoning        0.002742\n",
      "BsmtFullBath    0.001371\n",
      "BsmtHalfBath    0.001371\n",
      "Utilities       0.001371\n",
      "Functional      0.001371\n",
      "Exterior2nd     0.000685\n",
      "Exterior1st     0.000685\n",
      "SaleType        0.000685\n",
      "BsmtFinSF1      0.000685\n",
      "BsmtFinSF2      0.000685\n",
      "BsmtUnfSF       0.000685\n",
      "KitchenQual     0.000685\n",
      "GarageCars      0.000685\n",
      "GarageArea      0.000685\n",
      "TotalBsmtSF     0.000685\n",
      "dtype: float64\n"
     ]
    }
   ],
   "source": [
    "# check null\n",
    "for name,df in dfd.items():\n",
    "    print(name)\n",
    "    isnull_ratio = df.isnull().sum()/df.isnull().count()\n",
    "    print(isnull_ratio[isnull_ratio != 0].sort_values(ascending=False))"
   ]
  },
  {
   "cell_type": "code",
   "execution_count": 76,
   "metadata": {
    "autoscroll": false,
    "collapsed": false,
    "ein.tags": "worksheet-0",
    "slideshow": {
     "slide_type": "-"
    }
   },
   "outputs": [
    {
     "name": "stdout",
     "output_type": "stream",
     "text": [
      "Series([], dtype: int64)\n"
     ]
    }
   ],
   "source": [
    "# drop data with too many nulls\n",
    "all_df = all_df.drop([\"Alley\", \"FireplaceQu\", \"PoolQC\", \"Fence\", \"MiscFeature\"], axis=1)\n",
    "int_cols = all_df.select_dtypes(['int64']).columns.values\n",
    "object_cols = all_df.select_dtypes(['object']).columns.values\n",
    "float_cols = all_df.select_dtypes(['float64']).columns.values\n",
    "\n",
    "# complete data\n",
    "for col in int_cols.tolist() + float_cols.tolist():\n",
    "    all_df[col] = all_df[col].fillna(all_df[col].mean())\n",
    "for col in object_cols:\n",
    "    all_df[col] = all_df[col].fillna(all_df[col].mode()[0])\n",
    "\n",
    "isnull_sum = all_df.isnull().sum()\n",
    "print(isnull_sum[isnull_sum != 0])"
   ]
  },
  {
   "cell_type": "code",
   "execution_count": 77,
   "metadata": {
    "autoscroll": false,
    "collapsed": false,
    "ein.tags": "worksheet-0",
    "slideshow": {
     "slide_type": "-"
    }
   },
   "outputs": [],
   "source": [
    "# check correlation (takes time and requires LabelEncoder)\n",
    "\n",
    "# from sklearn import preprocessing\n",
    "# le = preprocessing.LabelEncoder()\n",
    "# for col in object_cols:\n",
    "#     all_df[col] = le.fit_transform(all_df[col])\n",
    "## ref.\n",
    "## for (name,df_org),(_name,df_obj) in zip(dfd.items(), object_dfd.items()):\n",
    "##     for col in df_obj:\n",
    "##         mapping = dict((v, k) for k,v in enumerate(df_obj[col].unique()))\n",
    "##         df_org[col] = df_org[col].map(mapping).astype(int)\n",
    "\n",
    "# train_x = all_df[:train_df.shape[0]]\n",
    "# for col in train_x:\n",
    "#     sns.jointplot(train_x[col], train_y)\n",
    "#     plt.savefig(\"images/{}.png\".format(col))\n",
    "# plt.show()"
   ]
  },
  {
   "cell_type": "code",
   "execution_count": 78,
   "metadata": {
    "autoscroll": false,
    "collapsed": false,
    "ein.tags": "worksheet-0",
    "slideshow": {
     "slide_type": "-"
    }
   },
   "outputs": [],
   "source": [
    "# check correlation (takes time and requires LabelEncoder)\n",
    "# plt.figure(figsize=(12, 8))\n",
    "# sns.heatmap(train_x.astype(float).corr(), cmap=plt.cm.viridis, annot=False)\n",
    "# plt.savefig(\"images/heat_all.png\".format(col))\n",
    "# plt.show()"
   ]
  },
  {
   "cell_type": "code",
   "execution_count": 79,
   "metadata": {
    "autoscroll": false,
    "collapsed": false,
    "ein.tags": "worksheet-0",
    "slideshow": {
     "slide_type": "-"
    }
   },
   "outputs": [],
   "source": [
    "# check correlation (takes time)\n",
    "# concat_df = pd.concat((train_x, train_y), axis=1)\n",
    "# col_labels = ['Area', 'Type', 'Qual', 'Cond', 'SF']\n",
    "# col_list = []\n",
    "# for label in col_labels:\n",
    "#     cols = [col for col in train_df.columns if label in col]\n",
    "#     cols.append('SalePrice')\n",
    "#     col_list.append(cols)\n",
    "# df_list = []\n",
    "# tmp_df = concat_df\n",
    "# for cols in col_list:\n",
    "#     df_list.append(concat_df[cols])\n",
    "#     tmp_df = tmp_df.drop(cols, axis=1, errors='ignore')\n",
    "# df_list.append(tmp_df)\n",
    "# for df in df_list:\n",
    "#     sns.heatmap(df.astype(float).corr(), cmap=plt.cm.viridis, annot=False)\n",
    "#     plt.show()"
   ]
  },
  {
   "cell_type": "code",
   "execution_count": 80,
   "metadata": {
    "autoscroll": false,
    "collapsed": false,
    "ein.tags": "worksheet-0",
    "slideshow": {
     "slide_type": "-"
    }
   },
   "outputs": [
    {
     "name": "stdout",
     "output_type": "stream",
     "text": [
      "   MSSubClass  LotFrontage  LotArea  OverallQual  OverallCond  YearBuilt  YearRemodAdd  \\\n",
      "0          60         65.0     8450            7            5       2003          2003   \n",
      "1          20         80.0     9600            6            8       1976          1976   \n",
      "2          60         68.0    11250            7            5       2001          2002   \n",
      "3          70         60.0     9550            7            5       1915          1970   \n",
      "4          60         84.0    14260            8            5       2000          2000   \n",
      "\n",
      "   MasVnrArea  BsmtFinSF1  BsmtFinSF2          ...            SaleType_ConLw  SaleType_New  \\\n",
      "0       196.0       706.0         0.0          ...                         0             0   \n",
      "1         0.0       978.0         0.0          ...                         0             0   \n",
      "2       162.0       486.0         0.0          ...                         0             0   \n",
      "3         0.0       216.0         0.0          ...                         0             0   \n",
      "4       350.0       655.0         0.0          ...                         0             0   \n",
      "\n",
      "   SaleType_Oth  SaleType_WD  SaleCondition_Abnorml  SaleCondition_AdjLand  SaleCondition_Alloca  \\\n",
      "0             0            1                      0                      0                     0   \n",
      "1             0            1                      0                      0                     0   \n",
      "2             0            1                      0                      0                     0   \n",
      "3             0            1                      1                      0                     0   \n",
      "4             0            1                      0                      0                     0   \n",
      "\n",
      "   SaleCondition_Family  SaleCondition_Normal  SaleCondition_Partial  \n",
      "0                     0                     1                      0  \n",
      "1                     0                     1                      0  \n",
      "2                     0                     1                      0  \n",
      "3                     0                     0                      0  \n",
      "4                     0                     1                      0  \n",
      "\n",
      "[5 rows x 270 columns]\n"
     ]
    }
   ],
   "source": [
    "# change categorical values to dummy variable(vector)\n",
    "# get_dummies is better than LabelEncoder for learning\n",
    "all_df = pd.get_dummies(all_df)\n",
    "print(all_df.head())"
   ]
  },
  {
   "cell_type": "code",
   "execution_count": 81,
   "metadata": {
    "autoscroll": false,
    "collapsed": false,
    "ein.tags": "worksheet-0",
    "slideshow": {
     "slide_type": "-"
    }
   },
   "outputs": [
    {
     "name": "stdout",
     "output_type": "stream",
     "text": [
      "SalePrice                1.000000\n",
      "OverallQual              0.790982\n",
      "GrLivArea                0.708624\n",
      "GarageCars               0.640409\n",
      "GarageArea               0.623431\n",
      "TotalBsmtSF              0.613581\n",
      "1stFlrSF                 0.605852\n",
      "FullBath                 0.560664\n",
      "BsmtQual_Ex              0.553105\n",
      "TotRmsAbvGrd             0.533723\n",
      "YearBuilt                0.522897\n",
      "YearRemodAdd             0.507101\n",
      "KitchenQual_Ex           0.504094\n",
      "Foundation_PConc         0.497734\n",
      "MasVnrArea               0.475210\n",
      "GarageYrBlt              0.471062\n",
      "Fireplaces               0.466929\n",
      "ExterQual_Gd             0.452466\n",
      "ExterQual_Ex             0.451164\n",
      "BsmtFinType1_GLQ         0.434597\n",
      "HeatingQC_Ex             0.434543\n",
      "GarageFinish_Fin         0.419678\n",
      "Neighborhood_NridgHt     0.402149\n",
      "BsmtFinSF1               0.386420\n",
      "SaleType_New             0.357509\n",
      "SaleCondition_Partial    0.352060\n",
      "LotFrontage              0.334820\n",
      "MasVnrType_Stone         0.330476\n",
      "Neighborhood_NoRidge     0.330424\n",
      "WoodDeckSF               0.324413\n",
      "KitchenQual_Gd           0.321641\n",
      "2ndFlrSF                 0.319334\n",
      "OpenPorchSF              0.315856\n",
      "BsmtExposure_Gd          0.307298\n",
      "Exterior2nd_VinylSd      0.306389\n",
      "Exterior1st_VinylSd      0.305009\n",
      "HalfBath                 0.284108\n",
      "LotArea                  0.263843\n",
      "CentralAir_Y             0.251328\n",
      "MSZoning_RL              0.245063\n",
      "HouseStyle_2Story        0.242880\n",
      "Electrical_SBrkr         0.242357\n",
      "RoofStyle_Hip            0.235897\n",
      "GarageType_BuiltIn       0.235449\n",
      "BsmtQual_Gd              0.234822\n",
      "GarageType_Attchd        0.232192\n",
      "PavedDrive_Y             0.231968\n",
      "BsmtFullBath             0.227122\n",
      "LotShape_IR1             0.223284\n",
      "Neighborhood_StoneBr     0.215363\n",
      "                           ...   \n",
      "MSZoning_C (all)        -0.111257\n",
      "Neighborhood_MeadowV    -0.112544\n",
      "BldgType_Duplex         -0.114655\n",
      "ExterQual_Fa            -0.115149\n",
      "Condition1_Feedr        -0.117329\n",
      "SaleCondition_Abnorml   -0.118069\n",
      "Foundation_Slab         -0.119740\n",
      "Electrical_FuseF        -0.126601\n",
      "Neighborhood_Sawyer     -0.128394\n",
      "EnclosedPorch           -0.128578\n",
      "BsmtQual_Fa             -0.128725\n",
      "GarageCond_Fa           -0.130774\n",
      "BsmtCond_Fa             -0.132739\n",
      "BsmtFinType1_BLQ        -0.132914\n",
      "BsmtFinType1_Unf        -0.133001\n",
      "GarageQual_Fa           -0.133142\n",
      "HeatingQC_Fa            -0.133758\n",
      "HeatingQC_Gd            -0.134722\n",
      "BsmtFinType1_Rec        -0.135667\n",
      "KitchenAbvGr            -0.135907\n",
      "ExterCond_Fa            -0.137914\n",
      "Neighborhood_BrkSide    -0.143648\n",
      "SaleCondition_Normal    -0.153990\n",
      "KitchenQual_Fa          -0.157199\n",
      "Exterior1st_Wd Sdng     -0.158619\n",
      "Exterior2nd_Wd Sdng     -0.161800\n",
      "Exterior2nd_MetalSd     -0.162389\n",
      "HouseStyle_1.5Fin       -0.163466\n",
      "Neighborhood_IDOTRR     -0.164056\n",
      "Exterior1st_MetalSd     -0.167068\n",
      "Neighborhood_Edwards    -0.179949\n",
      "Neighborhood_NAmes      -0.188513\n",
      "Neighborhood_OldTown    -0.192189\n",
      "Electrical_FuseA        -0.193978\n",
      "Foundation_BrkTil       -0.204117\n",
      "PavedDrive_N            -0.212630\n",
      "RoofStyle_Gable         -0.224744\n",
      "SaleType_WD             -0.242598\n",
      "CentralAir_N            -0.251328\n",
      "LotShape_Reg            -0.267672\n",
      "MSZoning_RM             -0.288065\n",
      "HeatingQC_TA            -0.312677\n",
      "BsmtExposure_No         -0.319990\n",
      "Foundation_CBlock       -0.343263\n",
      "GarageType_Detchd       -0.354141\n",
      "MasVnrType_None         -0.367456\n",
      "BsmtQual_TA             -0.498545\n",
      "GarageFinish_Unf        -0.513906\n",
      "KitchenQual_TA          -0.519298\n",
      "ExterQual_TA            -0.589044\n",
      "Name: SalePrice, Length: 271, dtype: float64\n"
     ]
    }
   ],
   "source": [
    "# check correlation\n",
    "train_x = all_df[:train_df.shape[0]]\n",
    "concat_df = pd.concat((train_x, train_y), axis=1)\n",
    "print(concat_df.astype(float).corr()['SalePrice'].sort_values(ascending=False))"
   ]
  },
  {
   "cell_type": "code",
   "execution_count": 82,
   "metadata": {
    "autoscroll": false,
    "collapsed": false,
    "ein.tags": "worksheet-0",
    "slideshow": {
     "slide_type": "-"
    }
   },
   "outputs": [],
   "source": [
    "# remove outlier\n",
    "outlier_index = train_df[(train_df['GrLivArea']>4000) & (train_df['SalePrice']<300000)].index\n",
    "train_x = all_df[:train_x.shape[0]]\n",
    "test_x = all_df[train_x.shape[0]:]\n",
    "train_x = train_x.drop(outlier_index)\n",
    "train_id = train_id.drop(outlier_index)\n",
    "train_y = train_y.drop(outlier_index)\n",
    "all_df = pd.concat((train_x, test_x))"
   ]
  },
  {
   "cell_type": "code",
   "execution_count": 83,
   "metadata": {
    "autoscroll": false,
    "collapsed": false,
    "ein.tags": "worksheet-0",
    "slideshow": {
     "slide_type": "-"
    }
   },
   "outputs": [
    {
     "data": {
      "image/png": "[encoded data removed]",
      "text/plain": [
       "<matplotlib.figure.Figure at 0x7f966daa0160>"
      ]
     },
     "metadata": {},
     "output_type": "display_data"
    },
    {
     "ename": "TypeError",
     "evalue": "tuple indices must be integers or slices, not float",
     "output_type": "error",
     "traceback": [
      "\u001b[0;31m\u001b[0m",
      "\u001b[0;31mTypeError\u001b[0mTraceback (most recent call last)",
      "\u001b[0;32m<ipython-input-83-4ac4bbb15582>\u001b[0m in \u001b[0;36m<module>\u001b[0;34m()\u001b[0m\n\u001b[1;32m      8\u001b[0m \u001b[0mprices\u001b[0m\u001b[0;34m.\u001b[0m\u001b[0mhist\u001b[0m\u001b[0;34m(\u001b[0m\u001b[0;34m)\u001b[0m\u001b[0;34m\u001b[0m\u001b[0m\n\u001b[1;32m      9\u001b[0m \u001b[0mplt\u001b[0m\u001b[0;34m.\u001b[0m\u001b[0mshow\u001b[0m\u001b[0;34m(\u001b[0m\u001b[0;34m)\u001b[0m\u001b[0;34m\u001b[0m\u001b[0m\n\u001b[0;32m---> 10\u001b[0;31m \u001b[0mprint\u001b[0m\u001b[0;34m(\u001b[0m\u001b[0;34m'price: {}, log(price+1): {}, boxcox(price+1): {}'\u001b[0m\u001b[0;34m.\u001b[0m\u001b[0mformat\u001b[0m\u001b[0;34m(\u001b[0m\u001b[0mskew\u001b[0m\u001b[0;34m(\u001b[0m\u001b[0mtrain_y\u001b[0m\u001b[0;34m)\u001b[0m\u001b[0;34m,\u001b[0m \u001b[0mskew\u001b[0m\u001b[0;34m(\u001b[0m\u001b[0mprice_log1p\u001b[0m\u001b[0;34m,\u001b[0m \u001b[0mskew\u001b[0m\u001b[0;34m(\u001b[0m\u001b[0mprice_boxcox1p\u001b[0m\u001b[0;34m)\u001b[0m\u001b[0;34m)\u001b[0m\u001b[0;34m)\u001b[0m\u001b[0;34m)\u001b[0m\u001b[0;34m\u001b[0m\u001b[0m\n\u001b[0m\u001b[1;32m     11\u001b[0m \u001b[0mtrain_y\u001b[0m \u001b[0;34m=\u001b[0m \u001b[0mprice_boxcox1p\u001b[0m\u001b[0;34m\u001b[0m\u001b[0m\n\u001b[1;32m     12\u001b[0m \u001b[0;34m\u001b[0m\u001b[0m\n",
      "\u001b[0;32m~/.pyenv/versions/anaconda3-5.0.0/lib/python3.6/site-packages/scipy/stats/stats.py\u001b[0m in \u001b[0;36mskew\u001b[0;34m(a, axis, bias, nan_policy)\u001b[0m\n\u001b[1;32m   1017\u001b[0m     \"\"\"\n\u001b[1;32m   1018\u001b[0m     \u001b[0ma\u001b[0m\u001b[0;34m,\u001b[0m \u001b[0maxis\u001b[0m \u001b[0;34m=\u001b[0m \u001b[0m_chk_asarray\u001b[0m\u001b[0;34m(\u001b[0m\u001b[0ma\u001b[0m\u001b[0;34m,\u001b[0m \u001b[0maxis\u001b[0m\u001b[0;34m)\u001b[0m\u001b[0;34m\u001b[0m\u001b[0m\n\u001b[0;32m-> 1019\u001b[0;31m     \u001b[0mn\u001b[0m \u001b[0;34m=\u001b[0m \u001b[0ma\u001b[0m\u001b[0;34m.\u001b[0m\u001b[0mshape\u001b[0m\u001b[0;34m[\u001b[0m\u001b[0maxis\u001b[0m\u001b[0;34m]\u001b[0m\u001b[0;34m\u001b[0m\u001b[0m\n\u001b[0m\u001b[1;32m   1020\u001b[0m \u001b[0;34m\u001b[0m\u001b[0m\n\u001b[1;32m   1021\u001b[0m     \u001b[0mcontains_nan\u001b[0m\u001b[0;34m,\u001b[0m \u001b[0mnan_policy\u001b[0m \u001b[0;34m=\u001b[0m \u001b[0m_contains_nan\u001b[0m\u001b[0;34m(\u001b[0m\u001b[0ma\u001b[0m\u001b[0;34m,\u001b[0m \u001b[0mnan_policy\u001b[0m\u001b[0;34m)\u001b[0m\u001b[0;34m\u001b[0m\u001b[0m\n",
      "\u001b[0;31mTypeError\u001b[0m: tuple indices must be integers or slices, not float"
     ]
    }
   ],
   "source": [
    "# check skewness\n",
    "from scipy.stats import skew\n",
    "from scipy.special import boxcox1p\n",
    "price_log1p = np.log1p(train_y)\n",
    "lmbda = 0.15\n",
    "price_boxcox1p = boxcox1p(train_y, lmbda)\n",
    "prices = pd.DataFrame({'price': train_y, 'log(price+1)': price_log1p, 'boxcox(price+1)': price_boxcox1p})\n",
    "prices.hist()\n",
    "plt.show()\n",
    "print('price: {}, log(price+1): {}, boxcox(price+1): {}'.format(skew(train_y), skew(price_log1p, skew(price_boxcox1p))))\n",
    "train_y = price_boxcox1p\n",
    "\n",
    "numerical_df = all_df[int_cols.tolist()+float_cols.tolist()]\n",
    "skewness = numerical_df.apply(lambda x: skew(x.dropna()))\n",
    "print(skewness)"
   ]
  },
  {
   "cell_type": "code",
   "execution_count": null,
   "metadata": {
    "autoscroll": false,
    "collapsed": false,
    "ein.tags": "worksheet-0",
    "slideshow": {
     "slide_type": "-"
    }
   },
   "outputs": [],
   "source": [
    "# fix skewness\n",
    "skewed_features = skewness[skewness > 0.75].index.values.tolist()\n",
    "#all_df[skewed_features] = np.log1p(all_df[skewed_features])\n",
    "all_df[skewed_features] = boxcox1p(all_df[skewed_features], 0.15)\n",
    "\n",
    "numerical_df = all_df[int_cols.tolist()+float_cols.tolist()]\n",
    "skewness = numerical_df.apply(lambda x: skew(x.dropna()))\n",
    "print(skewness)"
   ]
  },
  {
   "cell_type": "code",
   "execution_count": null,
   "metadata": {
    "autoscroll": false,
    "collapsed": false,
    "ein.tags": "worksheet-0",
    "slideshow": {
     "slide_type": "-"
    }
   },
   "outputs": [],
   "source": [
    "# normalize (became worse)\n",
    "# from sklearn.preprocessing import MinMaxScaler\n",
    "# ms = MinMaxScaler()\n",
    "# all_df[int_cols.tolist()+float_cols.tolist()] = ms.fit_transform(all_df[int_cols.tolist()+float_cols.tolist()])\n",
    "## ref.\n",
    "## all_df[int_cols.tolist()+float_cols.tolist()] = all_df[int_cols.tolist()+float_cols.tolist()].apply(lambda x: (x-x.min())/(x.max()-x.min()), axis=0)"
   ]
  },
  {
   "cell_type": "code",
   "execution_count": null,
   "metadata": {
    "autoscroll": false,
    "collapsed": false,
    "ein.tags": "worksheet-0",
    "slideshow": {
     "slide_type": "-"
    }
   },
   "outputs": [],
   "source": [
    "# feature engineering (became worse)\n",
    "# all_df['TotalSF'] = all_df['TotalBsmtSF'] + all_df['1stFlrSF'] + all_df['2ndFlrSF']\n",
    "# all_df = all_df.drop(['TotalBsmtSF'], axis=1)\n",
    "# all_df = all_df.drop(['1stFlrSF'], axis=1)\n",
    "# all_df = all_df.drop(['2ndFlrSF'], axis=1)"
   ]
  },
  {
   "cell_type": "code",
   "execution_count": null,
   "metadata": {
    "autoscroll": false,
    "collapsed": false,
    "ein.tags": "worksheet-0",
    "slideshow": {
     "slide_type": "-"
    }
   },
   "outputs": [],
   "source": [
    "# check band (takes time)\n",
    "# train_x = all_df[:train_df.shape[0]]\n",
    "# concat_df = pd.concat((train_x, train_y), axis=1)\n",
    "# for col in np.delete(concat_df.columns.values, -1):\n",
    "#     concat_df[col] = pd.qcut(concat_df[col], 5, duplicates='drop')\n",
    "#     print(concat_df[[col, 'SalePrice']].groupby([col], as_index=False).mean().sort_values(by=col, ascending=True))"
   ]
  },
  {
   "cell_type": "code",
   "execution_count": null,
   "metadata": {
    "autoscroll": false,
    "collapsed": false,
    "ein.tags": "worksheet-0",
    "slideshow": {
     "slide_type": "-"
    }
   },
   "outputs": [],
   "source": [
    "# apply banding (became worse)\n",
    "# band_dict = {\n",
    "#     # 'GrLivArea': [-1, 1066.6, 1339.0, 1578.0, 1869.0, 9999999999],\n",
    "#     # 'GarageArea': [-1, 295.6, 440.0, 516.0, 620.2, 9999999999],\n",
    "#     # 'TotalBsmtSF': [-1, 756, 910, 1088, 1391, 9999999999],\n",
    "#     # '1stFlrSF': [-1, 848.0, 1000.2, 1182.0, 1482.4, 9999999999],\n",
    "#     # 'LotArea': [-1, 7078, 8793, 10198, 12205, 9999999999],\n",
    "#     # 'BsmtUnfSF': [-1, 172.0, 374.6, 604.4, 896.0, 9999999999],\n",
    "#     # 'BsmtFinSF1': [-1, 218.6, 525.6, 806.4, 9999999999],\n",
    "#     # '2ndFlrSF': [-1, 455.4, 672.0, 796.2, 954.2, 9999999999],\n",
    "#     # 'OpenPorchSF': [-1, 25.0, 40.0, 57.0, 83.2, 130.0, 9999999999],\n",
    "#     # 'MSSubClass': [-1, 30.0, 60.0, 80.0, 9999999999],\n",
    "#     # 'BsmtUnfSF': [-1, 172.0, 374.6, 604.4, 896.0, 9999999999],\n",
    "#     # 'MasVnrArea': [-1, 25.2, 116.0, 205.2, 335.0, 9999999999],\n",
    "#     'LotFrontage': [-1, 59.0, 68.0, 70.05, 80.0, 9999999999],\n",
    "#     }\n",
    "# for col,band in band_dict.items():\n",
    "#     for i in range(len(band)-1):\n",
    "#         all_df.loc[(all_df[col] > band[i]) & (all_df[col] <= band[i+1]), col] = i\n",
    "#     print(col, all_df[col].head(3))"
   ]
  },
  {
   "cell_type": "code",
   "execution_count": null,
   "metadata": {
    "autoscroll": false,
    "collapsed": false,
    "ein.tags": "worksheet-0",
    "slideshow": {
     "slide_type": "-"
    }
   },
   "outputs": [],
   "source": [
    "# prepare for learning, prediction and validation\n",
    "train_x = all_df[:train_x.shape[0]]\n",
    "test_x = all_df[train_x.shape[0]:]\n",
    "print(train_x.head())\n",
    "print(test_x.head())"
   ]
  },
  {
   "cell_type": "code",
   "execution_count": null,
   "metadata": {
    "autoscroll": false,
    "collapsed": false,
    "ein.tags": "worksheet-0",
    "slideshow": {
     "slide_type": "-"
    }
   },
   "outputs": [],
   "source": [
    "# grid search on ridge parameter\n",
    "from sklearn.linear_model import Ridge\n",
    "from sklearn.model_selection import GridSearchCV, cross_val_score, KFold\n",
    "\n",
    "tuned_parameters = [{'alpha': [0.01, 0.1, 0.1, 1, 10, 100, 1000]}]\n",
    "ridge = Ridge(max_iter=10**5)\n",
    "clf = GridSearchCV(ridge, tuned_parameters, cv=5, scoring='neg_mean_squared_error')\n",
    "clf.fit(train_x, train_y)\n",
    "print(clf.best_score_, clf.best_params_)\n",
    "results = clf.cv_results_\n",
    "for mean, std, params in zip(results['mean_test_score'], results['std_test_score'], results['params']):\n",
    "    print(\"{:0.3f} (+/-{:0.03f} for {}\".format(mean, std, params))"
   ]
  },
  {
   "cell_type": "code",
   "execution_count": null,
   "metadata": {
    "autoscroll": false,
    "collapsed": false,
    "ein.tags": "worksheet-0",
    "slideshow": {
     "slide_type": "-"
    }
   },
   "outputs": [],
   "source": [
    "# grid search on xgboost\n",
    "import xgboost as xgb\n",
    "dtrain = xgb.DMatrix(train_x, label=train_y)\n",
    "dtest = xgb.DMatrix(test_x)\n",
    "params = {\"max_depth\": 2, \"eta\": 0.1}\n",
    "xgb_model = xgb.cv(params, dtrain, num_boost_round=500, early_stopping_rounds=100)\n",
    "xgb_model.loc[30:, [\"test-rmse_mean\", \"train-rmse-mean\"]].plot()\n",
    "plt.show()"
   ]
  },
  {
   "cell_type": "code",
   "execution_count": null,
   "metadata": {
    "autoscroll": false,
    "collapsed": false,
    "ein.tags": "worksheet-0",
    "slideshow": {
     "slide_type": "-"
    }
   },
   "outputs": [],
   "source": [
    "# cross validation\n",
    "from sklearn.linear_model import LinearRegression, Ridge, Lasso, ElasticNet, BayesianRidge, LassoLarsIC   # , LassoCV, ElasticNetCV\n",
    "from sklearn.ensemble import RandomForestRegressor, GradientBoostingRegressor\n",
    "from sklearn.kernel_ridge import KernelRidge\n",
    "from sklearn.pipeline import make_pipeline\n",
    "from sklearn.preprocessing import RobustScaler\n",
    "from sklearn.base import BaseEstimator, TransformerMixin, RegressorMixin, clone\n",
    "import lightgbm as lgb\n",
    "#from sklearn.svm import LinearSVR, SVR\n",
    "from sklearn.model_selection import KFold, cross_validate\n",
    "\n",
    "svr_params = {\n",
    "    'kernel' : 'rbf',\n",
    "    'C' : 1,\n",
    "    'gamma' : 0.1\n",
    "}\n",
    "\n",
    "models = []\n",
    "lr_model = LinearRegression()\n",
    "models.append(('linear_regression', lr_model))\n",
    "ridge_model = Ridge(max_iter=10**5, alpha=10)\n",
    "models.append(('ridge', ridge_model))\n",
    "lasso_model = make_pipeline(RobustScaler(), Lasso(alpha=0.0005, random_state=1, max_iter=10**5))\n",
    "models.append(('lasso', lasso_model))\n",
    "elasticnet_model = make_pipeline(RobustScaler(), ElasticNet(alpha=0.0005, l1_ratio=0.9, random_state=3, max_iter=10**5))\n",
    "models.append(('elasticnet', elasticnet_model))\n",
    "kr_model = KernelRidge(alpha=0.6, kernel='polynomial', degree=2, coef0=2.5)\n",
    "models.append(('kernel_ridge', kr_model))\n",
    "gb_model = GradientBoostingRegressor(n_estimators=3600, learning_rate=0.05, max_depth=4, max_features='sqrt', min_samples_leaf=15, min_samples_split=10, loss='huber', random_state=5)\n",
    "models.append(('gradient_boost', gb_model))\n",
    "# models.append(('lasso', LassoCV(max_iter=10**5, alphas=[0.01, 0.1, 0.1, 1, 10, 100, 1000])))\n",
    "# models.append(('elasticnet', ElasticNetCV(max_iter=10**5, alphas=[0.01, 0.1, 0.1, 1, 10, 100, 1000])))\n",
    "#models.append(('linear svr', LinearSVR()))\n",
    "#models.append(('svr', SVR(**svr_params)))\n",
    "xgb_model = xgb.XGBRegressor(colsample_bytree=0.4603, gamma=0.0468, learning_rate=0.05, max_depth=3, min_child_weight=1.7817, n_estimators=2200, reg_alpha=0.4640, reg_lambda=0.8571, subsample=0.5213, silent=1)\n",
    "models.append(('xgboost', xgb_model))\n",
    "lgb_model = lgb.LGBMRegressor(objective='regression', num_leaves=5, learning_rate=0.05, n_estimators=720, max_bin=55, bagging_fraction=0.8, bagging_freq=5, feature_fraction=0.2319, feature_fraction_seed=9, bagging_seed=9, min_data_in_leaf=6, min_sum_hessian_in_leaf=11)\n",
    "models.append(('lightgbm', lgb_model))\n",
    "k_fold = KFold(n_splits=3)\n",
    "results = {'model': [], 'test_mean': [], 'test_std': [], 'train_mean': [], 'train_std': []}\n",
    "for name,model in models:\n",
    "    scores = cross_validate(model, train_x, train_y, cv=k_fold, scoring='neg_mean_squared_error')\n",
    "    results['model'].append(name)\n",
    "    results['test_mean'].append(np.mean(scores['test_score']))\n",
    "    results['test_std'].append(np.std(scores['test_score']))\n",
    "    results['train_mean'].append(np.mean(scores['train_score']))\n",
    "    results['train_std'].append(np.std(scores['train_score']))\n",
    "print(pd.DataFrame(results).sort_values(by='test_mean', ascending=False))"
   ]
  },
  {
   "cell_type": "code",
   "execution_count": null,
   "metadata": {
    "autoscroll": false,
    "collapsed": false,
    "ein.tags": "worksheet-0",
    "slideshow": {
     "slide_type": "-"
    }
   },
   "outputs": [],
   "source": [
    "# learn and predict\n",
    "from scipy.special import inv_boxcox1p\n",
    "results = {}\n",
    "for name,model in models:\n",
    "    model.fit(train_x, train_y)\n",
    "    #output = np.expm1(model.predict(test_x))\n",
    "    output = inv_boxcox1p(model.predict(test_x), 0.15)\n",
    "    results[name] = output\n",
    "    submit = pd.DataFrame(data={'Id':test_id, 'SalePrice':output})\n",
    "    #submit.loc[submit['SalePrice'] < 0, 'SalePrice'] = 0\n",
    "    submit.to_csv('{}_submit.csv'.format(name), index=False)\n",
    "    print(name)\n",
    "    print(submit['SalePrice'].describe())\n",
    "    submit['SalePrice'].hist(bins=30)\n",
    "    plt.show()"
   ]
  },
  {
   "cell_type": "code",
   "execution_count": null,
   "metadata": {
    "autoscroll": false,
    "collapsed": false,
    "ein.tags": "worksheet-0",
    "slideshow": {
     "slide_type": "-"
    }
   },
   "outputs": [],
   "source": [
    "# averaging\n",
    "elasticnet_train_y = elasticnet_model.predict(train_x)\n",
    "lightgbm_train_y = lgb_model.predict(train_x)\n",
    "output = 0.7*elasticnet_train_y + 0.3*lightgbm_train_y\n",
    "print(((output - train_y)**2).mean())\n",
    "\n",
    "predictions = pd.DataFrame({'elasticnet': results['elasticnet'], 'lightgbm': results['lightgbm']})\n",
    "predictions.plot(x='elasticnet', y='lightgbm', kind='scatter')\n",
    "plt.show()\n",
    "\n",
    "output = 0.7*results['elasticnet'] + 0.3*results['lightgbm']\n",
    "submit = pd.DataFrame(data={'Id':test_id, 'SalePrice':output})\n",
    "submit.to_csv('lightgbm_elasticnet_submit.csv'.format(name), index=False)"
   ]
  },
  {
   "cell_type": "code",
   "execution_count": null,
   "metadata": {
    "autoscroll": false,
    "collapsed": false,
    "ein.tags": "worksheet-0",
    "slideshow": {
     "slide_type": "-"
    }
   },
   "outputs": [],
   "source": [
    "# stacking\n",
    "base_models = [clone(elasticnet_model), clone(lgb_model), clone(kr_model)]\n",
    "meta_model = clone(xgb_model)\n",
    "kfold = KFold(n_splits=len(base_models), shuffle=True, random_state=156)\n",
    "out_of_fold_predictions = np.zeros((train_y.shape[0], len(base_models)))\n",
    "X, y = train_x.values, train_y.values\n",
    "for i,model in enumerate(base_models):\n",
    "    for train_index,holdout_index in kfold.split(X, y):\n",
    "        model.fit(X[train_index], y[train_index])\n",
    "        out_of_fold_predictions[holdout_index, i] = model.predict(X[holdout_index])\n",
    "meta_model.fit(out_of_fold_predictions, y)\n",
    "\n",
    "out_of_fold_predictions = np.zeros((train_y.shape[0], len(base_models)))\n",
    "for i,model in enumerate(base_models):\n",
    "    out_of_fold_predictions[:, i] = model.predict(train_x)\n",
    "output = meta_model.predict(out_of_fold_predictions)\n",
    "print(((output - train_y)**2).mean())\n",
    "\n",
    "out_of_fold_predictions = np.zeros((test_x.shape[0], len(base_models)))\n",
    "for i,model in enumerate(base_models):\n",
    "    out_of_fold_predictions[:, i] = model.predict(test_x)\n",
    "#output = np.expm1(meta_model.predict(out_of_fold_predictions))\n",
    "output = inv_boxcox1p(meta_model.predict(out_of_fold_predictions), 0.15)\n",
    "submit = pd.DataFrame(data={'Id':test_id, 'SalePrice':output})\n",
    "submit.to_csv('stacking_submit.csv'.format(name), index=False)"
   ]
  },
  {
   "cell_type": "code",
   "execution_count": null,
   "metadata": {
    "autoscroll": false,
    "collapsed": false,
    "ein.tags": "worksheet-0",
    "slideshow": {
     "slide_type": "-"
    }
   },
   "outputs": [],
   "source": [
    "# check the result of ridge regression\n",
    "# check feature importance\n",
    "coef = pd.Series(ridge_model.coef_, index = train_x.columns).sort_values(ascending=False)\n",
    "print(coef)\n",
    "# draw residuals\n",
    "train_preds = ridge_model.predict(train_x)\n",
    "residuals = pd.DataFrame({\"preds\": train_preds, \"residuals\": train_y-train_preds})\n",
    "residuals.plot(x='preds', y='residuals', kind='scatter')\n",
    "plt.show()"
   ]
  },
  {
   "cell_type": "code",
   "execution_count": null,
   "metadata": {
    "autoscroll": false,
    "collapsed": false,
    "ein.tags": "worksheet-0",
    "slideshow": {
     "slide_type": "-"
    }
   },
   "outputs": [],
   "source": [
    "# try neural network (not a scikit-learn estimator, takes time)\n",
    "# from keras.layers import Dense\n",
    "# from keras.models import Sequential\n",
    "# from keras.regularizers import l1\n",
    "# from sklearn.preprocessing import StandardScaler\n",
    "# from sklearn.model_selection import train_test_split\n",
    "# X_train = StandardScaler().fit_transform(train_x)\n",
    "# X_tr, X_val, y_tr, y_val = train_test_split(X_train, train_y, random_state=3)\n",
    "# nn_model = Sequential()\n",
    "# nn_model.add(Dense(1, input_dim=X_train.shape[1], W_regularizer=l1(0.001)))\n",
    "# nn_model.compile(loss='mse', optimizer='adam')\n",
    "# print(nn_model.summary())\n",
    "# hist = nn_model.fit(X_tr, y_tr, validation_data = (X_val, y_val))\n",
    "# print(hist)\n",
    "# output = pd.Series(np.expm1(nn_model.predict(X_val)[:,0]))\n",
    "# submit = pd.DataFrame(data={'Id':test_id, 'SalePrice':output})\n",
    "# submit.to_csv('nn_submit.csv'.format(name), index=False)\n",
    "# output.hist(bins=30)\n",
    "# plt.show()"
   ]
  },
  {
   "cell_type": "code",
   "execution_count": null,
   "metadata": {
    "autoscroll": false,
    "collapsed": false,
    "ein.tags": "worksheet-0",
    "slideshow": {
     "slide_type": "-"
    }
   },
   "outputs": [],
   "source": [
    "!head ridge_submit.csv"
   ]
  }
 ],
 "metadata": {
  "name": "house_prices.ipynb"
 },
 "nbformat": 4,
 "nbformat_minor": 2
}
