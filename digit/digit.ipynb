{
 "cells": [
  {
   "cell_type": "markdown",
   "metadata": {
    "ein.tags": [
     "worksheet-0"
    ],
    "slideshow": {
     "slide_type": "-"
    }
   },
   "source": [
    "- ref. "
   ]
  },
  {
   "cell_type": "code",
   "execution_count": 145,
   "metadata": {
    "autoscroll": "json-false",
    "collapsed": false,
    "ein.tags": [
     "worksheet-0"
    ],
    "slideshow": {
     "slide_type": "-"
    }
   },
   "outputs": [
    {
     "name": "stdout",
     "output_type": "stream",
     "text": [
      "train (20000, 785)\n",
      "   label  pixel0  pixel1  pixel2  pixel3  pixel4  pixel5  pixel6  pixel7  \\\n",
      "0      1       0       0       0       0       0       0       0       0   \n",
      "1      0       0       0       0       0       0       0       0       0   \n",
      "2      1       0       0       0       0       0       0       0       0   \n",
      "3      4       0       0       0       0       0       0       0       0   \n",
      "4      0       0       0       0       0       0       0       0       0   \n",
      "\n",
      "   pixel8    ...     pixel774  pixel775  pixel776  pixel777  pixel778  \\\n",
      "0       0    ...            0         0         0         0         0   \n",
      "1       0    ...            0         0         0         0         0   \n",
      "2       0    ...            0         0         0         0         0   \n",
      "3       0    ...            0         0         0         0         0   \n",
      "4       0    ...            0         0         0         0         0   \n",
      "\n",
      "   pixel779  pixel780  pixel781  pixel782  pixel783  \n",
      "0         0         0         0         0         0  \n",
      "1         0         0         0         0         0  \n",
      "2         0         0         0         0         0  \n",
      "3         0         0         0         0         0  \n",
      "4         0         0         0         0         0  \n",
      "\n",
      "[5 rows x 785 columns]\n",
      "test (28000, 784)\n",
      "   pixel0  pixel1  pixel2  pixel3  pixel4  pixel5  pixel6  pixel7  pixel8  \\\n",
      "0       0       0       0       0       0       0       0       0       0   \n",
      "1       0       0       0       0       0       0       0       0       0   \n",
      "2       0       0       0       0       0       0       0       0       0   \n",
      "3       0       0       0       0       0       0       0       0       0   \n",
      "4       0       0       0       0       0       0       0       0       0   \n",
      "\n",
      "   pixel9    ...     pixel774  pixel775  pixel776  pixel777  pixel778  \\\n",
      "0       0    ...            0         0         0         0         0   \n",
      "1       0    ...            0         0         0         0         0   \n",
      "2       0    ...            0         0         0         0         0   \n",
      "3       0    ...            0         0         0         0         0   \n",
      "4       0    ...            0         0         0         0         0   \n",
      "\n",
      "   pixel779  pixel780  pixel781  pixel782  pixel783  \n",
      "0         0         0         0         0         0  \n",
      "1         0         0         0         0         0  \n",
      "2         0         0         0         0         0  \n",
      "3         0         0         0         0         0  \n",
      "4         0         0         0         0         0  \n",
      "\n",
      "[5 rows x 784 columns]\n",
      "all (48000, 784)\n",
      "   pixel0  pixel1  pixel2  pixel3  pixel4  pixel5  pixel6  pixel7  pixel8  \\\n",
      "0       0       0       0       0       0       0       0       0       0   \n",
      "1       0       0       0       0       0       0       0       0       0   \n",
      "2       0       0       0       0       0       0       0       0       0   \n",
      "3       0       0       0       0       0       0       0       0       0   \n",
      "4       0       0       0       0       0       0       0       0       0   \n",
      "\n",
      "   pixel9    ...     pixel774  pixel775  pixel776  pixel777  pixel778  \\\n",
      "0       0    ...            0         0         0         0         0   \n",
      "1       0    ...            0         0         0         0         0   \n",
      "2       0    ...            0         0         0         0         0   \n",
      "3       0    ...            0         0         0         0         0   \n",
      "4       0    ...            0         0         0         0         0   \n",
      "\n",
      "   pixel779  pixel780  pixel781  pixel782  pixel783  \n",
      "0         0         0         0         0         0  \n",
      "1         0         0         0         0         0  \n",
      "2         0         0         0         0         0  \n",
      "3         0         0         0         0         0  \n",
      "4         0         0         0         0         0  \n",
      "\n",
      "[5 rows x 784 columns]\n"
     ]
    }
   ],
   "source": [
    "# load data\n",
    "import pandas as pd, numpy as np\n",
    "pd.set_option(\"display.width\", 80)\n",
    "pd.set_option(\"display.max_rows\", 20)\n",
    "import seaborn as sns, matplotlib.pyplot as plt\n",
    "import multiprocessing as mp\n",
    "n_cpus = mp.cpu_count()\n",
    "\n",
    "# train_df = pd.read_csv(\"./train.csv\")   # 42000\n",
    "train_df = pd.read_csv(\"./train.csv\", nrows=20000)\n",
    "test_df = pd.read_csv(\"./test.csv\")   # 28000\n",
    "train_num = train_df.shape[0]\n",
    "test_num = test_df.shape[0]\n",
    "train_x = train_df.drop(['label'], axis=1)\n",
    "train_y = train_df[\"label\"]\n",
    "test_x = test_df\n",
    "all_df = pd.concat((train_x, test_df))\n",
    "\n",
    "dfd = {'train': train_df, 'test': test_df, 'all': all_df}\n",
    "for name,df in dfd.items():\n",
    "    print(name, df.shape)\n",
    "    print(df.head())"
   ]
  },
  {
   "cell_type": "code",
   "execution_count": 146,
   "metadata": {
    "autoscroll": "json-false",
    "collapsed": false,
    "ein.tags": [
     "worksheet-0"
    ],
    "slideshow": {
     "slide_type": "-"
    }
   },
   "outputs": [
    {
     "name": "stdout",
     "output_type": "stream",
     "text": [
      "train\n",
      "<class 'pandas.core.frame.DataFrame'>\n",
      "RangeIndex: 20000 entries, 0 to 19999\n",
      "Columns: 785 entries, label to pixel783\n",
      "dtypes: int64(785)\n",
      "memory usage: 119.8 MB\n",
      "None\n",
      "test\n",
      "<class 'pandas.core.frame.DataFrame'>\n",
      "RangeIndex: 28000 entries, 0 to 27999\n",
      "Columns: 784 entries, pixel0 to pixel783\n",
      "dtypes: int64(784)\n",
      "memory usage: 167.5 MB\n",
      "None\n",
      "all\n",
      "<class 'pandas.core.frame.DataFrame'>\n",
      "Int64Index: 48000 entries, 0 to 27999\n",
      "Columns: 784 entries, pixel0 to pixel783\n",
      "dtypes: int64(784)\n",
      "memory usage: 287.5 MB\n",
      "None\n"
     ]
    }
   ],
   "source": [
    "# check data\n",
    "for name,df in dfd.items():\n",
    "    print(name)\n",
    "    print(df.info())\n",
    "    #print(df.describe())   # doesn't show a lot of information"
   ]
  },
  {
   "cell_type": "code",
   "execution_count": 147,
   "metadata": {
    "autoscroll": "json-false",
    "collapsed": false,
    "ein.tags": [
     "worksheet-0"
    ],
    "slideshow": {
     "slide_type": "-"
    }
   },
   "outputs": [
    {
     "name": "stdout",
     "output_type": "stream",
     "text": [
      "Series([], dtype: float64)\n"
     ]
    },
    {
     "name": "stdout",
     "output_type": "stream",
     "text": [
      "Series([], dtype: float64)\n",
      "all\n"
     ]
    },
    {
     "name": "stdout",
     "output_type": "stream",
     "text": [
      "Series([], dtype: float64)\n",
      "test\n"
     ]
    },
    {
     "name": "stdout",
     "output_type": "stream",
     "text": [
      "train\n"
     ]
    }
   ],
   "source": [
    "# check null\n",
    "for name,df in dfd.items():\n",
    "    print(name)\n",
    "    isnull_ratio = df.isnull().sum()/df.isnull().count()\n",
    "    print(isnull_ratio[isnull_ratio != 0].sort_values(ascending=False))"
   ]
  },
  {
   "cell_type": "code",
   "execution_count": 148,
   "metadata": {
    "autoscroll": "json-false",
    "collapsed": false,
    "ein.tags": [
     "worksheet-0"
    ],
    "slideshow": {
     "slide_type": "-"
    }
   },
   "outputs": [],
   "source": [
    "# check correlation (takes time)\n",
    "# -> pixel436 has high correlation with label.. so what?\n",
    "# correlations = train_df.astype(float).corr()['label'].sort_values(ascending=False)\n",
    "# print(correlations.head())\n",
    "# print(correlations.tail())"
   ]
  },
  {
   "cell_type": "code",
   "execution_count": 149,
   "metadata": {
    "autoscroll": "json-false",
    "collapsed": false,
    "ein.tags": [
     "worksheet-0"
    ],
    "slideshow": {
     "slide_type": "-"
    }
   },
   "outputs": [],
   "source": [
    "# check skewness (takes time)\n",
    "# -> pixel367 has high skewness, but log/boxcox transform doesn't help\n",
    "# from scipy.stats import skew\n",
    "# skewness = all_df.apply(lambda x: skew(x)).sort_values(ascending=False)\n",
    "# print(skewness.head())\n",
    "# print(skewness.tail())\n",
    "# all_df['pixel367'].hist(bins=50)\n",
    "# plt.show()"
   ]
  },
  {
   "cell_type": "code",
   "execution_count": 150,
   "metadata": {
    "autoscroll": "json-false",
    "collapsed": false,
    "ein.tags": [
     "worksheet-0"
    ],
    "slideshow": {
     "slide_type": "-"
    }
   },
   "outputs": [
    {
     "name": "stdout",
     "output_type": "stream",
     "text": [
      "decision_tree 0.8189 {}\n"
     ]
    },
    {
     "name": "stdout",
     "output_type": "stream",
     "text": [
      "linear_svc 0.8538 {}\n"
     ]
    },
    {
     "name": "stdout",
     "output_type": "stream",
     "text": [
      "gaussian_naive bayes 0.5606 {}\n"
     ]
    },
    {
     "name": "stdout",
     "output_type": "stream",
     "text": [
      "logistic_regression 0.8562 {}\n"
     ]
    },
    {
     "name": "stdout",
     "output_type": "stream",
     "text": [
      "k-nearest_neighbors 0.9543 {'n_neighbors': 3}\n"
     ]
    },
    {
     "name": "stdout",
     "output_type": "stream",
     "text": [
      "sgd_classifier 0.86715 {'max_iter': 1000, 'tol': 0.001}\n"
     ]
    },
    {
     "name": "stdout",
     "output_type": "stream",
     "text": [
      "perceptron 0.82985 {'max_iter': 1000, 'tol': 0.001}\n"
     ]
    },
    {
     "name": "stdout",
     "output_type": "stream",
     "text": [
      "gradient_boosting 0.9545 {'max_depth': 6, 'min_samples_leaf': 3, 'n_estimators': 1000}\n"
     ]
    },
    {
     "name": "stdout",
     "output_type": "stream",
     "text": [
      "ada_boost 0.71145 {'learning_rate': 0.25, 'n_estimators': 1000}\n"
     ]
    },
    {
     "name": "stdout",
     "output_type": "stream",
     "text": [
      "extra_trees 0.9146 {'max_depth': 8, 'max_features': 'sqrt', 'min_samples_leaf': 2, 'n_estimators': 1000}\n"
     ]
    },
    {
     "name": "stdout",
     "output_type": "stream",
     "text": [
      "random_forest 0.92315 {'max_depth': 8, 'max_features': 'sqrt', 'min_samples_leaf': 2, 'n_estimators': 1000}\n"
     ]
    },
    {
     "name": "stdout",
     "output_type": "stream",
     "text": [
      "svm 0.9645 {'C': 0.01, 'degree': 2.0, 'gamma': 0.001, 'kernel': 'poly'}\n"
     ]
    }
   ],
   "source": [
    "# grid search\n",
    "from sklearn.linear_model import LogisticRegression, Perceptron, SGDClassifier\n",
    "from sklearn.ensemble import RandomForestClassifier, ExtraTreesClassifier, AdaBoostClassifier, GradientBoostingClassifier\n",
    "from sklearn.tree import DecisionTreeClassifier\n",
    "from sklearn.svm import SVC, LinearSVC\n",
    "from sklearn.neighbors import KNeighborsClassifier\n",
    "from sklearn.naive_bayes import GaussianNB\n",
    "from sklearn.model_selection import GridSearchCV\n",
    "train_x = all_df[:train_num]\n",
    "test_x = all_df[train_num:]\n",
    "\n",
    "models = []\n",
    "C_list, gamma_list, degree_list = np.logspace(-2, 0, 3), np.logspace(-3, -1, 3), np.linspace(1, 3, 3)\n",
    "grid = [\n",
    "    {'C': C_list, 'kernel': ['poly'], 'gamma': gamma_list, 'degree': degree_list},\n",
    "    # {'C': C_list, 'kernel': ['sigmoid'], 'gamma': gamma_list},\n",
    "    # {'C': C_list, 'kernel': ['linear']},\n",
    "    # {'C': C_list, 'kernel': ['rbf'], 'gamma': gamma_list},\n",
    "    ]\n",
    "models.append(('svm', GridSearchCV(SVC(), grid, cv=3, n_jobs=n_cpus)))\n",
    "grid = [{'n_estimators': [1000], 'max_depth': [6,7,8], 'min_samples_leaf': [2,3], 'max_features' : ['sqrt']}]\n",
    "models.append(('random_forest', GridSearchCV(RandomForestClassifier(), grid, cv=3, n_jobs=n_cpus)))\n",
    "models.append(('extra_trees', GridSearchCV(ExtraTreesClassifier(), grid, cv=3, n_jobs=n_cpus)))\n",
    "grid = {'n_estimators': [1000], 'learning_rate' : [0.25, 0.5, 0.75]}\n",
    "models.append(('ada_boost', GridSearchCV(AdaBoostClassifier(), grid, cv=3, n_jobs=n_cpus)))\n",
    "grid = {'n_estimators': [1000], 'max_depth': [6,7,8], 'min_samples_leaf': [2,3]}\n",
    "models.append(('gradient_boosting', GridSearchCV(GradientBoostingClassifier(), grid, cv=3, n_jobs=n_cpus)))\n",
    "grid = {'max_iter': [1000], 'tol': [0.001]}\n",
    "models.append(('perceptron', GridSearchCV(Perceptron(max_iter=1000, tol=0.001), grid, cv=3, n_jobs=n_cpus)))\n",
    "models.append(('sgd_classifier', GridSearchCV(SGDClassifier(max_iter=1000, tol=0.001), grid, cv=3, n_jobs=n_cpus)))\n",
    "grid = {'n_neighbors': [2,3,4]}\n",
    "models.append(('k-nearest_neighbors', GridSearchCV(KNeighborsClassifier(), grid, cv=3, n_jobs=n_cpus)))\n",
    "grid = {}\n",
    "models.append(('logistic_regression', GridSearchCV(LogisticRegression(), grid, cv=3, n_jobs=n_cpus)))\n",
    "models.append(('gaussian_naive bayes', GridSearchCV(GaussianNB(), grid, cv=3, n_jobs=n_cpus)))\n",
    "models.append(('linear_svc', GridSearchCV(LinearSVC(), grid, cv=3, n_jobs=n_cpus)))\n",
    "models.append(('decision_tree', GridSearchCV(DecisionTreeClassifier(), grid, cv=3, n_jobs=n_cpus)))\n",
    "\n",
    "params = {}\n",
    "for name,model in models:\n",
    "    model.fit(train_x, train_y)\n",
    "    print(name, model.best_score_, model.best_params_)\n",
    "    params[name] = model.best_params_\n",
    "    # results = model.cv_results_\n",
    "    # for mean, std, params in zip(results['mean_test_score'], results['std_test_score'], results['params']):\n",
    "    #     print(\"{:0.3f} (+/-{:0.03f} for {}\".format(mean, std, params))\n",
    "\n",
    "models = [\n",
    "       ('svm', SVC(**params['svm'])),\n",
    "       ('random_forest', RandomForestClassifier(**params['random_forest'])),\n",
    "       ('extra_trees', ExtraTreesClassifier(**params['extra_trees'])),\n",
    "       ('ada_boost', AdaBoostClassifier(**params['ada_boost'])),\n",
    "       ('gradient_boosting', GradientBoostingClassifier(**params['gradient_boosting'])),\n",
    "       ('perceptron', Perceptron(**params['perceptron'])),\n",
    "       ('sgd_classifier', SGDClassifier(**params['sgd_classifier'])),\n",
    "       ('k-nearest_neighbors', KNeighborsClassifier(**params['k-nearest_neighbors'])),\n",
    "       ('logistic_regression', LogisticRegression(**params['logistic_regression'])),\n",
    "       ('gaussian_naive bayes', GaussianNB(**params['gaussian_naive bayes'])),\n",
    "       ('linear_svc', LinearSVC(**params['linear_svc'])),\n",
    "       ('decision_tree', DecisionTreeClassifier(**params['decision_tree'])),\n",
    "       ]"
   ]
  },
  {
   "cell_type": "code",
   "execution_count": 151,
   "metadata": {
    "autoscroll": "json-false",
    "collapsed": false,
    "ein.tags": [
     "worksheet-0"
    ],
    "slideshow": {
     "slide_type": "-"
    }
   },
   "outputs": [
    {
     "name": "stdout",
     "output_type": "stream",
     "text": [
      "                   model  test_mean  test_std  train_mean  train_std\n",
      "7                    svm   0.963950  0.002717    1.000000   0.000000\n",
      "11     gradient_boosting   0.955100  0.003276    1.000000   0.000000\n",
      "9    k-nearest_neighbors   0.954000  0.000835    0.977825   0.000655\n",
      "6          random_forest   0.922550  0.004791    0.952575   0.001124\n",
      "5            extra_trees   0.914250  0.004660    0.939175   0.000373\n",
      "0             perceptron   0.867700  0.001187    0.891025   0.004880\n",
      "1         sgd_classifier   0.865951  0.008922    0.900500   0.003892\n",
      "3             linear_svc   0.861100  0.004611    0.937500   0.002822\n",
      "10   logistic_regression   0.857900  0.001247    0.974175   0.002991\n",
      "4          decision_tree   0.820500  0.002878    1.000000   0.000000\n",
      "8              ada_boost   0.680353  0.052878    0.691624   0.047616\n",
      "2   gaussian_naive bayes   0.561000  0.009317    0.567750   0.002612\n"
     ]
    }
   ],
   "source": [
    "# cross validation\n",
    "from sklearn.model_selection import KFold, cross_validate\n",
    "from multiprocessing import Manager\n",
    "\n",
    "k_fold = KFold(n_splits=3)\n",
    "with Manager() as manager:\n",
    "    results = manager.list()\n",
    "    def validate_one_model(name, model):\n",
    "         # Multiprocessing-backed parallel loops cannot be nested\n",
    "         scores = cross_validate(model, train_x, train_y, cv=k_fold)\n",
    "         result = {}\n",
    "         result['model'] = name\n",
    "         result['test_mean'] = np.mean(scores['test_score'])\n",
    "         result['test_std'] = np.std(scores['test_score'])\n",
    "         result['train_mean'] = np.mean(scores['train_score'])\n",
    "         result['train_std'] = np.std(scores['train_score'])\n",
    "         results.append(result)\n",
    "    Parallel(n_jobs=n_cpus)(delayed(validate_one_model)(name, model) for name,model in models)\n",
    "    results_merged = {'model': [], 'test_mean': [], 'test_std': [], 'train_mean': [], 'train_std': []}\n",
    "    for result in results:\n",
    "        for k,v in result.items():\n",
    "            results_merged[k].append(v)\n",
    "    print(pd.DataFrame(results_merged).sort_values(by='test_mean', ascending=False))"
   ]
  },
  {
   "cell_type": "code",
   "execution_count": 152,
   "metadata": {
    "autoscroll": "json-false",
    "collapsed": true,
    "ein.tags": [
     "worksheet-0"
    ],
    "slideshow": {
     "slide_type": "-"
    }
   },
   "outputs": [
    {
     "data": {
      "text/plain": [
       "[None, None, None, None, None, None, None, None, None, None, None, None]"
      ]
     },
     "execution_count": 152,
     "metadata": {},
     "output_type": "execute_result"
    },
    {
     "name": "stdout",
     "output_type": "stream",
     "text": [
      "\n"
     ]
    },
    {
     "name": "stdout",
     "output_type": "stream",
     "text": [
      "             precision    recall  f1-score   support\n",
      "\n",
      "          0       1.00      1.00      1.00      1932\n",
      "          1       1.00      1.00      1.00      2266\n",
      "          2       1.00      1.00      1.00      2010\n",
      "          3       1.00      1.00      1.00      2080\n",
      "          4       1.00      1.00      1.00      1971\n",
      "          5       1.00      1.00      1.00      1794\n",
      "          6       1.00      1.00      1.00      1982\n",
      "          7       1.00      1.00      1.00      2070\n",
      "          8       1.00      1.00      1.00      1915\n",
      "          9       1.00      1.00      1.00      1980\n",
      "\n",
      "avg / total       1.00      1.00      1.00     20000\n"
     ]
    },
    {
     "name": "stdout",
     "output_type": "stream",
     "text": [
      "\n"
     ]
    },
    {
     "name": "stdout",
     "output_type": "stream",
     "text": [
      "[[1932    0    0    0    0    0    0    0    0    0]\n",
      " [   0 2266    0    0    0    0    0    0    0    0]\n",
      " [   0    0 2010    0    0    0    0    0    0    0]\n",
      " [   0    0    0 2080    0    0    0    0    0    0]\n",
      " [   0    0    0    0 1971    0    0    0    0    0]\n",
      " [   0    0    0    0    0 1794    0    0    0    0]\n",
      " [   0    0    0    0    0    0 1982    0    0    0]\n",
      " [   0    0    0    0    0    0    0 2070    0    0]\n",
      " [   0    0    0    0    0    0    0    0 1915    0]\n",
      " [   0    0    0    0    0    0    0    0    0 1980]]"
     ]
    },
    {
     "name": "stdout",
     "output_type": "stream",
     "text": [
      "gradient_boosting\n"
     ]
    },
    {
     "name": "stdout",
     "output_type": "stream",
     "text": [
      "\n"
     ]
    },
    {
     "name": "stdout",
     "output_type": "stream",
     "text": [
      "             precision    recall  f1-score   support\n",
      "\n",
      "          0       0.98      1.00      0.99      1932\n",
      "          1       0.97      1.00      0.98      2266\n",
      "          2       0.99      0.97      0.98      2010\n",
      "          3       0.97      0.98      0.98      2080\n",
      "          4       0.99      0.98      0.98      1971\n",
      "          5       0.98      0.97      0.98      1794\n",
      "          6       0.99      0.99      0.99      1982\n",
      "          7       0.98      0.98      0.98      2070\n",
      "          8       0.99      0.95      0.97      1915\n",
      "          9       0.98      0.98      0.98      1980\n",
      "\n",
      "avg / total       0.98      0.98      0.98     20000\n"
     ]
    },
    {
     "name": "stdout",
     "output_type": "stream",
     "text": [
      "\n"
     ]
    },
    {
     "name": "stdout",
     "output_type": "stream",
     "text": [
      "[[1924    1    0    0    0    1    5    0    1    0]\n",
      " [   0 2259    2    0    0    0    0    3    1    1]\n",
      " [   6   17 1952    6    0    0    0   21    6    2]\n",
      " [   2    0   11 2044    0   11    0    2    7    3]\n",
      " [   0   18    0    0 1931    0    2    2    0   18]\n",
      " [   6    2    1   22    1 1746   11    0    2    3]\n",
      " [   2    3    0    0    4    8 1964    0    1    0]\n",
      " [   0   22    4    0    4    0    0 2035    0    5]\n",
      " [  10   16    5   20    5   15    3    4 1825   12]\n",
      " [   5    1    1    7   15    1    0   12    1 1937]]"
     ]
    },
    {
     "name": "stdout",
     "output_type": "stream",
     "text": [
      "k-nearest_neighbors\n"
     ]
    },
    {
     "name": "stdout",
     "output_type": "stream",
     "text": [
      "\n"
     ]
    },
    {
     "name": "stdout",
     "output_type": "stream",
     "text": [
      "             precision    recall  f1-score   support\n",
      "\n",
      "          0       1.00      1.00      1.00      1932\n",
      "          1       1.00      1.00      1.00      2266\n",
      "          2       0.95      0.94      0.95      2010\n",
      "          3       0.93      0.93      0.93      2080\n",
      "          4       0.96      0.97      0.97      1971\n",
      "          5       0.93      0.92      0.93      1794\n",
      "          6       0.98      0.98      0.98      1982\n",
      "          7       0.97      0.96      0.96      2070\n",
      "          8       0.91      0.92      0.92      1915\n",
      "          9       0.93      0.94      0.93      1980\n",
      "\n",
      "avg / total       0.96      0.96      0.96     20000\n"
     ]
    },
    {
     "name": "stdout",
     "output_type": "stream",
     "text": [
      "\n"
     ]
    },
    {
     "name": "stdout",
     "output_type": "stream",
     "text": [
      "[[1931    0    0    0    0    1    0    0    0    0]\n",
      " [   0 2266    0    0    0    0    0    0    0    0]\n",
      " [   0    1 1891   17   15    6    9   17   49    5]\n",
      " [   0    0   38 1931    1   35    5    9   43   18]\n",
      " [   0    0    4    5 1912    3    3    3   10   31]\n",
      " [   0    0    6   48   11 1653   16    3   41   16]\n",
      " [   0    0    3    1    8   17 1944    0    9    0]\n",
      " [   0    1   17    3    4    2    0 1992    5   46]\n",
      " [   0    1   16   49    3   39    9    6 1769   23]\n",
      " [   0    0    6   21   33   13    0   33   15 1859]]"
     ]
    },
    {
     "name": "stdout",
     "output_type": "stream",
     "text": [
      "logistic_regression\n"
     ]
    },
    {
     "name": "stdout",
     "output_type": "stream",
     "text": [
      "\n"
     ]
    },
    {
     "name": "stdout",
     "output_type": "stream",
     "text": [
      "             precision    recall  f1-score   support\n",
      "\n",
      "          0       0.82      0.90      0.86      1932\n",
      "          1       0.82      0.98      0.89      2266\n",
      "          2       0.77      0.47      0.58      2010\n",
      "          3       0.84      0.72      0.77      2080\n",
      "          4       0.72      0.87      0.79      1971\n",
      "          5       0.73      0.59      0.65      1794\n",
      "          6       0.68      0.87      0.76      1982\n",
      "          7       0.92      0.73      0.81      2070\n",
      "          8       0.69      0.79      0.74      1915\n",
      "          9       0.65      0.65      0.65      1980\n",
      "\n",
      "avg / total       0.77      0.76      0.75     20000\n"
     ]
    },
    {
     "name": "stdout",
     "output_type": "stream",
     "text": [
      "\n"
     ]
    },
    {
     "name": "stdout",
     "output_type": "stream",
     "text": [
      "[[1741    0   46    2    2   75   57    0    7    2]\n",
      " [   0 2212    5    6    2   11    3    5   20    2]\n",
      " [  98  157  942   41   57   26  541   31  106   11]\n",
      " [ 116   44   26 1501    8  142   62   14  135   32]\n",
      " [  11    7   25    1 1721    6   33   14   39  114]\n",
      " [ 105   38   12  146   14 1061   81    1  279   57]\n",
      " [  31   43   80    0   40   54 1724    0   10    0]\n",
      " [   3   14   35    8   41   14    0 1501   24  430]\n",
      " [  16  173   14   63   13   47   34    6 1519   30]\n",
      " [  12   16   39   27  478   10    0   59   61 1278]]"
     ]
    },
    {
     "name": "stdout",
     "output_type": "stream",
     "text": [
      "ada_boost\n"
     ]
    },
    {
     "name": "stdout",
     "output_type": "stream",
     "text": [
      "\n"
     ]
    },
    {
     "name": "stdout",
     "output_type": "stream",
     "text": [
      "             precision    recall  f1-score   support\n",
      "\n",
      "          0       1.00      1.00      1.00      1932\n",
      "          1       1.00      1.00      1.00      2266\n",
      "          2       1.00      1.00      1.00      2010\n",
      "          3       1.00      1.00      1.00      2080\n",
      "          4       1.00      1.00      1.00      1971\n",
      "          5       1.00      1.00      1.00      1794\n",
      "          6       1.00      1.00      1.00      1982\n",
      "          7       1.00      1.00      1.00      2070\n",
      "          8       1.00      1.00      1.00      1915\n",
      "          9       1.00      1.00      1.00      1980\n",
      "\n",
      "avg / total       1.00      1.00      1.00     20000\n"
     ]
    },
    {
     "name": "stdout",
     "output_type": "stream",
     "text": [
      "\n"
     ]
    },
    {
     "name": "stdout",
     "output_type": "stream",
     "text": [
      "[[1932    0    0    0    0    0    0    0    0    0]\n",
      " [   0 2266    0    0    0    0    0    0    0    0]\n",
      " [   0    0 2010    0    0    0    0    0    0    0]\n",
      " [   0    0    0 2080    0    0    0    0    0    0]\n",
      " [   0    0    0    0 1971    0    0    0    0    0]\n",
      " [   0    0    0    0    0 1794    0    0    0    0]\n",
      " [   0    0    0    0    0    0 1982    0    0    0]\n",
      " [   0    0    0    0    0    0    0 2070    0    0]\n",
      " [   0    0    0    0    0    0    0    0 1915    0]\n",
      " [   0    0    0    0    0    0    0    0    0 1980]]"
     ]
    },
    {
     "name": "stdout",
     "output_type": "stream",
     "text": [
      "svm\n"
     ]
    },
    {
     "name": "stdout",
     "output_type": "stream",
     "text": [
      "\n"
     ]
    },
    {
     "name": "stdout",
     "output_type": "stream",
     "text": [
      "             precision    recall  f1-score   support\n",
      "\n",
      "          0       0.97      0.99      0.98      1932\n",
      "          1       0.95      0.98      0.97      2266\n",
      "          2       0.95      0.94      0.95      2010\n",
      "          3       0.95      0.93      0.94      2080\n",
      "          4       0.94      0.94      0.94      1971\n",
      "          5       0.97      0.93      0.95      1794\n",
      "          6       0.96      0.98      0.97      1982\n",
      "          7       0.95      0.92      0.94      2070\n",
      "          8       0.94      0.93      0.93      1915\n",
      "          9       0.88      0.92      0.90      1980\n",
      "\n",
      "avg / total       0.95      0.95      0.95     20000\n"
     ]
    },
    {
     "name": "stdout",
     "output_type": "stream",
     "text": [
      "\n"
     ]
    },
    {
     "name": "stdout",
     "output_type": "stream",
     "text": [
      "[[1907    0    0    0    2    1    4    1   17    0]\n",
      " [   0 2230    7    7    1    4    7    3    3    4]\n",
      " [   5    9 1896    8   23    0   15   32   13    9]\n",
      " [   5   13   33 1940    4   18    7   18   19   23]\n",
      " [   0    4    3    0 1843    2   13    5    8   93]\n",
      " [  16   22    2   31    5 1665   20    4   13   16]\n",
      " [   7    7    1    0    7   12 1941    0    7    0]\n",
      " [   1   27   37    3   19    0    0 1911   11   61]\n",
      " [   4   31    5   30    9    5    8    5 1772   46]\n",
      " [  12    8    6   27   44    3    2   30   23 1825]]"
     ]
    },
    {
     "name": "stdout",
     "output_type": "stream",
     "text": [
      "random_forest\n"
     ]
    },
    {
     "name": "stdout",
     "output_type": "stream",
     "text": [
      "\n"
     ]
    },
    {
     "name": "stdout",
     "output_type": "stream",
     "text": [
      "             precision    recall  f1-score   support\n",
      "\n",
      "          0       1.00      1.00      1.00      1932\n",
      "          1       1.00      1.00      1.00      2266\n",
      "          2       1.00      1.00      1.00      2010\n",
      "          3       1.00      1.00      1.00      2080\n",
      "          4       1.00      1.00      1.00      1971\n",
      "          5       1.00      1.00      1.00      1794\n",
      "          6       1.00      1.00      1.00      1982\n",
      "          7       1.00      1.00      1.00      2070\n",
      "          8       1.00      1.00      1.00      1915\n",
      "          9       1.00      1.00      1.00      1980\n",
      "\n",
      "avg / total       1.00      1.00      1.00     20000\n"
     ]
    },
    {
     "name": "stdout",
     "output_type": "stream",
     "text": [
      "\n"
     ]
    },
    {
     "name": "stdout",
     "output_type": "stream",
     "text": [
      "[[1932    0    0    0    0    0    0    0    0    0]\n",
      " [   0 2266    0    0    0    0    0    0    0    0]\n",
      " [   0    0 2010    0    0    0    0    0    0    0]\n",
      " [   0    0    0 2080    0    0    0    0    0    0]\n",
      " [   0    0    0    0 1971    0    0    0    0    0]\n",
      " [   0    0    0    0    0 1794    0    0    0    0]\n",
      " [   0    0    0    0    0    0 1982    0    0    0]\n",
      " [   0    0    0    0    0    0    0 2070    0    0]\n",
      " [   0    0    0    0    0    0    0    0 1915    0]\n",
      " [   0    0    0    0    0    0    0    0    0 1980]]"
     ]
    },
    {
     "name": "stdout",
     "output_type": "stream",
     "text": [
      "decision_tree\n"
     ]
    },
    {
     "name": "stdout",
     "output_type": "stream",
     "text": [
      "\n"
     ]
    },
    {
     "name": "stdout",
     "output_type": "stream",
     "text": [
      "             precision    recall  f1-score   support\n",
      "\n",
      "          0       0.96      0.98      0.97      1932\n",
      "          1       0.91      0.98      0.95      2266\n",
      "          2       0.95      0.92      0.94      2010\n",
      "          3       0.92      0.92      0.92      2080\n",
      "          4       0.93      0.93      0.93      1971\n",
      "          5       0.97      0.89      0.92      1794\n",
      "          6       0.95      0.98      0.96      1982\n",
      "          7       0.92      0.92      0.92      2070\n",
      "          8       0.94      0.90      0.92      1915\n",
      "          9       0.89      0.89      0.89      1980\n",
      "\n",
      "avg / total       0.93      0.93      0.93     20000\n"
     ]
    },
    {
     "name": "stdout",
     "output_type": "stream",
     "text": [
      "\n"
     ]
    },
    {
     "name": "stdout",
     "output_type": "stream",
     "text": [
      "[[1900    0    1    0    1    1   13    1   15    0]\n",
      " [   0 2228    8   10    1    2    5    5    3    4]\n",
      " [   8   23 1856   12   27    0   22   48    8    6]\n",
      " [  11   23   36 1906    5   27    7   17   24   24]\n",
      " [   1   12    4    1 1834    1   12    9    9   88]\n",
      " [  19   35    4   68   17 1589   27   10    9   16]\n",
      " [   9   12    0    0    8    9 1936    2    6    0]\n",
      " [   4   46   37    3   21    0    1 1909    8   41]\n",
      " [   6   51    6   54    8    9   11    9 1714   47]\n",
      " [  15   16    6   27   59    6    2   59   19 1771]]"
     ]
    },
    {
     "name": "stdout",
     "output_type": "stream",
     "text": [
      "extra_trees\n"
     ]
    },
    {
     "name": "stdout",
     "output_type": "stream",
     "text": [
      "\n"
     ]
    },
    {
     "name": "stdout",
     "output_type": "stream",
     "text": [
      "             precision    recall  f1-score   support\n",
      "\n",
      "          0       0.98      0.99      0.98      1932\n",
      "          1       0.98      0.99      0.99      2266\n",
      "          2       0.98      0.80      0.88      2010\n",
      "          3       0.87      0.91      0.89      2080\n",
      "          4       0.94      0.94      0.94      1971\n",
      "          5       0.89      0.80      0.84      1794\n",
      "          6       0.97      0.96      0.96      1982\n",
      "          7       0.90      0.96      0.93      2070\n",
      "          8       0.76      0.90      0.82      1915\n",
      "          9       0.89      0.87      0.88      1980\n",
      "\n",
      "avg / total       0.92      0.91      0.91     20000\n"
     ]
    },
    {
     "name": "stdout",
     "output_type": "stream",
     "text": [
      "\n"
     ]
    },
    {
     "name": "stdout",
     "output_type": "stream",
     "text": [
      "[[1919    0    1    1    1    3    0    0    6    1]\n",
      " [   1 2253    0    0    0    0    1    0   10    1]\n",
      " [   9    9 1613   94   35   30   21   35  157    7]\n",
      " [   2    5   11 1903    4   32    5   11   83   24]\n",
      " [   2    2    3    0 1853    7    1    7   15   81]\n",
      " [   5    5    1  110   11 1440   21    3  163   35]\n",
      " [  11    1    3    1   14   25 1897    3   27    0]\n",
      " [   1    6    5    5   13    1    0 1983   13   43]\n",
      " [   9   19    4   51    5   68    4   22 1714   19]\n",
      " [   7    1    0   14   43   13    1  133   55 1713]]"
     ]
    },
    {
     "name": "stdout",
     "output_type": "stream",
     "text": [
      "linear_svc\n"
     ]
    },
    {
     "name": "stdout",
     "output_type": "stream",
     "text": [
      "\n"
     ]
    },
    {
     "name": "stdout",
     "output_type": "stream",
     "text": [
      "             precision    recall  f1-score   support\n",
      "\n",
      "          0       0.63      0.94      0.76      1932\n",
      "          1       0.76      0.96      0.85      2266\n",
      "          2       0.86      0.24      0.37      2010\n",
      "          3       0.71      0.42      0.53      2080\n",
      "          4       0.84      0.14      0.23      1971\n",
      "          5       0.70      0.09      0.15      1794\n",
      "          6       0.60      0.95      0.74      1982\n",
      "          7       0.91      0.34      0.49      2070\n",
      "          8       0.34      0.60      0.43      1915\n",
      "          9       0.40      0.94      0.56      1980\n",
      "\n",
      "avg / total       0.68      0.57      0.52     20000\n"
     ]
    },
    {
     "name": "stdout",
     "output_type": "stream",
     "text": [
      "\n"
     ]
    },
    {
     "name": "stdout",
     "output_type": "stream",
     "text": [
      "[[1818    3   11    7    3    5   47    0   21   17]\n",
      " [   1 2165    4   10    0    3   32    0   31   20]\n",
      " [ 270   66  476  228    7   11  563    7  352   30]\n",
      " [ 235  132   14  870    3    4  136   12  497  177]\n",
      " [  92   23   17   13  268   25  274   15  356  888]\n",
      " [ 349   60    9   43    6  153  124    2  875  173]\n",
      " [  30   33    6    3    1    6 1883    0   17    3]\n",
      " [  12   26    2   22   17    4   10  702   69 1206]\n",
      " [  48  308    9   22    5    9   55    4 1154  301]\n",
      " [  16   18    7    2    9    0    0   28   37 1863]]"
     ]
    },
    {
     "name": "stdout",
     "output_type": "stream",
     "text": [
      "gaussian_naive bayes\n"
     ]
    },
    {
     "name": "stdout",
     "output_type": "stream",
     "text": [
      "\n"
     ]
    },
    {
     "name": "stdout",
     "output_type": "stream",
     "text": [
      "             precision    recall  f1-score   support\n",
      "\n",
      "          0       0.98      0.98      0.98      1932\n",
      "          1       0.99      0.92      0.96      2266\n",
      "          2       0.97      0.85      0.91      2010\n",
      "          3       0.87      0.87      0.87      2080\n",
      "          4       0.96      0.90      0.93      1971\n",
      "          5       0.94      0.66      0.77      1794\n",
      "          6       0.96      0.96      0.96      1982\n",
      "          7       0.81      0.98      0.89      2070\n",
      "          8       0.67      0.92      0.78      1915\n",
      "          9       0.86      0.82      0.84      1980\n",
      "\n",
      "avg / total       0.90      0.89      0.89     20000\n"
     ]
    },
    {
     "name": "stdout",
     "output_type": "stream",
     "text": [
      "\n"
     ]
    },
    {
     "name": "stdout",
     "output_type": "stream",
     "text": [
      "[[1894    0    1    0    2    8    3    6   14    4]\n",
      " [   0 2090   11    7    0    4    5   28  112    9]\n",
      " [   5    3 1718   59   26    5   15   59  110   10]\n",
      " [   2    0   24 1819    2   13    4   39  154   23]\n",
      " [   0    3    2    6 1772    3    8   45   38   94]\n",
      " [  17    1    5  129    9 1182   31   27  338   55]\n",
      " [  11    1    5    4    5   22 1899    8   27    0]\n",
      " [   0    0    7    3    2    0    0 2021    6   31]\n",
      " [   9    3    3   36    1   19    3   33 1771   37]\n",
      " [   4    0    1   17   26    3    0  228   74 1627]]"
     ]
    },
    {
     "name": "stdout",
     "output_type": "stream",
     "text": [
      "sgd_classifier\n"
     ]
    },
    {
     "name": "stdout",
     "output_type": "stream",
     "text": [
      "\n"
     ]
    },
    {
     "name": "stdout",
     "output_type": "stream",
     "text": [
      "             precision    recall  f1-score   support\n",
      "\n",
      "          0       0.93      0.98      0.95      1932\n",
      "          1       0.96      0.95      0.95      2266\n",
      "          2       0.87      0.88      0.87      2010\n",
      "          3       0.95      0.75      0.84      2080\n",
      "          4       0.85      0.92      0.88      1971\n",
      "          5       0.98      0.57      0.72      1794\n",
      "          6       0.93      0.96      0.94      1982\n",
      "          7       0.74      0.96      0.84      2070\n",
      "          8       0.58      0.94      0.71      1915\n",
      "          9       0.94      0.49      0.64      1980\n",
      "\n",
      "avg / total       0.87      0.84      0.84     20000\n"
     ]
    },
    {
     "name": "stdout",
     "output_type": "stream",
     "text": [
      "\n"
     ]
    },
    {
     "name": "stdout",
     "output_type": "stream",
     "text": [
      "[[1888    1    8    3    2    3   11    2   13    1]\n",
      " [   0 2146   12    2    2    0    7   54   43    0]\n",
      " [  17   13 1766    4   31    2   28   44  104    1]\n",
      " [  23    8  151 1555    9    9   14   48  257    6]\n",
      " [   4    7    5    0 1807    0    5   31   98   14]\n",
      " [  45   16   46   64   66 1016   78   36  403   24]\n",
      " [  17    6   19    0   16    1 1904    5   14    0]\n",
      " [   7    3   16    2   14    0    1 1984   26   17]\n",
      " [  18   31   13   11    9    5   10   22 1793    3]\n",
      " [  16   10    4    2  161    1    0  453  360  973]]"
     ]
    },
    {
     "name": "stdout",
     "output_type": "stream",
     "text": [
      "perceptron\n"
     ]
    }
   ],
   "source": [
    "# learn, predict and report\n",
    "from sklearn.metrics import confusion_matrix, classification_report\n",
    "from sklearn.externals.joblib import Parallel, delayed, dump\n",
    "test_id = np.arange(1, test_num+1)\n",
    "results = {}\n",
    "def process_one_model(name, model):\n",
    "    model.fit(train_x, train_y)\n",
    "    predict_y = model.predict(train_x)\n",
    "    output = model.predict(test_x)\n",
    "    results[name] = output\n",
    "    submit = pd.DataFrame(data={'ImageId':test_id, 'Label':output})\n",
    "    submit.to_csv('{}_submit.csv'.format(name), index=False)\n",
    "    #dump(model, '{}.learn'.format(name))\n",
    "    print(name)\n",
    "    print(confusion_matrix(train_y, predict_y))\n",
    "    print(classification_report(train_y, predict_y))\n",
    "Parallel(n_jobs=n_cpus)(delayed(process_one_model)(name, model) for name,model in models)"
   ]
  },
  {
   "cell_type": "code",
   "execution_count": 153,
   "metadata": {
    "autoscroll": "json-false",
    "collapsed": false,
    "ein.tags": [
     "worksheet-0"
    ],
    "slideshow": {
     "slide_type": "-"
    }
   },
   "outputs": [],
   "source": [
    "# TODO bagging\n",
    "# from sklearn.ensemble import BaggingClassifier"
   ]
  },
  {
   "cell_type": "code",
   "execution_count": 154,
   "metadata": {
    "autoscroll": "json-false",
    "collapsed": false,
    "ein.tags": [
     "worksheet-0"
    ],
    "slideshow": {
     "slide_type": "-"
    }
   },
   "outputs": [],
   "source": [
    "# TODO stacking\n",
    "# from mlxtend.classifier import StackingClassifier"
   ]
  },
  {
   "cell_type": "code",
   "execution_count": 155,
   "metadata": {
    "autoscroll": "json-false",
    "collapsed": false,
    "ein.tags": [
     "worksheet-0"
    ],
    "slideshow": {
     "slide_type": "-"
    }
   },
   "outputs": [
    {
     "name": "stdout",
     "output_type": "stream",
     "text": [
      "ImageId,Label\r\n",
      "1,2\r\n",
      "2,0\r\n",
      "3,9\r\n",
      "4,9\r\n",
      "5,3\r\n",
      "6,7\r\n",
      "7,0\r\n",
      "8,3\r\n",
      "9,0\r\n"
     ]
    }
   ],
   "source": [
    "!head svm_submit.csv"
   ]
  }
 ],
 "metadata": {
  "kernelspec": {
   "display_name": "Python 3",
   "name": "python3"
  },
  "language_info": {
   "codemirror_mode": {
    "name": "ipython",
    "version": 3
   },
   "file_extension": ".py",
   "mimetype": "text/x-python",
   "name": "python",
   "nbconvert_exporter": "python",
   "pygments_lexer": "ipython3",
   "version": "3.6.2"
  },
  "name": "digit.ipynb"
 },
 "nbformat": 4,
 "nbformat_minor": 2
}
