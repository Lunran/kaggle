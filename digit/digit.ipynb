{
 "cells": [
  {
   "cell_type": "markdown",
   "metadata": {
    "ein.tags": "worksheet-0",
    "slideshow": {
     "slide_type": "-"
    }
   },
   "source": [
    "- ref. "
   ]
  },
  {
   "cell_type": "code",
   "execution_count": 15,
   "metadata": {
    "autoscroll": false,
    "collapsed": true,
    "ein.tags": "worksheet-0",
    "slideshow": {
     "slide_type": "-"
    }
   },
   "outputs": [
    {
     "name": "stdout",
     "output_type": "stream",
     "text": [
      "train (1000, 785)\n",
      "   label  pixel0  pixel1  pixel2  pixel3  pixel4  pixel5  pixel6  pixel7  pixel8    ...     \\\n",
      "0      1       0       0       0       0       0       0       0       0       0    ...      \n",
      "1      0       0       0       0       0       0       0       0       0       0    ...      \n",
      "2      1       0       0       0       0       0       0       0       0       0    ...      \n",
      "3      4       0       0       0       0       0       0       0       0       0    ...      \n",
      "4      0       0       0       0       0       0       0       0       0       0    ...      \n",
      "\n",
      "   pixel774  pixel775  pixel776  pixel777  pixel778  pixel779  pixel780  pixel781  pixel782  \\\n",
      "0         0         0         0         0         0         0         0         0         0   \n",
      "1         0         0         0         0         0         0         0         0         0   \n",
      "2         0         0         0         0         0         0         0         0         0   \n",
      "3         0         0         0         0         0         0         0         0         0   \n",
      "4         0         0         0         0         0         0         0         0         0   \n",
      "\n",
      "   pixel783  \n",
      "0         0  \n",
      "1         0  \n",
      "2         0  \n",
      "3         0  \n",
      "4         0  \n",
      "\n",
      "[5 rows x 785 columns]\n",
      "test (28000, 784)\n",
      "   pixel0  pixel1  pixel2  pixel3  pixel4  pixel5  pixel6  pixel7  pixel8  pixel9    ...     \\\n",
      "0       0       0       0       0       0       0       0       0       0       0    ...      \n",
      "1       0       0       0       0       0       0       0       0       0       0    ...      \n",
      "2       0       0       0       0       0       0       0       0       0       0    ...      \n",
      "3       0       0       0       0       0       0       0       0       0       0    ...      \n",
      "4       0       0       0       0       0       0       0       0       0       0    ...      \n",
      "\n",
      "   pixel774  pixel775  pixel776  pixel777  pixel778  pixel779  pixel780  pixel781  pixel782  \\\n",
      "0         0         0         0         0         0         0         0         0         0   \n",
      "1         0         0         0         0         0         0         0         0         0   \n",
      "2         0         0         0         0         0         0         0         0         0   \n",
      "3         0         0         0         0         0         0         0         0         0   \n",
      "4         0         0         0         0         0         0         0         0         0   \n",
      "\n",
      "   pixel783  \n",
      "0         0  \n",
      "1         0  \n",
      "2         0  \n",
      "3         0  \n",
      "4         0  \n",
      "\n",
      "[5 rows x 784 columns]\n",
      "all (29000, 784)\n",
      "   pixel0  pixel1  pixel2  pixel3  pixel4  pixel5  pixel6  pixel7  pixel8  pixel9    ...     \\\n",
      "0       0       0       0       0       0       0       0       0       0       0    ...      \n",
      "1       0       0       0       0       0       0       0       0       0       0    ...      \n",
      "2       0       0       0       0       0       0       0       0       0       0    ...      \n",
      "3       0       0       0       0       0       0       0       0       0       0    ...      \n",
      "4       0       0       0       0       0       0       0       0       0       0    ...      \n",
      "\n",
      "   pixel774  pixel775  pixel776  pixel777  pixel778  pixel779  pixel780  pixel781  pixel782  \\\n",
      "0         0         0         0         0         0         0         0         0         0   \n",
      "1         0         0         0         0         0         0         0         0         0   \n",
      "2         0         0         0         0         0         0         0         0         0   \n",
      "3         0         0         0         0         0         0         0         0         0   \n",
      "4         0         0         0         0         0         0         0         0         0   \n",
      "\n",
      "   pixel783  \n",
      "0         0  \n",
      "1         0  \n",
      "2         0  \n",
      "3         0  \n",
      "4         0  \n",
      "\n",
      "[5 rows x 784 columns]\n"
     ]
    }
   ],
   "source": [
    "# load data\n",
    "import pandas as pd, numpy as np\n",
    "import seaborn as sns, matplotlib.pyplot as plt\n",
    "pd.set_option(\"display.width\", 100)\n",
    "pd.set_option(\"display.max_rows\", 100)\n",
    "\n",
    "# train_df = pd.read_csv(\"./train.csv\")   # 42000\n",
    "train_df = pd.read_csv(\"./train.csv\", nrows=1000)\n",
    "test_df = pd.read_csv(\"./test.csv\")   # 28000\n",
    "train_num = train_df.shape[0]\n",
    "test_num = test_df.shape[0]\n",
    "train_x = train_df.drop(['label'], axis=1)\n",
    "train_y = train_df[\"label\"]\n",
    "test_x = test_df\n",
    "all_df = pd.concat((train_x, test_df))\n",
    "\n",
    "dfd = {'train': train_df, 'test': test_df, 'all': all_df}\n",
    "for name,df in dfd.items():\n",
    "    print(name, df.shape)\n",
    "    print(df.head())"
   ]
  },
  {
   "cell_type": "code",
   "execution_count": 2,
   "metadata": {
    "autoscroll": false,
    "collapsed": false,
    "ein.tags": "worksheet-0",
    "slideshow": {
     "slide_type": "-"
    }
   },
   "outputs": [
    {
     "name": "stdout",
     "output_type": "stream",
     "text": [
      "train\n",
      "<class 'pandas.core.frame.DataFrame'>\n",
      "RangeIndex: 1000 entries, 0 to 999\n",
      "Columns: 785 entries, label to pixel783\n",
      "dtypes: int64(785)\n",
      "memory usage: 6.0 MB\n",
      "None\n",
      "test\n"
     ]
    },
    {
     "name": "stdout",
     "output_type": "stream",
     "text": [
      "<class 'pandas.core.frame.DataFrame'>\n",
      "RangeIndex: 1000 entries, 0 to 999\n",
      "Columns: 784 entries, pixel0 to pixel783\n",
      "dtypes: int64(784)\n",
      "memory usage: 6.0 MB\n"
     ]
    },
    {
     "name": "stdout",
     "output_type": "stream",
     "text": [
      "None\n",
      "all\n",
      "<class 'pandas.core.frame.DataFrame'>\n",
      "Int64Index: 2000 entries, 0 to 999\n",
      "Columns: 784 entries, pixel0 to pixel783\n",
      "dtypes: int64(784)\n",
      "memory usage: 12.0 MB\n",
      "None\n"
     ]
    }
   ],
   "source": [
    "# check data\n",
    "for name,df in dfd.items():\n",
    "    print(name)\n",
    "    print(df.info())\n",
    "    #print(df.describe())   # doesn't show a lot of information"
   ]
  },
  {
   "cell_type": "code",
   "execution_count": 3,
   "metadata": {
    "autoscroll": false,
    "collapsed": false,
    "ein.tags": "worksheet-0",
    "slideshow": {
     "slide_type": "-"
    }
   },
   "outputs": [
    {
     "name": "stdout",
     "output_type": "stream",
     "text": [
      "train\n",
      "Series([], dtype: float64)\n",
      "test\n",
      "Series([], dtype: float64)\n",
      "all\n",
      "Series([], dtype: float64)\n"
     ]
    }
   ],
   "source": [
    "# check null\n",
    "for name,df in dfd.items():\n",
    "    print(name)\n",
    "    isnull_ratio = df.isnull().sum()/df.isnull().count()\n",
    "    print(isnull_ratio[isnull_ratio != 0].sort_values(ascending=False))"
   ]
  },
  {
   "cell_type": "code",
   "execution_count": 4,
   "metadata": {
    "autoscroll": false,
    "collapsed": false,
    "ein.tags": "worksheet-0",
    "slideshow": {
     "slide_type": "-"
    }
   },
   "outputs": [],
   "source": [
    "# check correlation (takes time)\n",
    "# -> pixel436 has high correlation with label.. so what?\n",
    "# correlations = train_df.astype(float).corr()['label'].sort_values(ascending=False)\n",
    "# print(correlations.head())\n",
    "# print(correlations.tail())"
   ]
  },
  {
   "cell_type": "code",
   "execution_count": 5,
   "metadata": {
    "autoscroll": false,
    "collapsed": false,
    "ein.tags": "worksheet-0",
    "slideshow": {
     "slide_type": "-"
    }
   },
   "outputs": [],
   "source": [
    "# check skewness (takes time)\n",
    "# -> pixel367 has high skewness, but log/boxcox transform doesn't help\n",
    "# from scipy.stats import skew\n",
    "# skewness = all_df.apply(lambda x: skew(x)).sort_values(ascending=False)\n",
    "# print(skewness.head())\n",
    "# print(skewness.tail())\n",
    "# all_df['pixel367'].hist(bins=50)\n",
    "# plt.show()"
   ]
  },
  {
   "cell_type": "code",
   "execution_count": 6,
   "metadata": {
    "autoscroll": false,
    "collapsed": false,
    "ein.tags": "worksheet-0",
    "slideshow": {
     "slide_type": "-"
    }
   },
   "outputs": [
    {
     "name": "stdout",
     "output_type": "stream",
     "text": [
      "0.885 {'C': 0.01, 'degree': 2.0, 'gamma': 0.001, 'kernel': 'poly'}\n",
      "0.867 (+/-0.011 for {'C': 0.01, 'degree': 1.0, 'gamma': 0.001, 'kernel': 'poly'}\n",
      "0.867 (+/-0.011 for {'C': 0.01, 'degree': 1.0, 'gamma': 0.01, 'kernel': 'poly'}\n",
      "0.867 (+/-0.011 for {'C': 0.01, 'degree': 1.0, 'gamma': 0.10000000000000001, 'kernel': 'poly'}\n",
      "0.885 (+/-0.017 for {'C': 0.01, 'degree': 2.0, 'gamma': 0.001, 'kernel': 'poly'}\n",
      "0.885 (+/-0.017 for {'C': 0.01, 'degree': 2.0, 'gamma': 0.01, 'kernel': 'poly'}\n",
      "0.885 (+/-0.017 for {'C': 0.01, 'degree': 2.0, 'gamma': 0.10000000000000001, 'kernel': 'poly'}\n",
      "0.855 (+/-0.020 for {'C': 0.01, 'degree': 3.0, 'gamma': 0.001, 'kernel': 'poly'}\n",
      "0.855 (+/-0.020 for {'C': 0.01, 'degree': 3.0, 'gamma': 0.01, 'kernel': 'poly'}\n",
      "0.855 (+/-0.020 for {'C': 0.01, 'degree': 3.0, 'gamma': 0.10000000000000001, 'kernel': 'poly'}\n",
      "0.867 (+/-0.011 for {'C': 0.10000000000000001, 'degree': 1.0, 'gamma': 0.001, 'kernel': 'poly'}\n",
      "0.867 (+/-0.011 for {'C': 0.10000000000000001, 'degree': 1.0, 'gamma': 0.01, 'kernel': 'poly'}\n",
      "0.867 (+/-0.011 for {'C': 0.10000000000000001, 'degree': 1.0, 'gamma': 0.10000000000000001, 'kernel': 'poly'}\n",
      "0.885 (+/-0.017 for {'C': 0.10000000000000001, 'degree': 2.0, 'gamma': 0.001, 'kernel': 'poly'}\n",
      "0.885 (+/-0.017 for {'C': 0.10000000000000001, 'degree': 2.0, 'gamma': 0.01, 'kernel': 'poly'}\n",
      "0.885 (+/-0.017 for {'C': 0.10000000000000001, 'degree': 2.0, 'gamma': 0.10000000000000001, 'kernel': 'poly'}\n",
      "0.855 (+/-0.020 for {'C': 0.10000000000000001, 'degree': 3.0, 'gamma': 0.001, 'kernel': 'poly'}\n",
      "0.855 (+/-0.020 for {'C': 0.10000000000000001, 'degree': 3.0, 'gamma': 0.01, 'kernel': 'poly'}\n",
      "0.855 (+/-0.020 for {'C': 0.10000000000000001, 'degree': 3.0, 'gamma': 0.10000000000000001, 'kernel': 'poly'}\n",
      "0.867 (+/-0.011 for {'C': 1.0, 'degree': 1.0, 'gamma': 0.001, 'kernel': 'poly'}\n",
      "0.867 (+/-0.011 for {'C': 1.0, 'degree': 1.0, 'gamma': 0.01, 'kernel': 'poly'}\n",
      "0.867 (+/-0.011 for {'C': 1.0, 'degree': 1.0, 'gamma': 0.10000000000000001, 'kernel': 'poly'}\n",
      "0.885 (+/-0.017 for {'C': 1.0, 'degree': 2.0, 'gamma': 0.001, 'kernel': 'poly'}\n",
      "0.885 (+/-0.017 for {'C': 1.0, 'degree': 2.0, 'gamma': 0.01, 'kernel': 'poly'}\n",
      "0.885 (+/-0.017 for {'C': 1.0, 'degree': 2.0, 'gamma': 0.10000000000000001, 'kernel': 'poly'}\n",
      "0.855 (+/-0.020 for {'C': 1.0, 'degree': 3.0, 'gamma': 0.001, 'kernel': 'poly'}\n",
      "0.855 (+/-0.020 for {'C': 1.0, 'degree': 3.0, 'gamma': 0.01, 'kernel': 'poly'}\n",
      "0.855 (+/-0.020 for {'C': 1.0, 'degree': 3.0, 'gamma': 0.10000000000000001, 'kernel': 'poly'}\n",
      "0.124 (+/-0.001 for {'C': 0.01, 'gamma': 0.001, 'kernel': 'sigmoid'}\n",
      "0.124 (+/-0.001 for {'C': 0.01, 'gamma': 0.01, 'kernel': 'sigmoid'}\n",
      "0.124 (+/-0.001 for {'C': 0.01, 'gamma': 0.10000000000000001, 'kernel': 'sigmoid'}\n",
      "0.124 (+/-0.001 for {'C': 0.10000000000000001, 'gamma': 0.001, 'kernel': 'sigmoid'}\n",
      "0.124 (+/-0.001 for {'C': 0.10000000000000001, 'gamma': 0.01, 'kernel': 'sigmoid'}\n",
      "0.124 (+/-0.001 for {'C': 0.10000000000000001, 'gamma': 0.10000000000000001, 'kernel': 'sigmoid'}\n",
      "0.124 (+/-0.001 for {'C': 1.0, 'gamma': 0.001, 'kernel': 'sigmoid'}\n",
      "0.124 (+/-0.001 for {'C': 1.0, 'gamma': 0.01, 'kernel': 'sigmoid'}\n",
      "0.124 (+/-0.001 for {'C': 1.0, 'gamma': 0.10000000000000001, 'kernel': 'sigmoid'}\n",
      "0.867 (+/-0.011 for {'C': 0.01, 'kernel': 'linear'}\n",
      "0.867 (+/-0.011 for {'C': 0.10000000000000001, 'kernel': 'linear'}\n",
      "0.867 (+/-0.011 for {'C': 1.0, 'kernel': 'linear'}\n",
      "0.124 (+/-0.001 for {'C': 0.01, 'gamma': 0.001, 'kernel': 'rbf'}\n",
      "0.124 (+/-0.001 for {'C': 0.01, 'gamma': 0.01, 'kernel': 'rbf'}\n",
      "0.124 (+/-0.001 for {'C': 0.01, 'gamma': 0.10000000000000001, 'kernel': 'rbf'}\n",
      "0.124 (+/-0.001 for {'C': 0.10000000000000001, 'gamma': 0.001, 'kernel': 'rbf'}\n",
      "0.124 (+/-0.001 for {'C': 0.10000000000000001, 'gamma': 0.01, 'kernel': 'rbf'}\n",
      "0.124 (+/-0.001 for {'C': 0.10000000000000001, 'gamma': 0.10000000000000001, 'kernel': 'rbf'}\n",
      "0.124 (+/-0.001 for {'C': 1.0, 'gamma': 0.001, 'kernel': 'rbf'}\n",
      "0.124 (+/-0.001 for {'C': 1.0, 'gamma': 0.01, 'kernel': 'rbf'}\n",
      "0.124 (+/-0.001 for {'C': 1.0, 'gamma': 0.10000000000000001, 'kernel': 'rbf'}\n"
     ]
    }
   ],
   "source": [
    "# grid search on svc parameter\n",
    "from sklearn import svm\n",
    "from sklearn.model_selection import GridSearchCV\n",
    "train_x = all_df[:train_num]\n",
    "test_x = all_df[train_num:]\n",
    "C_list = np.logspace(-2, 0, 3)\n",
    "gamma_list = np.logspace(-3, -1, 3)\n",
    "degree_list = np.linspace(1, 3, 3)\n",
    "tuned_parameters = [\n",
    "    {'C': C_list, 'kernel': ['poly'], 'gamma': gamma_list, 'degree': degree_list},\n",
    "    # {'C': C_list, 'kernel': ['sigmoid'], 'gamma': gamma_list},\n",
    "    # {'C': C_list, 'kernel': ['linear']},\n",
    "    # {'C': C_list, 'kernel': ['rbf'], 'gamma': gamma_list},\n",
    "    ]\n",
    "svc = svm.SVC()\n",
    "svm_cv = GridSearchCV(svc, tuned_parameters, cv=3)\n",
    "svm_cv.fit(train_x, train_y)\n",
    "print(svm_cv.best_score_, svm_cv.best_params_)\n",
    "results = svm_cv.cv_results_\n",
    "for mean, std, params in zip(results['mean_test_score'], results['std_test_score'], results['params']):\n",
    "    print(\"{:0.3f} (+/-{:0.03f} for {}\".format(mean, std, params))"
   ]
  },
  {
   "cell_type": "code",
   "execution_count": 7,
   "metadata": {
    "autoscroll": false,
    "collapsed": false,
    "ein.tags": "worksheet-0",
    "slideshow": {
     "slide_type": "-"
    }
   },
   "outputs": [
    {
     "name": "stdout",
     "output_type": "stream",
     "text": [
      "  model  test_mean  test_std  train_mean  train_std\n",
      "0   svm   0.877006  0.006369         1.0        0.0\n"
     ]
    }
   ],
   "source": [
    "# TODO set n_jobs\n",
    "# cross validation\n",
    "from sklearn.linear_model import LogisticRegression, Perceptron, SGDClassifier\n",
    "from sklearn.ensemble import RandomForestClassifier, ExtraTreesClassifier, AdaBoostClassifier, GradientBoostingClassifier\n",
    "from sklearn.tree import DecisionTreeClassifier\n",
    "from sklearn.svm import SVC, LinearSVC\n",
    "from sklearn.neighbors import KNeighborsClassifier\n",
    "from sklearn.naive_bayes import GaussianNB\n",
    "from sklearn.model_selection import KFold, cross_validate\n",
    "\n",
    "# Random Forest parameters\n",
    "rf_params = {\n",
    "    'n_estimators': 1000,\n",
    "     #'max_features': 0.2,\n",
    "    'max_depth': 6,\n",
    "    'min_samples_leaf': 2,\n",
    "    'max_features' : 'sqrt',\n",
    "    'verbose': 0\n",
    "}\n",
    "# Extra Trees Parameters\n",
    "et_params = {\n",
    "    'n_estimators':1000,\n",
    "    #'max_features': 0.5,\n",
    "    'max_depth': 8,\n",
    "    'min_samples_leaf': 2,\n",
    "    'verbose': 0\n",
    "}\n",
    "# AdaBoost parameters\n",
    "ada_params = {\n",
    "    'n_estimators': 1000,\n",
    "    'learning_rate' : 0.75\n",
    "}\n",
    "# Gradient Boosting parameters\n",
    "gb_params = {\n",
    "    'n_estimators': 1000,\n",
    "     #'max_features': 0.2,\n",
    "    'max_depth': 5,\n",
    "    'min_samples_leaf': 2,\n",
    "    'verbose': 0\n",
    "}\n",
    "\n",
    "models = []\n",
    "models.append(('svm', SVC(**svm_cv.best_params_)))\n",
    "# models.append(('random_forest', RandomForestClassifier(**rf_params)))\n",
    "# models.append(('extra_trees', ExtraTreesClassifier(**et_params)))\n",
    "# models.append(('ada_boost', AdaBoostClassifier(**ada_params)))\n",
    "# models.append(('gradient_boosting', GradientBoostingClassifier(**gb_params)))\n",
    "# models.append(('perceptron', Perceptron(max_iter=1000)))\n",
    "# models.append(('sgd_classifier', SGDClassifier(max_iter=1000)))\n",
    "# models.append(('logistic_regression', LogisticRegression()))\n",
    "# models.append(('k-nearest_neighbors', KNeighborsClassifier(n_neighbors=3)))\n",
    "# models.append(('gaussian_naive bayes', GaussianNB()))\n",
    "# models.append(('linear_svc', LinearSVC()))\n",
    "# models.append(('decision_tree', DecisionTreeClassifier()))\n",
    "k_fold = KFold(n_splits=3)\n",
    "results = {'model': [], 'test_mean': [], 'test_std': [], 'train_mean': [], 'train_std': []}\n",
    "for name,model in models:\n",
    "    scores = cross_validate(model, train_x, train_y, cv=k_fold)\n",
    "    results['model'].append(name)\n",
    "    results['test_mean'].append(np.mean(scores['test_score']))\n",
    "    results['test_std'].append(np.std(scores['test_score']))\n",
    "    results['train_mean'].append(np.mean(scores['train_score']))\n",
    "    results['train_std'].append(np.std(scores['train_score']))\n",
    "print(pd.DataFrame(results).sort_values(by='test_mean', ascending=False))"
   ]
  },
  {
   "cell_type": "code",
   "execution_count": 18,
   "metadata": {
    "autoscroll": false,
    "collapsed": false,
    "ein.tags": "worksheet-0",
    "slideshow": {
     "slide_type": "-"
    }
   },
   "outputs": [],
   "source": [
    "# learn and predict\n",
    "test_id = np.arange(1, test_num+1)\n",
    "results = {}\n",
    "for name,model in models:\n",
    "    model.fit(train_x, train_y)\n",
    "    output = model.predict(test_x)\n",
    "    results[name] = output\n",
    "    submit = pd.DataFrame(data={'ImageId':test_id, 'Label':output})\n",
    "    submit.to_csv('{}_submit.csv'.format(name), index=False)"
   ]
  },
  {
   "cell_type": "code",
   "execution_count": null,
   "metadata": {
    "autoscroll": false,
    "collapsed": false,
    "ein.tags": "worksheet-0",
    "slideshow": {
     "slide_type": "-"
    }
   },
   "outputs": [],
   "source": [
    "# TODO check confusion matrix\n",
    "# from sklearn.metrics import confusion_matrix, classification_report\n",
    "# for name,model in models:\n",
    "#     print(name)\n",
    "#     predict_y = model.predict(train_x)\n",
    "#     print(confusion_matrix(train_y, predict_y))\n",
    "#     print(classification_report(train_y, predict_y))"
   ]
  },
  {
   "cell_type": "code",
   "execution_count": 19,
   "metadata": {
    "autoscroll": false,
    "collapsed": false,
    "ein.tags": "worksheet-0",
    "slideshow": {
     "slide_type": "-"
    }
   },
   "outputs": [
    {
     "name": "stdout",
     "output_type": "stream",
     "text": [
      "ImageId,Label\r\n",
      "1,2\r\n",
      "2,0\r\n",
      "3,9\r\n",
      "4,9\r\n",
      "5,2\r\n",
      "6,7\r\n",
      "7,0\r\n",
      "8,3\r\n",
      "9,0\r\n"
     ]
    }
   ],
   "source": [
    "!head svm_submit.csv"
   ]
  }
 ],
 "metadata": {
  "kernelspec": {
   "display_name": "Python 3",
   "name": "python3"
  },
  "language_info": {
   "codemirror_mode": {
    "name": "ipython",
    "version": 3
   },
   "file_extension": ".py",
   "mimetype": "text/x-python",
   "name": "python",
   "nbconvert_exporter": "python",
   "pygments_lexer": "ipython3",
   "version": "3.6.2"
  },
  "name": "digit.ipynb"
 },
 "nbformat": 4,
 "nbformat_minor": 2
}
