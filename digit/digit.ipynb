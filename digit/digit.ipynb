{
 "cells": [
  {
   "cell_type": "markdown",
   "metadata": {
    "ein.tags": [
     "worksheet-0"
    ],
    "slideshow": {
     "slide_type": "-"
    }
   },
   "source": [
    "- ref. "
   ]
  },
  {
   "cell_type": "code",
   "execution_count": 1,
   "metadata": {
    "autoscroll": "json-false",
    "collapsed": true,
    "ein.tags": [
     "worksheet-0"
    ],
    "slideshow": {
     "slide_type": "-"
    }
   },
   "outputs": [
    {
     "name": "stdout",
     "output_type": "stream",
     "text": [
      "train (1000, 785)\n",
      "   label  pixel0  pixel1  pixel2  pixel3  pixel4  pixel5  pixel6  pixel7  \\\n",
      "0      1       0       0       0       0       0       0       0       0   \n",
      "1      0       0       0       0       0       0       0       0       0   \n",
      "2      1       0       0       0       0       0       0       0       0   \n",
      "3      4       0       0       0       0       0       0       0       0   \n",
      "4      0       0       0       0       0       0       0       0       0   \n",
      "\n",
      "   pixel8    ...     pixel774  pixel775  pixel776  pixel777  pixel778  \\\n",
      "0       0    ...            0         0         0         0         0   \n",
      "1       0    ...            0         0         0         0         0   \n",
      "2       0    ...            0         0         0         0         0   \n",
      "3       0    ...            0         0         0         0         0   \n",
      "4       0    ...            0         0         0         0         0   \n",
      "\n",
      "   pixel779  pixel780  pixel781  pixel782  pixel783  \n",
      "0         0         0         0         0         0  \n",
      "1         0         0         0         0         0  \n",
      "2         0         0         0         0         0  \n",
      "3         0         0         0         0         0  \n",
      "4         0         0         0         0         0  \n",
      "\n",
      "[5 rows x 785 columns]\n",
      "test (28000, 784)\n",
      "   pixel0  pixel1  pixel2  pixel3  pixel4  pixel5  pixel6  pixel7  pixel8  \\\n",
      "0       0       0       0       0       0       0       0       0       0   \n",
      "1       0       0       0       0       0       0       0       0       0   \n",
      "2       0       0       0       0       0       0       0       0       0   \n",
      "3       0       0       0       0       0       0       0       0       0   \n",
      "4       0       0       0       0       0       0       0       0       0   \n",
      "\n",
      "   pixel9    ...     pixel774  pixel775  pixel776  pixel777  pixel778  \\\n",
      "0       0    ...            0         0         0         0         0   \n",
      "1       0    ...            0         0         0         0         0   \n",
      "2       0    ...            0         0         0         0         0   \n",
      "3       0    ...            0         0         0         0         0   \n",
      "4       0    ...            0         0         0         0         0   \n",
      "\n",
      "   pixel779  pixel780  pixel781  pixel782  pixel783  \n",
      "0         0         0         0         0         0  \n",
      "1         0         0         0         0         0  \n",
      "2         0         0         0         0         0  \n",
      "3         0         0         0         0         0  \n",
      "4         0         0         0         0         0  \n",
      "\n",
      "[5 rows x 784 columns]\n",
      "all (29000, 784)\n",
      "   pixel0  pixel1  pixel2  pixel3  pixel4  pixel5  pixel6  pixel7  pixel8  \\\n",
      "0       0       0       0       0       0       0       0       0       0   \n",
      "1       0       0       0       0       0       0       0       0       0   \n",
      "2       0       0       0       0       0       0       0       0       0   \n",
      "3       0       0       0       0       0       0       0       0       0   \n",
      "4       0       0       0       0       0       0       0       0       0   \n",
      "\n",
      "   pixel9    ...     pixel774  pixel775  pixel776  pixel777  pixel778  \\\n",
      "0       0    ...            0         0         0         0         0   \n",
      "1       0    ...            0         0         0         0         0   \n",
      "2       0    ...            0         0         0         0         0   \n",
      "3       0    ...            0         0         0         0         0   \n",
      "4       0    ...            0         0         0         0         0   \n",
      "\n",
      "   pixel779  pixel780  pixel781  pixel782  pixel783  \n",
      "0         0         0         0         0         0  \n",
      "1         0         0         0         0         0  \n",
      "2         0         0         0         0         0  \n",
      "3         0         0         0         0         0  \n",
      "4         0         0         0         0         0  \n",
      "\n",
      "[5 rows x 784 columns]\n"
     ]
    }
   ],
   "source": [
    "# load data\n",
    "import pandas as pd, numpy as np\n",
    "pd.set_option(\"display.width\", 80)\n",
    "pd.set_option(\"display.max_rows\", 20)\n",
    "import seaborn as sns, matplotlib.pyplot as plt\n",
    "import multiprocessing as mp\n",
    "n_cpus = mp.cpu_count()\n",
    "\n",
    "# train_df = pd.read_csv(\"./train.csv\")   # 42000\n",
    "train_df = pd.read_csv(\"./train.csv\", nrows=1000)\n",
    "test_df = pd.read_csv(\"./test.csv\")   # 28000\n",
    "train_num = train_df.shape[0]\n",
    "test_num = test_df.shape[0]\n",
    "train_x = train_df.drop(['label'], axis=1)\n",
    "train_y = train_df[\"label\"]\n",
    "test_x = test_df\n",
    "all_df = pd.concat((train_x, test_df))\n",
    "\n",
    "dfd = {'train': train_df, 'test': test_df, 'all': all_df}\n",
    "for name,df in dfd.items():\n",
    "    print(name, df.shape)\n",
    "    print(df.head())"
   ]
  },
  {
   "cell_type": "code",
   "execution_count": 2,
   "metadata": {
    "autoscroll": "json-false",
    "collapsed": false,
    "ein.tags": [
     "worksheet-0"
    ],
    "slideshow": {
     "slide_type": "-"
    }
   },
   "outputs": [
    {
     "name": "stdout",
     "output_type": "stream",
     "text": [
      "train\n",
      "<class 'pandas.core.frame.DataFrame'>\n",
      "RangeIndex: 1000 entries, 0 to 999\n",
      "Columns: 785 entries, label to pixel783\n",
      "dtypes: int64(785)\n",
      "memory usage: 6.0 MB\n",
      "None\n",
      "test\n",
      "<class 'pandas.core.frame.DataFrame'>\n",
      "RangeIndex: 28000 entries, 0 to 27999\n",
      "Columns: 784 entries, pixel0 to pixel783\n",
      "dtypes: int64(784)\n",
      "memory usage: 167.5 MB\n",
      "None\n",
      "all\n",
      "<class 'pandas.core.frame.DataFrame'>\n",
      "Int64Index: 29000 entries, 0 to 27999\n",
      "Columns: 784 entries, pixel0 to pixel783\n",
      "dtypes: int64(784)\n",
      "memory usage: 173.7 MB\n",
      "None\n"
     ]
    }
   ],
   "source": [
    "# check data\n",
    "for name,df in dfd.items():\n",
    "    print(name)\n",
    "    print(df.info())\n",
    "    #print(df.describe())   # doesn't show a lot of information"
   ]
  },
  {
   "cell_type": "code",
   "execution_count": 3,
   "metadata": {
    "autoscroll": "json-false",
    "collapsed": false,
    "ein.tags": [
     "worksheet-0"
    ],
    "slideshow": {
     "slide_type": "-"
    }
   },
   "outputs": [
    {
     "name": "stdout",
     "output_type": "stream",
     "text": [
      "Series([], dtype: float64)\n"
     ]
    },
    {
     "name": "stdout",
     "output_type": "stream",
     "text": [
      "Series([], dtype: float64)\n",
      "all\n"
     ]
    },
    {
     "name": "stdout",
     "output_type": "stream",
     "text": [
      "train\n",
      "Series([], dtype: float64)\n",
      "test\n"
     ]
    }
   ],
   "source": [
    "# check null\n",
    "for name,df in dfd.items():\n",
    "    print(name)\n",
    "    isnull_ratio = df.isnull().sum()/df.isnull().count()\n",
    "    print(isnull_ratio[isnull_ratio != 0].sort_values(ascending=False))"
   ]
  },
  {
   "cell_type": "code",
   "execution_count": 4,
   "metadata": {
    "autoscroll": "json-false",
    "collapsed": false,
    "ein.tags": [
     "worksheet-0"
    ],
    "slideshow": {
     "slide_type": "-"
    }
   },
   "outputs": [],
   "source": [
    "# check correlation (takes time)\n",
    "# -> pixel436 has high correlation with label.. so what?\n",
    "# correlations = train_df.astype(float).corr()['label'].sort_values(ascending=False)\n",
    "# print(correlations.head())\n",
    "# print(correlations.tail())"
   ]
  },
  {
   "cell_type": "code",
   "execution_count": 5,
   "metadata": {
    "autoscroll": "json-false",
    "collapsed": false,
    "ein.tags": [
     "worksheet-0"
    ],
    "slideshow": {
     "slide_type": "-"
    }
   },
   "outputs": [],
   "source": [
    "# check skewness (takes time)\n",
    "# -> pixel367 has high skewness, but log/boxcox transform doesn't help\n",
    "# from scipy.stats import skew\n",
    "# skewness = all_df.apply(lambda x: skew(x)).sort_values(ascending=False)\n",
    "# print(skewness.head())\n",
    "# print(skewness.tail())\n",
    "# all_df['pixel367'].hist(bins=50)\n",
    "# plt.show()"
   ]
  },
  {
   "cell_type": "code",
   "execution_count": 6,
   "metadata": {
    "autoscroll": "json-false",
    "collapsed": false,
    "ein.tags": [
     "worksheet-0"
    ],
    "slideshow": {
     "slide_type": "-"
    }
   },
   "outputs": [],
   "source": [
    "# grid search (takes time)\n",
    "from sklearn.linear_model import LogisticRegression, Perceptron, SGDClassifier\n",
    "from sklearn.ensemble import RandomForestClassifier, ExtraTreesClassifier, AdaBoostClassifier, GradientBoostingClassifier, BaggingClassifier\n",
    "from sklearn.tree import DecisionTreeClassifier\n",
    "from sklearn.svm import SVC, LinearSVC\n",
    "from sklearn.neighbors import KNeighborsClassifier\n",
    "from sklearn.naive_bayes import GaussianNB\n",
    "from sklearn.model_selection import GridSearchCV\n",
    "from mlxtend.classifier import StackingClassifier\n",
    "from sklearn.base import clone\n",
    "\n",
    "train_x = all_df[:train_num]\n",
    "test_x = all_df[train_num:]\n",
    "\n",
    "# models = []\n",
    "# C_list, gamma_list, degree_list = np.logspace(-2, 0, 3), np.logspace(-3, -1, 3), np.linspace(1, 3, 3)\n",
    "# grid = [\n",
    "#     {'C': C_list, 'kernel': ['poly'], 'gamma': gamma_list, 'degree': degree_list},\n",
    "#     # {'C': C_list, 'kernel': ['sigmoid'], 'gamma': gamma_list},\n",
    "#     # {'C': C_list, 'kernel': ['linear']},\n",
    "#     # {'C': C_list, 'kernel': ['rbf'], 'gamma': gamma_list},\n",
    "#     ]\n",
    "# models.append(('svm', GridSearchCV(SVC(), grid, cv=3, n_jobs=n_cpus)))\n",
    "# grid = [{'n_estimators': [1000], 'max_depth': [6,7,8], 'min_samples_leaf': [2,3], 'max_features' : ['sqrt']}]\n",
    "# models.append(('random_forest', GridSearchCV(RandomForestClassifier(), grid, cv=3, n_jobs=n_cpus)))\n",
    "# models.append(('extra_trees', GridSearchCV(ExtraTreesClassifier(), grid, cv=3, n_jobs=n_cpus)))\n",
    "# grid = {'n_estimators': [1000], 'learning_rate' : [0.25, 0.5, 0.75]}\n",
    "# models.append(('ada_boost', GridSearchCV(AdaBoostClassifier(), grid, cv=3, n_jobs=n_cpus)))\n",
    "# grid = {'n_estimators': [1000], 'max_depth': [6,7,8], 'min_samples_leaf': [2,3]}\n",
    "# models.append(('gradient_boosting', GridSearchCV(GradientBoostingClassifier(), grid, cv=3, n_jobs=n_cpus)))\n",
    "# grid = {'max_iter': [1000], 'tol': [0.001]}\n",
    "# models.append(('perceptron', GridSearchCV(Perceptron(max_iter=1000, tol=0.001), grid, cv=3, n_jobs=n_cpus)))\n",
    "# models.append(('sgd_classifier', GridSearchCV(SGDClassifier(max_iter=1000, tol=0.001), grid, cv=3, n_jobs=n_cpus)))\n",
    "# grid = {'n_neighbors': [2,3,4]}\n",
    "# models.append(('k-nearest_neighbors', GridSearchCV(KNeighborsClassifier(), grid, cv=3, n_jobs=n_cpus)))\n",
    "# grid = {}\n",
    "# models.append(('logistic_regression', GridSerchCV(LogisticRegression(), grid, cv=3, n_jobs=n_cpus)))\n",
    "# models.append(('gaussian_naive bayes', GridSearchCV(GaussianNB(), grid, cv=3, n_jobs=n_cpus)))\n",
    "# models.append(('linear_svc', GridSearchCV(LinearSVC(), grid, cv=3, n_jobs=n_cpus)))\n",
    "# models.append(('decision_tree', GridSearchCV(DecisionTreeClassifier(), grid, cv=3, n_jobs=n_cpus)))\n",
    "\n",
    "# params = {}\n",
    "# for name,model in models:\n",
    "#     model.fit(train_x, train_y)\n",
    "#     print(name, model.best_score_, model.best_params_)\n",
    "#     params[name] = model.best_params_\n",
    "#     # results = model.cv_results_\n",
    "#     # for mean, std, params in zip(results['mean_test_score'], results['std_test_score'], results['params']):\n",
    "#     #     print(\"{:0.3f} (+/-{:0.03f} for {}\".format(mean, std, params))\n",
    "\n",
    "# from the result of nrows=20000\n",
    "params = {\n",
    "    'k-nearest_neighbors': {'n_neighbors': 3},\n",
    "    'sgd_classifier': {'max_iter': 1000, 'tol': 0.001},\n",
    "    'perceptron': {'max_iter': 1000, 'tol': 0.001},\n",
    "    'gradient_boosting': {'max_depth': 6, 'min_samples_leaf': 3, 'n_estimators': 1000},\n",
    "    'ada_boost': {'learning_rate': 0.25, 'n_estimators': 1000},\n",
    "    'extra_trees': {'max_depth': 8, 'max_features': 'sqrt', 'min_samples_leaf': 2, 'n_estimators': 1000},\n",
    "    'random_forest': {'max_depth': 8, 'max_features': 'sqrt', 'min_samples_leaf': 2, 'n_estimators': 1000},\n",
    "    'svm': {'C': 0.01, 'degree': 2.0, 'gamma': 0.001, 'kernel': 'poly'},\n",
    "    'logistic_regression': {},\n",
    "    'gaussian_naive bayes': {},\n",
    "    'linear_svc': {},\n",
    "    'decision_tree': {},\n",
    "    }\n",
    "\n",
    "svm_model = SVC(**params['svm'])\n",
    "bagging_svm_model = BaggingClassifier(base_estimator=clone(svm_model),\n",
    "                                      n_estimators=10, max_samples=0.9, max_features=0.2)\n",
    "et_model = ExtraTreesClassifier(**params['extra_trees'])\n",
    "bagging_et_model = BaggingClassifier(base_estimator=clone(et_model),\n",
    "                                     n_estimators=10, max_samples=0.9, max_features=0.2)\n",
    "knn_model = KNeighborsClassifier(**params['k-nearest_neighbors'])\n",
    "bagging_knn_model = BaggingClassifier(base_estimator=clone(knn_model),\n",
    "                                      n_estimators=10, max_samples=0.9, max_features=0.2)\n",
    "lr_model = LogisticRegression(**params['logistic_regression'])\n",
    "stacking_model = StackingClassifier(classifiers=[clone(svm_model), clone(et_model), clone(knn_model)],\n",
    "                                    meta_classifier=clone(lr_model))\n",
    "models = [\n",
    "    ('svm', svm_model),\n",
    "    # ('bagging_svm', bagging_svm_model),\n",
    "    ('extra_trees', et_model),\n",
    "    # ('bagging_extra_trees', bagging_et_model),\n",
    "    ('random_forest', RandomForestClassifier(**params['random_forest'])),\n",
    "    ('ada_boost', AdaBoostClassifier(**params['ada_boost'])),\n",
    "    ('gradient_boosting', GradientBoostingClassifier(**params['gradient_boosting'])),\n",
    "    ('perceptron', Perceptron(**params['perceptron'])),\n",
    "    ('sgd_classifier', SGDClassifier(**params['sgd_classifier'])),\n",
    "    ('k-nearest_neighbors', knn_model),\n",
    "    # ('bagging_k-nearest_neighbors', bagging_knn_model),\n",
    "    ('logistic_regression', lr_model),\n",
    "    ('gaussian_naive bayes', GaussianNB(**params['gaussian_naive bayes'])),\n",
    "    ('linear_svc', LinearSVC(**params['linear_svc'])),\n",
    "    ('decision_tree', DecisionTreeClassifier(**params['decision_tree'])),\n",
    "    # ('stacking', stacking_model),\n",
    "    ]"
   ]
  },
  {
   "cell_type": "code",
   "execution_count": 7,
   "metadata": {
    "autoscroll": "json-false",
    "collapsed": false,
    "ein.tags": [
     "worksheet-0"
    ],
    "slideshow": {
     "slide_type": "-"
    }
   },
   "outputs": [
    {
     "name": "stdout",
     "output_type": "stream",
     "text": [
      "                   model  test_mean  test_std  train_mean  train_std\n",
      "6                    svm   0.877006  0.006369    1.000000   0.000000\n",
      "9          random_forest   0.862995  0.021172    0.999000   0.000707\n",
      "8            extra_trees   0.858991  0.010800    0.996000   0.001412\n",
      "7    k-nearest_neighbors   0.837991  0.010818    0.921499   0.002588\n",
      "3    logistic_regression   0.813032  0.022873    1.000000   0.000000\n",
      "0             perceptron   0.813008  0.007285    0.959499   0.005615\n",
      "4             linear_svc   0.806019  0.020661    1.000000   0.000000\n",
      "1         sgd_classifier   0.799024  0.018220    0.966494   0.008715\n",
      "11     gradient_boosting   0.794993  0.010052    1.000000   0.000000\n",
      "10             ada_boost   0.674033  0.034002    0.828495   0.048280\n",
      "2   gaussian_naive bayes   0.596971  0.020931    0.737982   0.026358\n",
      "5          decision_tree   0.587995  0.017499    1.000000   0.000000\n"
     ]
    }
   ],
   "source": [
    "# cross validation\n",
    "from sklearn.model_selection import KFold, cross_validate\n",
    "from multiprocessing import Manager\n",
    "from sklearn.externals.joblib import Parallel, delayed\n",
    "\n",
    "k_fold = KFold(n_splits=3)\n",
    "with Manager() as manager:\n",
    "    results = manager.list()\n",
    "    def validate_one_model(name, model):\n",
    "         # Multiprocessing-backed parallel loops cannot be nested\n",
    "         scores = cross_validate(model, train_x, train_y, cv=k_fold, scoring='accuracy')\n",
    "         result = {}\n",
    "         result['model'] = name\n",
    "         result['test_mean'] = np.mean(scores['test_score'])\n",
    "         result['test_std'] = np.std(scores['test_score'])\n",
    "         result['train_mean'] = np.mean(scores['train_score'])\n",
    "         result['train_std'] = np.std(scores['train_score'])\n",
    "         results.append(result)\n",
    "    Parallel(n_jobs=n_cpus)(delayed(validate_one_model)(name, model) for name,model in models)\n",
    "    results_merged = {'model': [], 'test_mean': [], 'test_std': [], 'train_mean': [], 'train_std': []}\n",
    "    for result in results:\n",
    "        for k,v in result.items():\n",
    "            results_merged[k].append(v)\n",
    "    print(pd.DataFrame(results_merged).sort_values(by='test_mean', ascending=False))"
   ]
  },
  {
   "cell_type": "code",
   "execution_count": 8,
   "metadata": {
    "autoscroll": "json-false",
    "collapsed": true,
    "ein.tags": [
     "worksheet-0"
    ],
    "slideshow": {
     "slide_type": "-"
    }
   },
   "outputs": [
    {
     "data": {
      "text/plain": [
       "[None, None, None, None, None, None, None, None, None, None, None, None]"
      ]
     },
     "execution_count": 8,
     "metadata": {},
     "output_type": "execute_result"
    },
    {
     "name": "stdout",
     "output_type": "stream",
     "text": [
      "\n"
     ]
    },
    {
     "name": "stdout",
     "output_type": "stream",
     "text": [
      "             precision    recall  f1-score   support\n",
      "\n",
      "          0       0.92      0.98      0.95       107\n",
      "          1       0.86      0.99      0.92        96\n",
      "          2       0.97      0.94      0.96       124\n",
      "          3       0.89      0.97      0.93        90\n",
      "          4       0.97      0.90      0.93       102\n",
      "          5       0.98      0.93      0.95        89\n",
      "          6       0.97      0.95      0.96        97\n",
      "          7       0.90      0.91      0.91       105\n",
      "          8       0.97      0.83      0.90        93\n",
      "          9       0.87      0.87      0.87        97\n",
      "\n",
      "avg / total       0.93      0.93      0.93      1000\n"
     ]
    },
    {
     "name": "stdout",
     "output_type": "stream",
     "text": [
      "\n"
     ]
    },
    {
     "name": "stdout",
     "output_type": "stream",
     "text": [
      "[[105   0   0   0   0   0   2   0   0   0]\n",
      " [  0  95   0   0   0   0   0   0   1   0]\n",
      " [  0   3 117   1   0   0   0   3   0   0]\n",
      " [  0   0   1  87   0   0   0   1   1   0]\n",
      " [  0   1   0   0  92   0   0   2   0   7]\n",
      " [  1   1   0   3   0  83   1   0   0   0]\n",
      " [  4   1   0   0   0   0  92   0   0   0]\n",
      " [  0   4   0   0   2   0   0  96   0   3]\n",
      " [  2   3   0   7   0   1   0   0  77   3]\n",
      " [  2   2   2   0   1   1   0   5   0  84]]"
     ]
    },
    {
     "name": "stdout",
     "output_type": "stream",
     "text": [
      "k-nearest_neighbors\n"
     ]
    },
    {
     "name": "stdout",
     "output_type": "stream",
     "text": [
      "\n"
     ]
    },
    {
     "name": "stdout",
     "output_type": "stream",
     "text": [
      "             precision    recall  f1-score   support\n",
      "\n",
      "          0       0.99      0.91      0.95       107\n",
      "          1       0.80      0.69      0.74        96\n",
      "          2       0.90      0.81      0.86       124\n",
      "          3       0.85      0.74      0.79        90\n",
      "          4       0.75      0.90      0.82       102\n",
      "          5       0.58      0.75      0.66        89\n",
      "          6       0.92      0.71      0.80        97\n",
      "          7       0.61      0.79      0.69       105\n",
      "          8       0.63      0.74      0.68        93\n",
      "          9       0.68      0.48      0.57        97\n",
      "\n",
      "avg / total       0.78      0.76      0.76      1000\n"
     ]
    },
    {
     "name": "stdout",
     "output_type": "stream",
     "text": [
      "\n"
     ]
    },
    {
     "name": "stdout",
     "output_type": "stream",
     "text": [
      "[[ 97   0   1   0   0   8   1   0   0   0]\n",
      " [  0  66   3   1   0   2   0  22   2   0]\n",
      " [  0   3 101   2   5   4   4   1   4   0]\n",
      " [  0   3   0  67   0   7   0   3  10   0]\n",
      " [  0   0   0   0  92   2   1   3   2   2]\n",
      " [  1   3   0   6   1  67   0   2   9   0]\n",
      " [  0   1   6   0   6  13  69   0   2   0]\n",
      " [  0   0   1   0   2   1   0  83   1  17]\n",
      " [  0   7   0   3   1   9   0   1  69   3]\n",
      " [  0   0   0   0  16   2   0  22  10  47]]"
     ]
    },
    {
     "name": "stdout",
     "output_type": "stream",
     "text": [
      "ada_boost\n"
     ]
    },
    {
     "name": "stdout",
     "output_type": "stream",
     "text": [
      "\n"
     ]
    },
    {
     "name": "stdout",
     "output_type": "stream",
     "text": [
      "             precision    recall  f1-score   support\n",
      "\n",
      "          0       1.00      1.00      1.00       107\n",
      "          1       1.00      1.00      1.00        96\n",
      "          2       1.00      1.00      1.00       124\n",
      "          3       1.00      1.00      1.00        90\n",
      "          4       1.00      1.00      1.00       102\n",
      "          5       1.00      1.00      1.00        89\n",
      "          6       1.00      1.00      1.00        97\n",
      "          7       1.00      1.00      1.00       105\n",
      "          8       1.00      1.00      1.00        93\n",
      "          9       1.00      1.00      1.00        97\n",
      "\n",
      "avg / total       1.00      1.00      1.00      1000\n"
     ]
    },
    {
     "name": "stdout",
     "output_type": "stream",
     "text": [
      "\n"
     ]
    },
    {
     "name": "stdout",
     "output_type": "stream",
     "text": [
      "[[107   0   0   0   0   0   0   0   0   0]\n",
      " [  0  96   0   0   0   0   0   0   0   0]\n",
      " [  0   0 124   0   0   0   0   0   0   0]\n",
      " [  0   0   0  90   0   0   0   0   0   0]\n",
      " [  0   0   0   0 102   0   0   0   0   0]\n",
      " [  0   0   0   0   0  89   0   0   0   0]\n",
      " [  0   0   0   0   0   0  97   0   0   0]\n",
      " [  0   0   0   0   0   0   0 105   0   0]\n",
      " [  0   0   0   0   0   0   0   0  93   0]\n",
      " [  0   0   0   0   0   0   0   0   0  97]]"
     ]
    },
    {
     "name": "stdout",
     "output_type": "stream",
     "text": [
      "gradient_boosting\n"
     ]
    },
    {
     "name": "stdout",
     "output_type": "stream",
     "text": [
      "\n"
     ]
    },
    {
     "name": "stdout",
     "output_type": "stream",
     "text": [
      "             precision    recall  f1-score   support\n",
      "\n",
      "          0       1.00      1.00      1.00       107\n",
      "          1       1.00      1.00      1.00        96\n",
      "          2       1.00      1.00      1.00       124\n",
      "          3       1.00      1.00      1.00        90\n",
      "          4       1.00      1.00      1.00       102\n",
      "          5       1.00      1.00      1.00        89\n",
      "          6       1.00      1.00      1.00        97\n",
      "          7       1.00      1.00      1.00       105\n",
      "          8       1.00      1.00      1.00        93\n",
      "          9       1.00      1.00      1.00        97\n",
      "\n",
      "avg / total       1.00      1.00      1.00      1000\n"
     ]
    },
    {
     "name": "stdout",
     "output_type": "stream",
     "text": [
      "\n"
     ]
    },
    {
     "name": "stdout",
     "output_type": "stream",
     "text": [
      "[[107   0   0   0   0   0   0   0   0   0]\n",
      " [  0  96   0   0   0   0   0   0   0   0]\n",
      " [  0   0 124   0   0   0   0   0   0   0]\n",
      " [  0   0   0  90   0   0   0   0   0   0]\n",
      " [  0   0   0   0 102   0   0   0   0   0]\n",
      " [  0   0   0   0   0  89   0   0   0   0]\n",
      " [  0   0   0   0   0   0  97   0   0   0]\n",
      " [  0   0   0   0   0   0   0 105   0   0]\n",
      " [  0   0   0   0   0   0   0   0  93   0]\n",
      " [  0   0   0   0   0   0   0   0   0  97]]"
     ]
    },
    {
     "name": "stdout",
     "output_type": "stream",
     "text": [
      "svm\n"
     ]
    },
    {
     "name": "stdout",
     "output_type": "stream",
     "text": [
      "\n"
     ]
    },
    {
     "name": "stdout",
     "output_type": "stream",
     "text": [
      "             precision    recall  f1-score   support\n",
      "\n",
      "          0       1.00      1.00      1.00       107\n",
      "          1       0.99      0.98      0.98        96\n",
      "          2       0.98      0.99      0.99       124\n",
      "          3       1.00      1.00      1.00        90\n",
      "          4       1.00      1.00      1.00       102\n",
      "          5       1.00      1.00      1.00        89\n",
      "          6       1.00      1.00      1.00        97\n",
      "          7       0.99      0.97      0.98       105\n",
      "          8       0.99      0.99      0.99        93\n",
      "          9       0.98      1.00      0.99        97\n",
      "\n",
      "avg / total       0.99      0.99      0.99      1000\n"
     ]
    },
    {
     "name": "stdout",
     "output_type": "stream",
     "text": [
      "\n"
     ]
    },
    {
     "name": "stdout",
     "output_type": "stream",
     "text": [
      "[[107   0   0   0   0   0   0   0   0   0]\n",
      " [  0  94   1   0   0   0   0   0   1   0]\n",
      " [  0   0 123   0   0   0   0   1   0   0]\n",
      " [  0   0   0  90   0   0   0   0   0   0]\n",
      " [  0   0   0   0 102   0   0   0   0   0]\n",
      " [  0   0   0   0   0  89   0   0   0   0]\n",
      " [  0   0   0   0   0   0  97   0   0   0]\n",
      " [  0   1   1   0   0   0   0 102   0   1]\n",
      " [  0   0   0   0   0   0   0   0  92   1]\n",
      " [  0   0   0   0   0   0   0   0   0  97]]"
     ]
    },
    {
     "name": "stdout",
     "output_type": "stream",
     "text": [
      "random_forest\n"
     ]
    },
    {
     "name": "stdout",
     "output_type": "stream",
     "text": [
      "\n"
     ]
    },
    {
     "name": "stdout",
     "output_type": "stream",
     "text": [
      "             precision    recall  f1-score   support\n",
      "\n",
      "          0       1.00      1.00      1.00       107\n",
      "          1       0.97      0.99      0.98        96\n",
      "          2       0.98      0.98      0.98       124\n",
      "          3       1.00      0.99      0.99        90\n",
      "          4       1.00      0.99      1.00       102\n",
      "          5       1.00      0.99      0.99        89\n",
      "          6       1.00      1.00      1.00        97\n",
      "          7       0.97      0.97      0.97       105\n",
      "          8       1.00      0.98      0.99        93\n",
      "          9       0.97      1.00      0.98        97\n",
      "\n",
      "avg / total       0.99      0.99      0.99      1000\n"
     ]
    },
    {
     "name": "stdout",
     "output_type": "stream",
     "text": [
      "\n"
     ]
    },
    {
     "name": "stdout",
     "output_type": "stream",
     "text": [
      "[[107   0   0   0   0   0   0   0   0   0]\n",
      " [  0  95   1   0   0   0   0   0   0   0]\n",
      " [  0   0 122   0   0   0   0   2   0   0]\n",
      " [  0   0   0  89   0   0   0   1   0   0]\n",
      " [  0   0   0   0 101   0   0   0   0   1]\n",
      " [  0   1   0   0   0  88   0   0   0   0]\n",
      " [  0   0   0   0   0   0  97   0   0   0]\n",
      " [  0   1   1   0   0   0   0 102   0   1]\n",
      " [  0   1   0   0   0   0   0   0  91   1]\n",
      " [  0   0   0   0   0   0   0   0   0  97]]"
     ]
    },
    {
     "name": "stdout",
     "output_type": "stream",
     "text": [
      "extra_trees\n"
     ]
    },
    {
     "name": "stdout",
     "output_type": "stream",
     "text": [
      "\n"
     ]
    },
    {
     "name": "stdout",
     "output_type": "stream",
     "text": [
      "             precision    recall  f1-score   support\n",
      "\n",
      "          0       0.83      0.99      0.91       107\n",
      "          1       0.77      0.98      0.86        96\n",
      "          2       0.96      0.37      0.53       124\n",
      "          3       0.86      0.60      0.71        90\n",
      "          4       0.90      0.65      0.75       102\n",
      "          5       0.66      0.24      0.35        89\n",
      "          6       0.66      0.95      0.78        97\n",
      "          7       0.87      0.51      0.65       105\n",
      "          8       0.46      0.69      0.55        93\n",
      "          9       0.47      0.95      0.63        97\n",
      "\n",
      "avg / total       0.75      0.69      0.67      1000\n"
     ]
    },
    {
     "name": "stdout",
     "output_type": "stream",
     "text": [
      "\n"
     ]
    },
    {
     "name": "stdout",
     "output_type": "stream",
     "text": [
      "[[106   0   0   0   0   0   0   0   0   1]\n",
      " [  0  94   1   0   0   0   0   0   1   0]\n",
      " [  1   3  46   6   1  11  36   1  18   1]\n",
      " [  6  10   0  54   1   0   3   0  11   5]\n",
      " [  1   1   0   0  66   0   2   4   2  26]\n",
      " [ 11   1   1   2   3  21   4   1  41   4]\n",
      " [  0   4   0   0   0   0  92   0   0   1]\n",
      " [  0   1   0   0   0   0   0  54   0  50]\n",
      " [  1   7   0   1   1   0   3   1  64  15]\n",
      " [  1   1   0   0   1   0   0   1   1  92]]"
     ]
    },
    {
     "name": "stdout",
     "output_type": "stream",
     "text": [
      "gaussian_naive bayes\n"
     ]
    },
    {
     "name": "stdout",
     "output_type": "stream",
     "text": [
      "\n"
     ]
    },
    {
     "name": "stdout",
     "output_type": "stream",
     "text": [
      "             precision    recall  f1-score   support\n",
      "\n",
      "          0       1.00      1.00      1.00       107\n",
      "          1       1.00      1.00      1.00        96\n",
      "          2       1.00      1.00      1.00       124\n",
      "          3       1.00      1.00      1.00        90\n",
      "          4       1.00      1.00      1.00       102\n",
      "          5       1.00      1.00      1.00        89\n",
      "          6       1.00      1.00      1.00        97\n",
      "          7       1.00      1.00      1.00       105\n",
      "          8       1.00      1.00      1.00        93\n",
      "          9       1.00      1.00      1.00        97\n",
      "\n",
      "avg / total       1.00      1.00      1.00      1000\n"
     ]
    },
    {
     "name": "stdout",
     "output_type": "stream",
     "text": [
      "\n"
     ]
    },
    {
     "name": "stdout",
     "output_type": "stream",
     "text": [
      "[[107   0   0   0   0   0   0   0   0   0]\n",
      " [  0  96   0   0   0   0   0   0   0   0]\n",
      " [  0   0 124   0   0   0   0   0   0   0]\n",
      " [  0   0   0  90   0   0   0   0   0   0]\n",
      " [  0   0   0   0 102   0   0   0   0   0]\n",
      " [  0   0   0   0   0  89   0   0   0   0]\n",
      " [  0   0   0   0   0   0  97   0   0   0]\n",
      " [  0   0   0   0   0   0   0 105   0   0]\n",
      " [  0   0   0   0   0   0   0   0  93   0]\n",
      " [  0   0   0   0   0   0   0   0   0  97]]"
     ]
    },
    {
     "name": "stdout",
     "output_type": "stream",
     "text": [
      "decision_tree\n"
     ]
    },
    {
     "name": "stdout",
     "output_type": "stream",
     "text": [
      "\n"
     ]
    },
    {
     "name": "stdout",
     "output_type": "stream",
     "text": [
      "             precision    recall  f1-score   support\n",
      "\n",
      "          0       1.00      1.00      1.00       107\n",
      "          1       1.00      1.00      1.00        96\n",
      "          2       1.00      1.00      1.00       124\n",
      "          3       1.00      1.00      1.00        90\n",
      "          4       1.00      1.00      1.00       102\n",
      "          5       1.00      1.00      1.00        89\n",
      "          6       1.00      1.00      1.00        97\n",
      "          7       1.00      1.00      1.00       105\n",
      "          8       1.00      1.00      1.00        93\n",
      "          9       1.00      1.00      1.00        97\n",
      "\n",
      "avg / total       1.00      1.00      1.00      1000\n"
     ]
    },
    {
     "name": "stdout",
     "output_type": "stream",
     "text": [
      "\n"
     ]
    },
    {
     "name": "stdout",
     "output_type": "stream",
     "text": [
      "[[107   0   0   0   0   0   0   0   0   0]\n",
      " [  0  96   0   0   0   0   0   0   0   0]\n",
      " [  0   0 124   0   0   0   0   0   0   0]\n",
      " [  0   0   0  90   0   0   0   0   0   0]\n",
      " [  0   0   0   0 102   0   0   0   0   0]\n",
      " [  0   0   0   0   0  89   0   0   0   0]\n",
      " [  0   0   0   0   0   0  97   0   0   0]\n",
      " [  0   0   0   0   0   0   0 105   0   0]\n",
      " [  0   0   0   0   0   0   0   0  93   0]\n",
      " [  0   0   0   0   0   0   0   0   0  97]]"
     ]
    },
    {
     "name": "stdout",
     "output_type": "stream",
     "text": [
      "linear_svc\n"
     ]
    },
    {
     "name": "stdout",
     "output_type": "stream",
     "text": [
      "\n"
     ]
    },
    {
     "name": "stdout",
     "output_type": "stream",
     "text": [
      "             precision    recall  f1-score   support\n",
      "\n",
      "          0       1.00      1.00      1.00       107\n",
      "          1       1.00      1.00      1.00        96\n",
      "          2       1.00      1.00      1.00       124\n",
      "          3       1.00      1.00      1.00        90\n",
      "          4       1.00      1.00      1.00       102\n",
      "          5       1.00      1.00      1.00        89\n",
      "          6       1.00      1.00      1.00        97\n",
      "          7       1.00      1.00      1.00       105\n",
      "          8       1.00      1.00      1.00        93\n",
      "          9       1.00      1.00      1.00        97\n",
      "\n",
      "avg / total       1.00      1.00      1.00      1000\n"
     ]
    },
    {
     "name": "stdout",
     "output_type": "stream",
     "text": [
      "\n"
     ]
    },
    {
     "name": "stdout",
     "output_type": "stream",
     "text": [
      "[[107   0   0   0   0   0   0   0   0   0]\n",
      " [  0  96   0   0   0   0   0   0   0   0]\n",
      " [  0   0 124   0   0   0   0   0   0   0]\n",
      " [  0   0   0  90   0   0   0   0   0   0]\n",
      " [  0   0   0   0 102   0   0   0   0   0]\n",
      " [  0   0   0   0   0  89   0   0   0   0]\n",
      " [  0   0   0   0   0   0  97   0   0   0]\n",
      " [  0   0   0   0   0   0   0 105   0   0]\n",
      " [  0   0   0   0   0   0   0   0  93   0]\n",
      " [  0   0   0   0   0   0   0   0   0  97]]"
     ]
    },
    {
     "name": "stdout",
     "output_type": "stream",
     "text": [
      "logistic_regression\n"
     ]
    },
    {
     "name": "stdout",
     "output_type": "stream",
     "text": [
      "\n"
     ]
    },
    {
     "name": "stdout",
     "output_type": "stream",
     "text": [
      "             precision    recall  f1-score   support\n",
      "\n",
      "          0       0.97      1.00      0.99       107\n",
      "          1       0.94      0.97      0.95        96\n",
      "          2       0.99      0.97      0.98       124\n",
      "          3       0.98      0.97      0.97        90\n",
      "          4       0.78      1.00      0.88       102\n",
      "          5       0.99      0.89      0.93        89\n",
      "          6       0.96      0.99      0.97        97\n",
      "          7       0.95      0.98      0.97       105\n",
      "          8       0.96      0.87      0.92        93\n",
      "          9       0.96      0.77      0.86        97\n",
      "\n",
      "avg / total       0.95      0.94      0.94      1000\n"
     ]
    },
    {
     "name": "stdout",
     "output_type": "stream",
     "text": [
      "\n"
     ]
    },
    {
     "name": "stdout",
     "output_type": "stream",
     "text": [
      "[[107   0   0   0   0   0   0   0   0   0]\n",
      " [  0  93   0   0   0   0   0   0   2   1]\n",
      " [  0   0 120   0   3   0   0   1   0   0]\n",
      " [  0   1   1  87   0   0   0   1   0   0]\n",
      " [  0   0   0   0 102   0   0   0   0   0]\n",
      " [  1   0   0   1   3  79   4   0   1   0]\n",
      " [  0   0   0   0   1   0  96   0   0   0]\n",
      " [  0   1   0   0   1   0   0 103   0   0]\n",
      " [  0   4   0   0   4   1   0   1  81   2]\n",
      " [  2   0   0   1  17   0   0   2   0  75]]"
     ]
    },
    {
     "name": "stdout",
     "output_type": "stream",
     "text": [
      "sgd_classifier\n"
     ]
    },
    {
     "name": "stdout",
     "output_type": "stream",
     "text": [
      "\n"
     ]
    },
    {
     "name": "stdout",
     "output_type": "stream",
     "text": [
      "             precision    recall  f1-score   support\n",
      "\n",
      "          0       0.99      1.00      1.00       107\n",
      "          1       0.96      0.98      0.97        96\n",
      "          2       0.91      1.00      0.95       124\n",
      "          3       0.95      0.98      0.96        90\n",
      "          4       0.90      0.98      0.94       102\n",
      "          5       0.93      0.94      0.94        89\n",
      "          6       0.98      0.93      0.95        97\n",
      "          7       0.98      0.93      0.96       105\n",
      "          8       0.97      0.81      0.88        93\n",
      "          9       0.91      0.89      0.90        97\n",
      "\n",
      "avg / total       0.95      0.95      0.95      1000\n"
     ]
    },
    {
     "name": "stdout",
     "output_type": "stream",
     "text": [
      "\n"
     ]
    },
    {
     "name": "stdout",
     "output_type": "stream",
     "text": [
      "[[107   0   0   0   0   0   0   0   0   0]\n",
      " [  0  94   1   0   0   0   0   0   1   0]\n",
      " [  0   0 124   0   0   0   0   0   0   0]\n",
      " [  0   0   2  88   0   0   0   0   0   0]\n",
      " [  0   1   0   0 100   0   0   0   0   1]\n",
      " [  0   0   0   0   1  84   2   0   1   1]\n",
      " [  1   1   4   0   0   1  90   0   0   0]\n",
      " [  0   1   2   0   1   0   0  98   0   3]\n",
      " [  0   1   3   4   2   5   0   0  75   3]\n",
      " [  0   0   1   1   7   0   0   2   0  86]]"
     ]
    },
    {
     "name": "stdout",
     "output_type": "stream",
     "text": [
      "perceptron\n"
     ]
    }
   ],
   "source": [
    "# learn, predict and report\n",
    "from sklearn.metrics import confusion_matrix, classification_report\n",
    "from sklearn.externals.joblib import Parallel, delayed, dump\n",
    "test_id = np.arange(1, test_num+1)\n",
    "results = {}\n",
    "def process_one_model(name, model):\n",
    "    model.fit(train_x, train_y)\n",
    "    predict_y = model.predict(train_x)\n",
    "    output = model.predict(test_x)\n",
    "    results[name] = output\n",
    "    submit = pd.DataFrame(data={'ImageId':test_id, 'Label':output})\n",
    "    submit.to_csv('{}_submit.csv'.format(name), index=False)\n",
    "    #dump(model, '{}.learn'.format(name))\n",
    "    print(name)\n",
    "    print(confusion_matrix(train_y, predict_y))\n",
    "    print(classification_report(train_y, predict_y))\n",
    "Parallel(n_jobs=n_cpus)(delayed(process_one_model)(name, model) for name,model in models)"
   ]
  },
  {
   "cell_type": "code",
   "execution_count": 9,
   "metadata": {
    "autoscroll": "json-false",
    "collapsed": false,
    "ein.tags": [
     "worksheet-0"
    ],
    "slideshow": {
     "slide_type": "-"
    }
   },
   "outputs": [
    {
     "name": "stdout",
     "output_type": "stream",
     "text": [
      "INFO:tensorflow:Restoring parameters from /tmp/tmplm6yoj04/model.ckpt-8\n"
     ]
    },
    {
     "name": "stdout",
     "output_type": "stream",
     "text": [
      "INFO:tensorflow:Saving dict for global step 8: accuracy = 0.603, average_loss = 9.56503, global_step = 8, loss = 1195.63\n"
     ]
    },
    {
     "name": "stdout",
     "output_type": "stream",
     "text": [
      "INFO:tensorflow:Finished evaluation at 2017-11-02-15:09:14\n"
     ]
    },
    {
     "name": "stdout",
     "output_type": "stream",
     "text": [
      "INFO:tensorflow:Evaluation [8/10]\n"
     ]
    },
    {
     "name": "stdout",
     "output_type": "stream",
     "text": [
      "INFO:tensorflow:Evaluation [7/10]\n"
     ]
    },
    {
     "name": "stdout",
     "output_type": "stream",
     "text": [
      "INFO:tensorflow:Evaluation [6/10]\n"
     ]
    },
    {
     "name": "stdout",
     "output_type": "stream",
     "text": [
      "INFO:tensorflow:Evaluation [5/10]\n"
     ]
    },
    {
     "name": "stdout",
     "output_type": "stream",
     "text": [
      "INFO:tensorflow:Evaluation [4/10]\n"
     ]
    },
    {
     "name": "stdout",
     "output_type": "stream",
     "text": [
      "INFO:tensorflow:Evaluation [3/10]\n"
     ]
    },
    {
     "name": "stdout",
     "output_type": "stream",
     "text": [
      "INFO:tensorflow:Evaluation [2/10]\n"
     ]
    },
    {
     "name": "stdout",
     "output_type": "stream",
     "text": [
      "INFO:tensorflow:Evaluation [1/10]\n"
     ]
    },
    {
     "name": "stdout",
     "output_type": "stream",
     "text": [
      "INFO:tensorflow:Restoring parameters from /tmp/tmplm6yoj04/model.ckpt-8\n"
     ]
    },
    {
     "name": "stdout",
     "output_type": "stream",
     "text": [
      "INFO:tensorflow:Starting evaluation at 2017-11-02-15:09:10\n"
     ]
    },
    {
     "name": "stdout",
     "output_type": "stream",
     "text": [
      "INFO:tensorflow:Loss for final step: 3978.52.\n"
     ]
    },
    {
     "name": "stdout",
     "output_type": "stream",
     "text": [
      "INFO:tensorflow:Saving checkpoints for 8 into /tmp/tmplm6yoj04/model.ckpt.\n"
     ]
    },
    {
     "name": "stdout",
     "output_type": "stream",
     "text": [
      "INFO:tensorflow:loss = 20356.3, step = 1\n"
     ]
    },
    {
     "name": "stdout",
     "output_type": "stream",
     "text": [
      "INFO:tensorflow:Saving checkpoints for 1 into /tmp/tmplm6yoj04/model.ckpt.\n"
     ]
    },
    {
     "name": "stdout",
     "output_type": "stream",
     "text": [
      "INFO:tensorflow:Create CheckpointSaverHook.\n"
     ]
    },
    {
     "name": "stdout",
     "output_type": "stream",
     "text": [
      "INFO:tensorflow:Using config: {'_model_dir': '/tmp/tmplm6yoj04', '_tf_random_seed': 1, '_save_summary_steps': 100, '_save_checkpoints_secs': 600, '_save_checkpoints_steps': None, '_session_config': None, '_keep_checkpoint_max': 5, '_keep_checkpoint_every_n_hours': 10000, '_log_step_count_steps': 100}\n"
     ]
    },
    {
     "name": "stdout",
     "output_type": "stream",
     "text": [
      "WARNING:tensorflow:Using temporary folder as model directory: /tmp/tmplm6yoj04\n"
     ]
    },
    {
     "name": "stdout",
     "output_type": "stream",
     "text": [
      "INFO:tensorflow:Using default config.\n"
     ]
    }
   ],
   "source": [
    "# neural network with tensorflow (skflow -> contrib.learn -> estimator)\n",
    "import tensorflow as tf\n",
    "feature_columns = [tf.feature_column.numeric_column(k) for k in train_x.columns]\n",
    "tf_model = tf.estimator.DNNClassifier(hidden_units=[1000], n_classes=10, feature_columns=feature_columns)\n",
    "input_fn_train = tf.estimator.inputs.pandas_input_fn(x=train_x, y=train_y, shuffle=False)\n",
    "tf_model.train(input_fn=input_fn_train, steps=100)\n",
    "tf_model.evaluate(input_fn=input_fn_train, steps=10)\n",
    "#scores = cross_validate(tf_model, train_x, train_y, cv=k_fold, scoring='accuracy')   # throws an error\n",
    "input_fn_predict = tf.estimator.inputs.pandas_input_fn(x=test_x, shuffle=False)\n",
    "generator = tf_model.predict(input_fn=input_fn_predict)\n",
    "output = [d['class_ids'][0] for d in generator]\n",
    "submit = pd.DataFrame(data={'ImageId':test_id, 'Label':output})\n",
    "submit.to_csv('nn_tensor_submit.csv'.format(name), index=False)"
   ]
  },
  {
   "cell_type": "code",
   "execution_count": 14,
   "metadata": {
    "autoscroll": "json-false",
    "collapsed": true,
    "ein.tags": [
     "worksheet-0"
    ],
    "slideshow": {
     "slide_type": "-"
    }
   },
   "outputs": [
    {
     "name": "stdout",
     "output_type": "stream",
     "text": [
      "[7 7 7 7 7 7 7 7 7 7]\n"
     ]
    },
    {
     "name": "stdout",
     "output_type": "stream",
     "text": [
      "\b\b\b\b\b\b\b\b\b\b\b\b\b\b\b\b\b\b\b\b\b\b\b\b\b\b\b\b\b\b\b\b\b\b\b\b\b\b\b\b\b\b\b\b\b\b\b\b\b\b\b\b\b\b\r",
      "27552/28000 [============================>.] - ETA: 0s"
     ]
    },
    {
     "name": "stdout",
     "output_type": "stream",
     "text": [
      "\b\b\b\b\b\b\b\b\b\b\b\b\b\b\b\b\b\b\b\b\b\b\b\b\b\b\b\b\b\b\b\b\b\b\b\b\b\b\b\b\b\b\b\b\b\b\b\b\b\b\b\b\b\b\r",
      "26560/28000 [===========================>..] - ETA: 0s"
     ]
    },
    {
     "name": "stdout",
     "output_type": "stream",
     "text": [
      "\b\b\b\b\b\b\b\b\b\b\b\b\b\b\b\b\b\b\b\b\b\b\b\b\b\b\b\b\b\b\b\b\b\b\b\b\b\b\b\b\b\b\b\b\b\b\b\b\b\b\b\b\b\b\r",
      "25568/28000 [==========================>...] - ETA: 0s"
     ]
    },
    {
     "name": "stdout",
     "output_type": "stream",
     "text": [
      "\b\b\b\b\b\b\b\b\b\b\b\b\b\b\b\b\b\b\b\b\b\b\b\b\b\b\b\b\b\b\b\b\b\b\b\b\b\b\b\b\b\b\b\b\b\b\b\b\b\b\b\b\b\b\r",
      "24640/28000 [=========================>....] - ETA: 0s"
     ]
    },
    {
     "name": "stdout",
     "output_type": "stream",
     "text": [
      "\b\b\b\b\b\b\b\b\b\b\b\b\b\b\b\b\b\b\b\b\b\b\b\b\b\b\b\b\b\b\b\b\b\b\b\b\b\b\b\b\b\b\b\b\b\b\b\b\b\b\b\b\b\b\r",
      "23712/28000 [========================>.....] - ETA: 0s"
     ]
    },
    {
     "name": "stdout",
     "output_type": "stream",
     "text": [
      "\b\b\b\b\b\b\b\b\b\b\b\b\b\b\b\b\b\b\b\b\b\b\b\b\b\b\b\b\b\b\b\b\b\b\b\b\b\b\b\b\b\b\b\b\b\b\b\b\b\b\b\b\b\b\r",
      "22720/28000 [=======================>......] - ETA: 0s"
     ]
    },
    {
     "name": "stdout",
     "output_type": "stream",
     "text": [
      "\b\b\b\b\b\b\b\b\b\b\b\b\b\b\b\b\b\b\b\b\b\b\b\b\b\b\b\b\b\b\b\b\b\b\b\b\b\b\b\b\b\b\b\b\b\b\b\b\b\b\b\b\b\b\r",
      "21760/28000 [======================>.......] - ETA: 0s"
     ]
    },
    {
     "name": "stdout",
     "output_type": "stream",
     "text": [
      "\b\b\b\b\b\b\b\b\b\b\b\b\b\b\b\b\b\b\b\b\b\b\b\b\b\b\b\b\b\b\b\b\b\b\b\b\b\b\b\b\b\b\b\b\b\b\b\b\b\b\b\b\b\b\r",
      "20896/28000 [=====================>........] - ETA: 0s"
     ]
    },
    {
     "name": "stdout",
     "output_type": "stream",
     "text": [
      "\b\b\b\b\b\b\b\b\b\b\b\b\b\b\b\b\b\b\b\b\b\b\b\b\b\b\b\b\b\b\b\b\b\b\b\b\b\b\b\b\b\b\b\b\b\b\b\b\b\b\b\b\b\b\r",
      "19968/28000 [====================>.........] - ETA: 0s"
     ]
    },
    {
     "name": "stdout",
     "output_type": "stream",
     "text": [
      "\b\b\b\b\b\b\b\b\b\b\b\b\b\b\b\b\b\b\b\b\b\b\b\b\b\b\b\b\b\b\b\b\b\b\b\b\b\b\b\b\b\b\b\b\b\b\b\b\b\b\b\b\b\b\r",
      "19072/28000 [===================>..........] - ETA: 0s"
     ]
    },
    {
     "name": "stdout",
     "output_type": "stream",
     "text": [
      "\b\b\b\b\b\b\b\b\b\b\b\b\b\b\b\b\b\b\b\b\b\b\b\b\b\b\b\b\b\b\b\b\b\b\b\b\b\b\b\b\b\b\b\b\b\b\b\b\b\b\b\b\b\b\r",
      "18112/28000 [==================>...........] - ETA: 0s"
     ]
    },
    {
     "name": "stdout",
     "output_type": "stream",
     "text": [
      "\b\b\b\b\b\b\b\b\b\b\b\b\b\b\b\b\b\b\b\b\b\b\b\b\b\b\b\b\b\b\b\b\b\b\b\b\b\b\b\b\b\b\b\b\b\b\b\b\b\b\b\b\b\b\r",
      "17152/28000 [=================>............] - ETA: 0s"
     ]
    },
    {
     "name": "stdout",
     "output_type": "stream",
     "text": [
      "\b\b\b\b\b\b\b\b\b\b\b\b\b\b\b\b\b\b\b\b\b\b\b\b\b\b\b\b\b\b\b\b\b\b\b\b\b\b\b\b\b\b\b\b\b\b\b\b\b\b\b\b\b\b\r",
      "16160/28000 [================>.............] - ETA: 0s"
     ]
    },
    {
     "name": "stdout",
     "output_type": "stream",
     "text": [
      "\b\b\b\b\b\b\b\b\b\b\b\b\b\b\b\b\b\b\b\b\b\b\b\b\b\b\b\b\b\b\b\b\b\b\b\b\b\b\b\b\b\b\b\b\b\b\b\b\b\b\b\b\b\b\r",
      "15168/28000 [===============>..............] - ETA: 0s"
     ]
    },
    {
     "name": "stdout",
     "output_type": "stream",
     "text": [
      "\b\b\b\b\b\b\b\b\b\b\b\b\b\b\b\b\b\b\b\b\b\b\b\b\b\b\b\b\b\b\b\b\b\b\b\b\b\b\b\b\b\b\b\b\b\b\b\b\b\b\b\b\b\b\r",
      "14240/28000 [==============>...............] - ETA: 0s"
     ]
    },
    {
     "name": "stdout",
     "output_type": "stream",
     "text": [
      "\b\b\b\b\b\b\b\b\b\b\b\b\b\b\b\b\b\b\b\b\b\b\b\b\b\b\b\b\b\b\b\b\b\b\b\b\b\b\b\b\b\b\b\b\b\b\b\b\b\b\b\b\b\b\r",
      "13280/28000 [=============>................] - ETA: 0s"
     ]
    },
    {
     "name": "stdout",
     "output_type": "stream",
     "text": [
      "\b\b\b\b\b\b\b\b\b\b\b\b\b\b\b\b\b\b\b\b\b\b\b\b\b\b\b\b\b\b\b\b\b\b\b\b\b\b\b\b\b\b\b\b\b\b\b\b\b\b\b\b\b\b\r",
      "12352/28000 [============>.................] - ETA: 0s"
     ]
    },
    {
     "name": "stdout",
     "output_type": "stream",
     "text": [
      "\b\b\b\b\b\b\b\b\b\b\b\b\b\b\b\b\b\b\b\b\b\b\b\b\b\b\b\b\b\b\b\b\b\b\b\b\b\b\b\b\b\b\b\b\b\b\b\b\b\b\b\b\b\b\r",
      "11424/28000 [===========>..................] - ETA: 0s"
     ]
    },
    {
     "name": "stdout",
     "output_type": "stream",
     "text": [
      "\b\b\b\b\b\b\b\b\b\b\b\b\b\b\b\b\b\b\b\b\b\b\b\b\b\b\b\b\b\b\b\b\b\b\b\b\b\b\b\b\b\b\b\b\b\b\b\b\b\b\b\b\b\b\r",
      "10528/28000 [==========>...................] - ETA: 0s"
     ]
    },
    {
     "name": "stdout",
     "output_type": "stream",
     "text": [
      "\b\b\b\b\b\b\b\b\b\b\b\b\b\b\b\b\b\b\b\b\b\b\b\b\b\b\b\b\b\b\b\b\b\b\b\b\b\b\b\b\b\b\b\b\b\b\b\b\b\b\b\b\b\b\r",
      " 9536/28000 [=========>....................] - ETA: 1s"
     ]
    },
    {
     "name": "stdout",
     "output_type": "stream",
     "text": [
      "\b\b\b\b\b\b\b\b\b\b\b\b\b\b\b\b\b\b\b\b\b\b\b\b\b\b\b\b\b\b\b\b\b\b\b\b\b\b\b\b\b\b\b\b\b\b\b\b\b\b\b\b\b\b\r",
      " 8480/28000 [========>.....................] - ETA: 1s"
     ]
    },
    {
     "name": "stdout",
     "output_type": "stream",
     "text": [
      "\b\b\b\b\b\b\b\b\b\b\b\b\b\b\b\b\b\b\b\b\b\b\b\b\b\b\b\b\b\b\b\b\b\b\b\b\b\b\b\b\b\b\b\b\b\b\b\b\b\b\b\b\b\b\r",
      " 7488/28000 [=======>......................] - ETA: 1s"
     ]
    },
    {
     "name": "stdout",
     "output_type": "stream",
     "text": [
      "\b\b\b\b\b\b\b\b\b\b\b\b\b\b\b\b\b\b\b\b\b\b\b\b\b\b\b\b\b\b\b\b\b\b\b\b\b\b\b\b\b\b\b\b\b\b\b\b\b\b\b\b\b\b\r",
      " 6592/28000 [======>.......................] - ETA: 1s"
     ]
    },
    {
     "name": "stdout",
     "output_type": "stream",
     "text": [
      "\b\b\b\b\b\b\b\b\b\b\b\b\b\b\b\b\b\b\b\b\b\b\b\b\b\b\b\b\b\b\b\b\b\b\b\b\b\b\b\b\b\b\b\b\b\b\b\b\b\b\b\b\b\b\r",
      " 5664/28000 [=====>........................] - ETA: 1s"
     ]
    },
    {
     "name": "stdout",
     "output_type": "stream",
     "text": [
      "\b\b\b\b\b\b\b\b\b\b\b\b\b\b\b\b\b\b\b\b\b\b\b\b\b\b\b\b\b\b\b\b\b\b\b\b\b\b\b\b\b\b\b\b\b\b\b\b\b\b\b\b\b\b\r",
      " 4768/28000 [====>.........................] - ETA: 1s"
     ]
    },
    {
     "name": "stdout",
     "output_type": "stream",
     "text": [
      "\b\b\b\b\b\b\b\b\b\b\b\b\b\b\b\b\b\b\b\b\b\b\b\b\b\b\b\b\b\b\b\b\b\b\b\b\b\b\b\b\b\b\b\b\b\b\b\b\b\b\b\b\b\b\r",
      " 3840/28000 [===>..........................] - ETA: 1s"
     ]
    },
    {
     "name": "stdout",
     "output_type": "stream",
     "text": [
      "\b\b\b\b\b\b\b\b\b\b\b\b\b\b\b\b\b\b\b\b\b\b\b\b\b\b\b\b\b\b\b\b\b\b\b\b\b\b\b\b\b\b\b\b\b\b\b\b\b\b\b\b\b\b\r",
      " 2912/28000 [==>...........................] - ETA: 1s"
     ]
    },
    {
     "name": "stdout",
     "output_type": "stream",
     "text": [
      "\b\b\b\b\b\b\b\b\b\b\b\b\b\b\b\b\b\b\b\b\b\b\b\b\b\b\b\b\b\b\b\b\b\b\b\b\b\b\b\b\b\b\b\b\b\b\b\b\b\b\b\b\b\b\r",
      " 1920/28000 [=>............................] - ETA: 1s"
     ]
    },
    {
     "name": "stdout",
     "output_type": "stream",
     "text": [
      "\b\b\b\b\b\b\b\b\b\b\b\b\b\b\b\b\b\b\b\b\b\b\b\b\b\b\b\b\b\b\b\b\b\b\b\b\b\b\b\b\b\b\b\b\b\b\b\b\b\b\b\b\b\b\r",
      "  992/28000 [>.............................] - ETA: 1s"
     ]
    },
    {
     "name": "stdout",
     "output_type": "stream",
     "text": [
      "0.105\n",
      "\r",
      "   32/28000 [..............................] - ETA: 9s"
     ]
    },
    {
     "name": "stdout",
     "output_type": "stream",
     "text": [
      "\b\b\b\b\b\b\b\b\b\b\b\b\b\b\b\b\b\b\b\b\b\b\b\b\b\b\b\b\b\b\b\b\b\b\b\b\b\b\b\b\b\b\b\b\b\b\b\b\b\b\b\b\r",
      " 864/1000 [========================>.....] - ETA: 0s"
     ]
    },
    {
     "name": "stdout",
     "output_type": "stream",
     "text": [
      "\n",
      "\r",
      "  32/1000 [..............................] - ETA: 0s"
     ]
    },
    {
     "name": "stdout",
     "output_type": "stream",
     "text": [
      "\b\b\b\b\b\b\b\b\b\b\b\b\b\b\b\b\b\b\b\b\b\b\b\b\b\b\b\b\b\b\b\b\b\b\b\b\b\b\b\b\b\b\b\b\b\b\b\b\b\b\b\b\b\b\b\b\b\b\b\b\b\b\b\b\b\b\b\b\b\b\b\b\b\b\b\b\b\b\b\b\b\b\r",
      "1000/1000 [==============================] - 0s - loss: 14.4257 - acc: 0.1050     "
     ]
    },
    {
     "name": "stdout",
     "output_type": "stream",
     "text": [
      "\b\b\b\b\b\b\b\b\b\b\b\b\b\b\b\b\b\b\b\b\b\b\b\b\b\b\b\b\b\b\b\b\b\b\b\b\b\b\b\b\b\b\b\b\b\b\b\b\b\b\b\b\b\b\b\b\b\b\b\b\b\b\b\b\b\b\b\b\b\b\b\b\b\b\b\b\b\b\b\b\b\b\r",
      " 960/1000 [===========================>..] - ETA: 0s - loss: 14.3888 - acc: 0.1073"
     ]
    },
    {
     "name": "stdout",
     "output_type": "stream",
     "text": [
      "\b\b\b\b\b\b\b\b\b\b\b\b\b\b\b\b\b\b\b\b\b\b\b\b\b\b\b\b\b\b\b\b\b\b\b\b\b\b\b\b\b\b\b\b\b\b\b\b\b\b\b\b\b\b\b\b\b\b\b\b\b\b\b\b\b\b\b\b\b\b\b\b\b\b\b\b\b\b\b\b\b\b\r",
      " 780/1000 [======================>.......] - ETA: 0s - loss: 14.4236 - acc: 0.1051"
     ]
    },
    {
     "name": "stdout",
     "output_type": "stream",
     "text": [
      "\b\b\b\b\b\b\b\b\b\b\b\b\b\b\b\b\b\b\b\b\b\b\b\b\b\b\b\b\b\b\b\b\b\b\b\b\b\b\b\b\b\b\b\b\b\b\b\b\b\b\b\b\b\b\b\b\b\b\b\b\b\b\b\b\b\b\b\b\b\b\b\b\b\b\b\b\b\b\b\b\b\b\r",
      " 600/1000 [=================>............] - ETA: 0s - loss: 14.5063 - acc: 0.1000"
     ]
    },
    {
     "name": "stdout",
     "output_type": "stream",
     "text": [
      "\b\b\b\b\b\b\b\b\b\b\b\b\b\b\b\b\b\b\b\b\b\b\b\b\b\b\b\b\b\b\b\b\b\b\b\b\b\b\b\b\b\b\b\b\b\b\b\b\b\b\b\b\b\b\b\b\b\b\b\b\b\b\b\b\b\b\b\b\b\b\b\b\b\b\b\b\b\b\b\b\b\b\r",
      " 400/1000 [===========>..................] - ETA: 0s - loss: 14.3451 - acc: 0.1100"
     ]
    },
    {
     "name": "stdout",
     "output_type": "stream",
     "text": [
      "\b\b\b\b\b\b\b\b\b\b\b\b\b\b\b\b\b\b\b\b\b\b\b\b\b\b\b\b\b\b\b\b\b\b\b\b\b\b\b\b\b\b\b\b\b\b\b\b\b\b\b\b\b\b\b\b\b\b\b\b\b\b\b\b\b\b\b\b\b\b\b\b\b\b\b\b\b\b\b\b\b\b\r",
      " 220/1000 [=====>........................] - ETA: 0s - loss: 13.9202 - acc: 0.1364"
     ]
    },
    {
     "name": "stdout",
     "output_type": "stream",
     "text": [
      "\n",
      "Epoch 10/10\n",
      "\r",
      "  20/1000 [..............................] - ETA: 0s - loss: 13.7004 - acc: 0.1500"
     ]
    },
    {
     "name": "stdout",
     "output_type": "stream",
     "text": [
      "\b\b\b\b\b\b\b\b\b\b\b\b\b\b\b\b\b\b\b\b\b\b\b\b\b\b\b\b\b\b\b\b\b\b\b\b\b\b\b\b\b\b\b\b\b\b\b\b\b\b\b\b\b\b\b\b\b\b\b\b\b\b\b\b\b\b\b\b\b\b\b\b\b\b\b\b\b\b\b\b\b\b\r",
      "1000/1000 [==============================] - 0s - loss: 14.4257 - acc: 0.1050     "
     ]
    },
    {
     "name": "stdout",
     "output_type": "stream",
     "text": [
      "\b\b\b\b\b\b\b\b\b\b\b\b\b\b\b\b\b\b\b\b\b\b\b\b\b\b\b\b\b\b\b\b\b\b\b\b\b\b\b\b\b\b\b\b\b\b\b\b\b\b\b\b\b\b\b\b\b\b\b\b\b\b\b\b\b\b\b\b\b\b\b\b\b\b\b\b\b\b\b\b\b\b\r",
      " 980/1000 [============================>.] - ETA: 0s - loss: 14.4076 - acc: 0.1061"
     ]
    },
    {
     "name": "stdout",
     "output_type": "stream",
     "text": [
      "\b\b\b\b\b\b\b\b\b\b\b\b\b\b\b\b\b\b\b\b\b\b\b\b\b\b\b\b\b\b\b\b\b\b\b\b\b\b\b\b\b\b\b\b\b\b\b\b\b\b\b\b\b\b\b\b\b\b\b\b\b\b\b\b\b\b\b\b\b\b\b\b\b\b\b\b\b\b\b\b\b\b\r",
      " 780/1000 [======================>.......] - ETA: 0s - loss: 14.5063 - acc: 0.1000"
     ]
    },
    {
     "name": "stdout",
     "output_type": "stream",
     "text": [
      "\b\b\b\b\b\b\b\b\b\b\b\b\b\b\b\b\b\b\b\b\b\b\b\b\b\b\b\b\b\b\b\b\b\b\b\b\b\b\b\b\b\b\b\b\b\b\b\b\b\b\b\b\b\b\b\b\b\b\b\b\b\b\b\b\b\b\b\b\b\b\b\b\b\b\b\b\b\b\b\b\b\b\r",
      " 580/1000 [================>.............] - ETA: 0s - loss: 14.5063 - acc: 0.1000"
     ]
    },
    {
     "name": "stdout",
     "output_type": "stream",
     "text": [
      "\b\b\b\b\b\b\b\b\b\b\b\b\b\b\b\b\b\b\b\b\b\b\b\b\b\b\b\b\b\b\b\b\b\b\b\b\b\b\b\b\b\b\b\b\b\b\b\b\b\b\b\b\b\b\b\b\b\b\b\b\b\b\b\b\b\b\b\b\b\b\b\b\b\b\b\b\b\b\b\b\b\b\r",
      " 400/1000 [===========>..................] - ETA: 0s - loss: 14.5063 - acc: 0.1000"
     ]
    },
    {
     "name": "stdout",
     "output_type": "stream",
     "text": [
      "\b\b\b\b\b\b\b\b\b\b\b\b\b\b\b\b\b\b\b\b\b\b\b\b\b\b\b\b\b\b\b\b\b\b\b\b\b\b\b\b\b\b\b\b\b\b\b\b\b\b\b\b\b\b\b\b\b\b\b\b\b\b\b\b\b\b\b\b\b\b\b\b\b\b\b\b\b\b\b\b\b\b\r",
      " 220/1000 [=====>........................] - ETA: 0s - loss: 14.4330 - acc: 0.1045"
     ]
    },
    {
     "name": "stdout",
     "output_type": "stream",
     "text": [
      "\n",
      "Epoch 9/10\n",
      "\r",
      "  20/1000 [..............................] - ETA: 0s - loss: 15.3122 - acc: 0.0500"
     ]
    },
    {
     "name": "stdout",
     "output_type": "stream",
     "text": [
      "\b\b\b\b\b\b\b\b\b\b\b\b\b\b\b\b\b\b\b\b\b\b\b\b\b\b\b\b\b\b\b\b\b\b\b\b\b\b\b\b\b\b\b\b\b\b\b\b\b\b\b\b\b\b\b\b\b\b\b\b\b\b\b\b\b\b\b\b\b\b\b\b\b\b\b\b\b\b\b\b\b\b\r",
      "1000/1000 [==============================] - 0s - loss: 14.4257 - acc: 0.1050     "
     ]
    },
    {
     "name": "stdout",
     "output_type": "stream",
     "text": [
      "\b\b\b\b\b\b\b\b\b\b\b\b\b\b\b\b\b\b\b\b\b\b\b\b\b\b\b\b\b\b\b\b\b\b\b\b\b\b\b\b\b\b\b\b\b\b\b\b\b\b\b\b\b\b\b\b\b\b\b\b\b\b\b\b\b\b\b\b\b\b\b\b\b\b\b\b\b\b\b\b\b\b\r",
      " 980/1000 [============================>.] - ETA: 0s - loss: 14.4569 - acc: 0.1031"
     ]
    },
    {
     "name": "stdout",
     "output_type": "stream",
     "text": [
      "\b\b\b\b\b\b\b\b\b\b\b\b\b\b\b\b\b\b\b\b\b\b\b\b\b\b\b\b\b\b\b\b\b\b\b\b\b\b\b\b\b\b\b\b\b\b\b\b\b\b\b\b\b\b\b\b\b\b\b\b\b\b\b\b\b\b\b\b\b\b\b\b\b\b\b\b\b\b\b\b\b\b\r",
      " 780/1000 [======================>.......] - ETA: 0s - loss: 14.5063 - acc: 0.1000"
     ]
    },
    {
     "name": "stdout",
     "output_type": "stream",
     "text": [
      "\b\b\b\b\b\b\b\b\b\b\b\b\b\b\b\b\b\b\b\b\b\b\b\b\b\b\b\b\b\b\b\b\b\b\b\b\b\b\b\b\b\b\b\b\b\b\b\b\b\b\b\b\b\b\b\b\b\b\b\b\b\b\b\b\b\b\b\b\b\b\b\b\b\b\b\b\b\b\b\b\b\b\r",
      " 600/1000 [=================>............] - ETA: 0s - loss: 14.3988 - acc: 0.1067"
     ]
    },
    {
     "name": "stdout",
     "output_type": "stream",
     "text": [
      "\b\b\b\b\b\b\b\b\b\b\b\b\b\b\b\b\b\b\b\b\b\b\b\b\b\b\b\b\b\b\b\b\b\b\b\b\b\b\b\b\b\b\b\b\b\b\b\b\b\b\b\b\b\b\b\b\b\b\b\b\b\b\b\b\b\b\b\b\b\b\b\b\b\b\b\b\b\b\b\b\b\b\r",
      " 400/1000 [===========>..................] - ETA: 0s - loss: 14.3048 - acc: 0.1125"
     ]
    },
    {
     "name": "stdout",
     "output_type": "stream",
     "text": [
      "\b\b\b\b\b\b\b\b\b\b\b\b\b\b\b\b\b\b\b\b\b\b\b\b\b\b\b\b\b\b\b\b\b\b\b\b\b\b\b\b\b\b\b\b\b\b\b\b\b\b\b\b\b\b\b\b\b\b\b\b\b\b\b\b\b\b\b\b\b\b\b\b\b\b\b\b\b\b\b\b\b\b\r",
      " 220/1000 [=====>........................] - ETA: 0s - loss: 14.7261 - acc: 0.0864"
     ]
    },
    {
     "name": "stdout",
     "output_type": "stream",
     "text": [
      "\n",
      "Epoch 8/10\n",
      "\r",
      "  20/1000 [..............................] - ETA: 0s - loss: 14.5063 - acc: 0.1000"
     ]
    },
    {
     "name": "stdout",
     "output_type": "stream",
     "text": [
      "\b\b\b\b\b\b\b\b\b\b\b\b\b\b\b\b\b\b\b\b\b\b\b\b\b\b\b\b\b\b\b\b\b\b\b\b\b\b\b\b\b\b\b\b\b\b\b\b\b\b\b\b\b\b\b\b\b\b\b\b\b\b\b\b\b\b\b\b\b\b\b\b\b\b\b\b\b\b\b\b\b\b\r",
      "1000/1000 [==============================] - 0s - loss: 14.4257 - acc: 0.1050     "
     ]
    },
    {
     "name": "stdout",
     "output_type": "stream",
     "text": [
      "\b\b\b\b\b\b\b\b\b\b\b\b\b\b\b\b\b\b\b\b\b\b\b\b\b\b\b\b\b\b\b\b\b\b\b\b\b\b\b\b\b\b\b\b\b\b\b\b\b\b\b\b\b\b\b\b\b\b\b\b\b\b\b\b\b\b\b\b\b\b\b\b\b\b\b\b\b\b\b\b\b\b\r",
      " 980/1000 [============================>.] - ETA: 0s - loss: 14.4076 - acc: 0.1061"
     ]
    },
    {
     "name": "stdout",
     "output_type": "stream",
     "text": [
      "\b\b\b\b\b\b\b\b\b\b\b\b\b\b\b\b\b\b\b\b\b\b\b\b\b\b\b\b\b\b\b\b\b\b\b\b\b\b\b\b\b\b\b\b\b\b\b\b\b\b\b\b\b\b\b\b\b\b\b\b\b\b\b\b\b\b\b\b\b\b\b\b\b\b\b\b\b\b\b\b\b\b\r",
      " 780/1000 [======================>.......] - ETA: 0s - loss: 14.2996 - acc: 0.1128"
     ]
    },
    {
     "name": "stdout",
     "output_type": "stream",
     "text": [
      "\b\b\b\b\b\b\b\b\b\b\b\b\b\b\b\b\b\b\b\b\b\b\b\b\b\b\b\b\b\b\b\b\b\b\b\b\b\b\b\b\b\b\b\b\b\b\b\b\b\b\b\b\b\b\b\b\b\b\b\b\b\b\b\b\b\b\b\b\b\b\b\b\b\b\b\b\b\b\b\b\b\b\r",
      " 580/1000 [================>.............] - ETA: 0s - loss: 14.0894 - acc: 0.1259"
     ]
    },
    {
     "name": "stdout",
     "output_type": "stream",
     "text": [
      "\b\b\b\b\b\b\b\b\b\b\b\b\b\b\b\b\b\b\b\b\b\b\b\b\b\b\b\b\b\b\b\b\b\b\b\b\b\b\b\b\b\b\b\b\b\b\b\b\b\b\b\b\b\b\b\b\b\b\b\b\b\b\b\b\b\b\b\b\b\b\b\b\b\b\b\b\b\b\b\b\b\b\r",
      " 400/1000 [===========>..................] - ETA: 0s - loss: 14.0227 - acc: 0.1300"
     ]
    },
    {
     "name": "stdout",
     "output_type": "stream",
     "text": [
      "\b\b\b\b\b\b\b\b\b\b\b\b\b\b\b\b\b\b\b\b\b\b\b\b\b\b\b\b\b\b\b\b\b\b\b\b\b\b\b\b\b\b\b\b\b\b\b\b\b\b\b\b\b\b\b\b\b\b\b\b\b\b\b\b\b\b\b\b\b\b\b\b\b\b\b\b\b\b\b\b\b\b\r",
      " 220/1000 [=====>........................] - ETA: 0s - loss: 13.9202 - acc: 0.1364"
     ]
    },
    {
     "name": "stdout",
     "output_type": "stream",
     "text": [
      "\n",
      "Epoch 7/10\n",
      "\r",
      "  20/1000 [..............................] - ETA: 0s - loss: 15.3122 - acc: 0.0500"
     ]
    },
    {
     "name": "stdout",
     "output_type": "stream",
     "text": [
      "\b\b\b\b\b\b\b\b\b\b\b\b\b\b\b\b\b\b\b\b\b\b\b\b\b\b\b\b\b\b\b\b\b\b\b\b\b\b\b\b\b\b\b\b\b\b\b\b\b\b\b\b\b\b\b\b\b\b\b\b\b\b\b\b\b\b\b\b\b\b\b\b\b\b\b\b\b\b\b\b\b\b\r",
      "1000/1000 [==============================] - 0s - loss: 14.4257 - acc: 0.1050     "
     ]
    },
    {
     "name": "stdout",
     "output_type": "stream",
     "text": [
      "\b\b\b\b\b\b\b\b\b\b\b\b\b\b\b\b\b\b\b\b\b\b\b\b\b\b\b\b\b\b\b\b\b\b\b\b\b\b\b\b\b\b\b\b\b\b\b\b\b\b\b\b\b\b\b\b\b\b\b\b\b\b\b\b\b\b\b\b\b\b\b\b\b\b\b\b\b\b\b\b\b\b\r",
      " 940/1000 [===========================>..] - ETA: 0s - loss: 14.4720 - acc: 0.1021"
     ]
    },
    {
     "name": "stdout",
     "output_type": "stream",
     "text": [
      "\b\b\b\b\b\b\b\b\b\b\b\b\b\b\b\b\b\b\b\b\b\b\b\b\b\b\b\b\b\b\b\b\b\b\b\b\b\b\b\b\b\b\b\b\b\b\b\b\b\b\b\b\b\b\b\b\b\b\b\b\b\b\b\b\b\b\b\b\b\b\b\b\b\b\b\b\b\b\b\b\b\b\r",
      " 760/1000 [=====================>........] - ETA: 0s - loss: 14.4851 - acc: 0.1013"
     ]
    },
    {
     "name": "stdout",
     "output_type": "stream",
     "text": [
      "\b\b\b\b\b\b\b\b\b\b\b\b\b\b\b\b\b\b\b\b\b\b\b\b\b\b\b\b\b\b\b\b\b\b\b\b\b\b\b\b\b\b\b\b\b\b\b\b\b\b\b\b\b\b\b\b\b\b\b\b\b\b\b\b\b\b\b\b\b\b\b\b\b\b\b\b\b\b\b\b\b\b\r",
      " 580/1000 [================>.............] - ETA: 0s - loss: 14.4507 - acc: 0.1034"
     ]
    },
    {
     "name": "stdout",
     "output_type": "stream",
     "text": [
      "\b\b\b\b\b\b\b\b\b\b\b\b\b\b\b\b\b\b\b\b\b\b\b\b\b\b\b\b\b\b\b\b\b\b\b\b\b\b\b\b\b\b\b\b\b\b\b\b\b\b\b\b\b\b\b\b\b\b\b\b\b\b\b\b\b\b\b\b\b\b\b\b\b\b\b\b\b\b\b\b\b\b\r",
      " 400/1000 [===========>..................] - ETA: 0s - loss: 14.2645 - acc: 0.1150"
     ]
    },
    {
     "name": "stdout",
     "output_type": "stream",
     "text": [
      "\b\b\b\b\b\b\b\b\b\b\b\b\b\b\b\b\b\b\b\b\b\b\b\b\b\b\b\b\b\b\b\b\b\b\b\b\b\b\b\b\b\b\b\b\b\b\b\b\b\b\b\b\b\b\b\b\b\b\b\b\b\b\b\b\b\b\b\b\b\b\b\b\b\b\b\b\b\b\b\b\b\b\r",
      " 200/1000 [=====>........................] - ETA: 0s - loss: 14.2645 - acc: 0.1150"
     ]
    },
    {
     "name": "stdout",
     "output_type": "stream",
     "text": [
      "\n",
      "Epoch 6/10\n",
      "\r",
      "  20/1000 [..............................] - ETA: 0s - loss: 13.7004 - acc: 0.1500"
     ]
    },
    {
     "name": "stdout",
     "output_type": "stream",
     "text": [
      "\b\b\b\b\b\b\b\b\b\b\b\b\b\b\b\b\b\b\b\b\b\b\b\b\b\b\b\b\b\b\b\b\b\b\b\b\b\b\b\b\b\b\b\b\b\b\b\b\b\b\b\b\b\b\b\b\b\b\b\b\b\b\b\b\b\b\b\b\b\b\b\b\b\b\b\b\b\b\b\b\b\b\r",
      "1000/1000 [==============================] - 0s - loss: 14.4257 - acc: 0.1050     "
     ]
    },
    {
     "name": "stdout",
     "output_type": "stream",
     "text": [
      "\b\b\b\b\b\b\b\b\b\b\b\b\b\b\b\b\b\b\b\b\b\b\b\b\b\b\b\b\b\b\b\b\b\b\b\b\b\b\b\b\b\b\b\b\b\b\b\b\b\b\b\b\b\b\b\b\b\b\b\b\b\b\b\b\b\b\b\b\b\b\b\b\b\b\b\b\b\b\b\b\b\b\r",
      " 940/1000 [===========================>..] - ETA: 0s - loss: 14.4891 - acc: 0.1011"
     ]
    },
    {
     "name": "stdout",
     "output_type": "stream",
     "text": [
      "\b\b\b\b\b\b\b\b\b\b\b\b\b\b\b\b\b\b\b\b\b\b\b\b\b\b\b\b\b\b\b\b\b\b\b\b\b\b\b\b\b\b\b\b\b\b\b\b\b\b\b\b\b\b\b\b\b\b\b\b\b\b\b\b\b\b\b\b\b\b\b\b\b\b\b\b\b\b\b\b\b\b\r",
      " 760/1000 [=====================>........] - ETA: 0s - loss: 14.4215 - acc: 0.1053"
     ]
    },
    {
     "name": "stdout",
     "output_type": "stream",
     "text": [
      "\b\b\b\b\b\b\b\b\b\b\b\b\b\b\b\b\b\b\b\b\b\b\b\b\b\b\b\b\b\b\b\b\b\b\b\b\b\b\b\b\b\b\b\b\b\b\b\b\b\b\b\b\b\b\b\b\b\b\b\b\b\b\b\b\b\b\b\b\b\b\b\b\b\b\b\b\b\b\b\b\b\b\r",
      " 580/1000 [================>.............] - ETA: 0s - loss: 14.2840 - acc: 0.1138"
     ]
    },
    {
     "name": "stdout",
     "output_type": "stream",
     "text": [
      "\b\b\b\b\b\b\b\b\b\b\b\b\b\b\b\b\b\b\b\b\b\b\b\b\b\b\b\b\b\b\b\b\b\b\b\b\b\b\b\b\b\b\b\b\b\b\b\b\b\b\b\b\b\b\b\b\b\b\b\b\b\b\b\b\b\b\b\b\b\b\b\b\b\b\b\b\b\b\b\b\b\b\r",
      " 400/1000 [===========>..................] - ETA: 0s - loss: 14.4257 - acc: 0.1050"
     ]
    },
    {
     "name": "stdout",
     "output_type": "stream",
     "text": [
      "\b\b\b\b\b\b\b\b\b\b\b\b\b\b\b\b\b\b\b\b\b\b\b\b\b\b\b\b\b\b\b\b\b\b\b\b\b\b\b\b\b\b\b\b\b\b\b\b\b\b\b\b\b\b\b\b\b\b\b\b\b\b\b\b\b\b\b\b\b\b\b\b\b\b\b\b\b\b\b\b\b\b\r",
      " 200/1000 [=====>........................] - ETA: 0s - loss: 14.5869 - acc: 0.0950"
     ]
    },
    {
     "name": "stdout",
     "output_type": "stream",
     "text": [
      "\n",
      "Epoch 5/10\n",
      "\r",
      "  20/1000 [..............................] - ETA: 0s - loss: 13.7004 - acc: 0.1500"
     ]
    },
    {
     "name": "stdout",
     "output_type": "stream",
     "text": [
      "\b\b\b\b\b\b\b\b\b\b\b\b\b\b\b\b\b\b\b\b\b\b\b\b\b\b\b\b\b\b\b\b\b\b\b\b\b\b\b\b\b\b\b\b\b\b\b\b\b\b\b\b\b\b\b\b\b\b\b\b\b\b\b\b\b\b\b\b\b\b\b\b\b\b\b\b\b\b\b\b\b\b\r",
      "1000/1000 [==============================] - 0s - loss: 14.4257 - acc: 0.1050     "
     ]
    },
    {
     "name": "stdout",
     "output_type": "stream",
     "text": [
      "\b\b\b\b\b\b\b\b\b\b\b\b\b\b\b\b\b\b\b\b\b\b\b\b\b\b\b\b\b\b\b\b\b\b\b\b\b\b\b\b\b\b\b\b\b\b\b\b\b\b\b\b\b\b\b\b\b\b\b\b\b\b\b\b\b\b\b\b\b\b\b\b\b\b\b\b\b\b\b\b\b\b\r",
      " 960/1000 [===========================>..] - ETA: 0s - loss: 14.4727 - acc: 0.1021"
     ]
    },
    {
     "name": "stdout",
     "output_type": "stream",
     "text": [
      "\b\b\b\b\b\b\b\b\b\b\b\b\b\b\b\b\b\b\b\b\b\b\b\b\b\b\b\b\b\b\b\b\b\b\b\b\b\b\b\b\b\b\b\b\b\b\b\b\b\b\b\b\b\b\b\b\b\b\b\b\b\b\b\b\b\b\b\b\b\b\b\b\b\b\b\b\b\b\b\b\b\b\r",
      " 780/1000 [======================>.......] - ETA: 0s - loss: 14.4856 - acc: 0.1013"
     ]
    },
    {
     "name": "stdout",
     "output_type": "stream",
     "text": [
      "\b\b\b\b\b\b\b\b\b\b\b\b\b\b\b\b\b\b\b\b\b\b\b\b\b\b\b\b\b\b\b\b\b\b\b\b\b\b\b\b\b\b\b\b\b\b\b\b\b\b\b\b\b\b\b\b\b\b\b\b\b\b\b\b\b\b\b\b\b\b\b\b\b\b\b\b\b\b\b\b\b\b\r",
      " 580/1000 [================>.............] - ETA: 0s - loss: 14.5897 - acc: 0.0948"
     ]
    },
    {
     "name": "stdout",
     "output_type": "stream",
     "text": [
      "\b\b\b\b\b\b\b\b\b\b\b\b\b\b\b\b\b\b\b\b\b\b\b\b\b\b\b\b\b\b\b\b\b\b\b\b\b\b\b\b\b\b\b\b\b\b\b\b\b\b\b\b\b\b\b\b\b\b\b\b\b\b\b\b\b\b\b\b\b\b\b\b\b\b\b\b\b\b\b\b\b\b\r",
      " 400/1000 [===========>..................] - ETA: 0s - loss: 14.2645 - acc: 0.1150"
     ]
    },
    {
     "name": "stdout",
     "output_type": "stream",
     "text": [
      "\b\b\b\b\b\b\b\b\b\b\b\b\b\b\b\b\b\b\b\b\b\b\b\b\b\b\b\b\b\b\b\b\b\b\b\b\b\b\b\b\b\b\b\b\b\b\b\b\b\b\b\b\b\b\b\b\b\b\b\b\b\b\b\b\b\b\b\b\b\b\b\b\b\b\b\b\b\b\b\b\b\b\b\b\b\b\r",
      " 200/1000 [=====>........................] - ETA: 0s - loss: 14.1033 - acc: 0.1250    "
     ]
    },
    {
     "name": "stdout",
     "output_type": "stream",
     "text": [
      "\n",
      "Epoch 4/10\n",
      "\r",
      "  20/1000 [..............................] - ETA: 0s - loss: 16.1181 - acc: 0.0000e+00"
     ]
    },
    {
     "name": "stdout",
     "output_type": "stream",
     "text": [
      "\b\b\b\b\b\b\b\b\b\b\b\b\b\b\b\b\b\b\b\b\b\b\b\b\b\b\b\b\b\b\b\b\b\b\b\b\b\b\b\b\b\b\b\b\b\b\b\b\b\b\b\b\b\b\b\b\b\b\b\b\b\b\b\b\b\b\b\b\b\b\b\b\b\b\b\b\b\b\b\b\b\b\r",
      "1000/1000 [==============================] - 0s - loss: 14.4257 - acc: 0.1050     "
     ]
    },
    {
     "name": "stdout",
     "output_type": "stream",
     "text": [
      "\b\b\b\b\b\b\b\b\b\b\b\b\b\b\b\b\b\b\b\b\b\b\b\b\b\b\b\b\b\b\b\b\b\b\b\b\b\b\b\b\b\b\b\b\b\b\b\b\b\b\b\b\b\b\b\b\b\b\b\b\b\b\b\b\b\b\b\b\b\b\b\b\b\b\b\b\b\b\b\b\b\b\r",
      " 800/1000 [=======================>......] - ETA: 0s - loss: 14.4861 - acc: 0.1013"
     ]
    },
    {
     "name": "stdout",
     "output_type": "stream",
     "text": [
      "\b\b\b\b\b\b\b\b\b\b\b\b\b\b\b\b\b\b\b\b\b\b\b\b\b\b\b\b\b\b\b\b\b\b\b\b\b\b\b\b\b\b\b\b\b\b\b\b\b\b\b\b\b\b\b\b\b\b\b\b\b\b\b\b\b\b\b\b\b\b\b\b\b\b\b\b\b\b\b\b\b\b\r",
      " 600/1000 [=================>............] - ETA: 0s - loss: 14.4526 - acc: 0.1033"
     ]
    },
    {
     "name": "stdout",
     "output_type": "stream",
     "text": [
      "\b\b\b\b\b\b\b\b\b\b\b\b\b\b\b\b\b\b\b\b\b\b\b\b\b\b\b\b\b\b\b\b\b\b\b\b\b\b\b\b\b\b\b\b\b\b\b\b\b\b\b\b\b\b\b\b\b\b\b\b\b\b\b\b\b\b\b\b\b\b\b\b\b\b\b\b\b\b\b\b\b\b\r",
      " 400/1000 [===========>..................] - ETA: 0s - loss: 14.1839 - acc: 0.1200"
     ]
    },
    {
     "name": "stdout",
     "output_type": "stream",
     "text": [
      "\b\b\b\b\b\b\b\b\b\b\b\b\b\b\b\b\b\b\b\b\b\b\b\b\b\b\b\b\b\b\b\b\b\b\b\b\b\b\b\b\b\b\b\b\b\b\b\b\b\b\b\b\b\b\b\b\b\b\b\b\b\b\b\b\b\b\b\b\b\b\b\b\b\b\b\b\b\b\b\b\b\b\r",
      " 200/1000 [=====>........................] - ETA: 0s - loss: 14.4257 - acc: 0.1050"
     ]
    },
    {
     "name": "stdout",
     "output_type": "stream",
     "text": [
      "\n",
      "Epoch 3/10\n",
      "\r",
      "  20/1000 [..............................] - ETA: 0s - loss: 12.8945 - acc: 0.2000"
     ]
    },
    {
     "name": "stdout",
     "output_type": "stream",
     "text": [
      "\b\b\b\b\b\b\b\b\b\b\b\b\b\b\b\b\b\b\b\b\b\b\b\b\b\b\b\b\b\b\b\b\b\b\b\b\b\b\b\b\b\b\b\b\b\b\b\b\b\b\b\b\b\b\b\b\b\b\b\b\b\b\b\b\b\b\b\b\b\b\b\b\b\b\b\b\b\b\b\b\b\b\r",
      "1000/1000 [==============================] - 0s - loss: 14.4257 - acc: 0.1050     "
     ]
    },
    {
     "name": "stdout",
     "output_type": "stream",
     "text": [
      "\b\b\b\b\b\b\b\b\b\b\b\b\b\b\b\b\b\b\b\b\b\b\b\b\b\b\b\b\b\b\b\b\b\b\b\b\b\b\b\b\b\b\b\b\b\b\b\b\b\b\b\b\b\b\b\b\b\b\b\b\b\b\b\b\b\b\b\b\b\b\b\b\b\b\b\b\b\b\b\b\b\b\r",
      " 840/1000 [========================>.....] - ETA: 0s - loss: 14.4487 - acc: 0.1036"
     ]
    },
    {
     "name": "stdout",
     "output_type": "stream",
     "text": [
      "\b\b\b\b\b\b\b\b\b\b\b\b\b\b\b\b\b\b\b\b\b\b\b\b\b\b\b\b\b\b\b\b\b\b\b\b\b\b\b\b\b\b\b\b\b\b\b\b\b\b\b\b\b\b\b\b\b\b\b\b\b\b\b\b\b\b\b\b\b\b\b\b\b\b\b\b\b\b\b\b\b\b\r",
      " 640/1000 [==================>...........] - ETA: 0s - loss: 14.3804 - acc: 0.1078"
     ]
    },
    {
     "name": "stdout",
     "output_type": "stream",
     "text": [
      "\b\b\b\b\b\b\b\b\b\b\b\b\b\b\b\b\b\b\b\b\b\b\b\b\b\b\b\b\b\b\b\b\b\b\b\b\b\b\b\b\b\b\b\b\b\b\b\b\b\b\b\b\b\b\b\b\b\b\b\b\b\b\b\b\b\b\b\b\b\b\b\b\b\b\b\b\b\b\b\b\b\b\r",
      " 440/1000 [============>.................] - ETA: 0s - loss: 14.5429 - acc: 0.0977"
     ]
    },
    {
     "name": "stdout",
     "output_type": "stream",
     "text": [
      "\b\b\b\b\b\b\b\b\b\b\b\b\b\b\b\b\b\b\b\b\b\b\b\b\b\b\b\b\b\b\b\b\b\b\b\b\b\b\b\b\b\b\b\b\b\b\b\b\b\b\b\b\b\b\b\b\b\b\b\b\b\b\b\b\b\b\b\b\b\b\b\b\b\b\b\b\b\b\b\b\b\b\r",
      " 240/1000 [======>.......................] - ETA: 0s - loss: 14.5063 - acc: 0.1000"
     ]
    },
    {
     "name": "stdout",
     "output_type": "stream",
     "text": [
      "\n",
      "Epoch 2/10\n",
      "\r",
      "  20/1000 [..............................] - ETA: 0s - loss: 13.7004 - acc: 0.1500"
     ]
    },
    {
     "name": "stdout",
     "output_type": "stream",
     "text": [
      "\b\b\b\b\b\b\b\b\b\b\b\b\b\b\b\b\b\b\b\b\b\b\b\b\b\b\b\b\b\b\b\b\b\b\b\b\b\b\b\b\b\b\b\b\b\b\b\b\b\b\b\b\b\b\b\b\b\b\b\b\b\b\b\b\b\b\b\b\b\b\b\b\b\b\b\b\b\b\b\b\b\b\r",
      "1000/1000 [==============================] - 0s - loss: 14.3772 - acc: 0.1080     "
     ]
    },
    {
     "name": "stdout",
     "output_type": "stream",
     "text": [
      "\b\b\b\b\b\b\b\b\b\b\b\b\b\b\b\b\b\b\b\b\b\b\b\b\b\b\b\b\b\b\b\b\b\b\b\b\b\b\b\b\b\b\b\b\b\b\b\b\b\b\b\b\b\b\b\b\b\b\b\b\b\b\b\b\b\b\b\b\b\b\b\b\b\b\b\b\b\b\b\b\b\b\r",
      " 980/1000 [============================>.] - ETA: 0s - loss: 14.3746 - acc: 0.1082"
     ]
    },
    {
     "name": "stdout",
     "output_type": "stream",
     "text": [
      "\b\b\b\b\b\b\b\b\b\b\b\b\b\b\b\b\b\b\b\b\b\b\b\b\b\b\b\b\b\b\b\b\b\b\b\b\b\b\b\b\b\b\b\b\b\b\b\b\b\b\b\b\b\b\b\b\b\b\b\b\b\b\b\b\b\b\b\b\b\b\b\b\b\b\b\b\b\b\b\b\b\b\r",
      " 800/1000 [=======================>......] - ETA: 0s - loss: 14.3450 - acc: 0.1100"
     ]
    },
    {
     "name": "stdout",
     "output_type": "stream",
     "text": [
      "\b\b\b\b\b\b\b\b\b\b\b\b\b\b\b\b\b\b\b\b\b\b\b\b\b\b\b\b\b\b\b\b\b\b\b\b\b\b\b\b\b\b\b\b\b\b\b\b\b\b\b\b\b\b\b\b\b\b\b\b\b\b\b\b\b\b\b\b\b\b\b\b\b\b\b\b\b\b\b\b\b\b\r",
      " 600/1000 [=================>............] - ETA: 0s - loss: 14.2106 - acc: 0.1183"
     ]
    },
    {
     "name": "stdout",
     "output_type": "stream",
     "text": [
      "\b\b\b\b\b\b\b\b\b\b\b\b\b\b\b\b\b\b\b\b\b\b\b\b\b\b\b\b\b\b\b\b\b\b\b\b\b\b\b\b\b\b\b\b\b\b\b\b\b\b\b\b\b\b\b\b\b\b\b\b\b\b\b\b\b\b\b\b\b\b\b\b\b\b\b\b\b\b\b\b\b\b\r",
      " 420/1000 [===========>..................] - ETA: 0s - loss: 14.1990 - acc: 0.1190"
     ]
    },
    {
     "name": "stdout",
     "output_type": "stream",
     "text": [
      "\b\b\b\b\b\b\b\b\b\b\b\b\b\b\b\b\b\b\b\b\b\b\b\b\b\b\b\b\b\b\b\b\b\b\b\b\b\b\b\b\b\b\b\b\b\b\b\b\b\b\b\b\b\b\b\b\b\b\b\b\b\b\b\b\b\b\b\b\b\b\b\b\b\b\b\b\b\b\b\b\b\b\r",
      " 220/1000 [=====>........................] - ETA: 0s - loss: 14.3593 - acc: 0.1091"
     ]
    },
    {
     "name": "stdout",
     "output_type": "stream",
     "text": [
      "Epoch 1/10\n",
      "\r",
      "  20/1000 [..............................] - ETA: 6s - loss: 15.3122 - acc: 0.0500"
     ]
    }
   ],
   "source": [
    "# neural network with keras\n",
    "TODO reshape input\n",
    "from keras.models import Sequential\n",
    "from keras.layers.core import Dense, Activation\n",
    "keras_model = Sequential([\n",
    "    Dense(input_dim=28*28, units=1000),\n",
    "    Activation('relu'),\n",
    "    Dense(units=10),\n",
    "    Activation('softmax'),\n",
    "])\n",
    "keras_model.compile(loss='sparse_categorical_crossentropy', optimizer='sgd', metrics=['accuracy'])\n",
    "keras_model.fit(train_x.values, train_y.values, epochs=10, batch_size=100)\n",
    "loss, metrics = keras_model.evaluate(train_x.values, train_y.values)\n",
    "print(metrics)\n",
    "output = keras_model.predict_classes(test_x.values)\n",
    "print('\\n', output[:10])\n",
    "submit = pd.DataFrame(data={'ImageId':test_id, 'Label':output})\n",
    "submit.to_csv('nn_keras_submit.csv'.format(name), index=False)"
   ]
  },
  {
   "cell_type": "code",
   "execution_count": 11,
   "metadata": {
    "autoscroll": "json-false",
    "collapsed": false,
    "ein.tags": [
     "worksheet-0"
    ],
    "slideshow": {
     "slide_type": "-"
    }
   },
   "outputs": [
    {
     "name": "stdout",
     "output_type": "stream",
     "text": [
      "ImageId,Label\r\n",
      "1,2\r\n",
      "2,0\r\n",
      "3,9\r\n",
      "4,9\r\n",
      "5,2\r\n",
      "6,7\r\n",
      "7,0\r\n",
      "8,3\r\n",
      "9,0\r\n"
     ]
    }
   ],
   "source": [
    "!head svm_submit.csv"
   ]
  }
 ],
 "metadata": {
  "kernelspec": {
   "display_name": "Python 3",
   "name": "python3"
  },
  "language_info": {
   "codemirror_mode": {
    "name": "ipython",
    "version": 3
   },
   "file_extension": ".py",
   "mimetype": "text/x-python",
   "name": "python",
   "nbconvert_exporter": "python",
   "pygments_lexer": "ipython3",
   "version": "3.6.2"
  },
  "name": "digit.ipynb"
 },
 "nbformat": 4,
 "nbformat_minor": 2
}
