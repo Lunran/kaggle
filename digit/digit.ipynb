{
 "cells": [
  {
   "cell_type": "markdown",
   "metadata": {
    "ein.tags": [
     "worksheet-0"
    ],
    "slideshow": {
     "slide_type": "-"
    }
   },
   "source": [
    "- ref. "
   ]
  },
  {
   "cell_type": "code",
   "execution_count": 2,
   "metadata": {
    "autoscroll": "json-false",
    "ein.tags": [
     "worksheet-0"
    ],
    "slideshow": {
     "slide_type": "-"
    }
   },
   "outputs": [
    {
     "name": "stdout",
     "output_type": "stream",
     "text": [
      "train (42000, 785)\n",
      "   label  pixel0  pixel1  pixel2  pixel3  pixel4  pixel5  pixel6  pixel7  \\\n",
      "0      1       0       0       0       0       0       0       0       0   \n",
      "1      0       0       0       0       0       0       0       0       0   \n",
      "2      1       0       0       0       0       0       0       0       0   \n",
      "3      4       0       0       0       0       0       0       0       0   \n",
      "4      0       0       0       0       0       0       0       0       0   \n",
      "\n",
      "   pixel8    ...     pixel774  pixel775  pixel776  pixel777  pixel778  \\\n",
      "0       0    ...            0         0         0         0         0   \n",
      "1       0    ...            0         0         0         0         0   \n",
      "2       0    ...            0         0         0         0         0   \n",
      "3       0    ...            0         0         0         0         0   \n",
      "4       0    ...            0         0         0         0         0   \n",
      "\n",
      "   pixel779  pixel780  pixel781  pixel782  pixel783  \n",
      "0         0         0         0         0         0  \n",
      "1         0         0         0         0         0  \n",
      "2         0         0         0         0         0  \n",
      "3         0         0         0         0         0  \n",
      "4         0         0         0         0         0  \n",
      "\n",
      "[5 rows x 785 columns]\n",
      "test (28000, 784)\n",
      "   pixel0  pixel1  pixel2  pixel3  pixel4  pixel5  pixel6  pixel7  pixel8  \\\n",
      "0       0       0       0       0       0       0       0       0       0   \n",
      "1       0       0       0       0       0       0       0       0       0   \n",
      "2       0       0       0       0       0       0       0       0       0   \n",
      "3       0       0       0       0       0       0       0       0       0   \n",
      "4       0       0       0       0       0       0       0       0       0   \n",
      "\n",
      "   pixel9    ...     pixel774  pixel775  pixel776  pixel777  pixel778  \\\n",
      "0       0    ...            0         0         0         0         0   \n",
      "1       0    ...            0         0         0         0         0   \n",
      "2       0    ...            0         0         0         0         0   \n",
      "3       0    ...            0         0         0         0         0   \n",
      "4       0    ...            0         0         0         0         0   \n",
      "\n",
      "   pixel779  pixel780  pixel781  pixel782  pixel783  \n",
      "0         0         0         0         0         0  \n",
      "1         0         0         0         0         0  \n",
      "2         0         0         0         0         0  \n",
      "3         0         0         0         0         0  \n",
      "4         0         0         0         0         0  \n",
      "\n",
      "[5 rows x 784 columns]\n",
      "all (70000, 784)\n",
      "   pixel0  pixel1  pixel2  pixel3  pixel4  pixel5  pixel6  pixel7  pixel8  \\\n",
      "0       0       0       0       0       0       0       0       0       0   \n",
      "1       0       0       0       0       0       0       0       0       0   \n",
      "2       0       0       0       0       0       0       0       0       0   \n",
      "3       0       0       0       0       0       0       0       0       0   \n",
      "4       0       0       0       0       0       0       0       0       0   \n",
      "\n",
      "   pixel9    ...     pixel774  pixel775  pixel776  pixel777  pixel778  \\\n",
      "0       0    ...            0         0         0         0         0   \n",
      "1       0    ...            0         0         0         0         0   \n",
      "2       0    ...            0         0         0         0         0   \n",
      "3       0    ...            0         0         0         0         0   \n",
      "4       0    ...            0         0         0         0         0   \n",
      "\n",
      "   pixel779  pixel780  pixel781  pixel782  pixel783  \n",
      "0         0         0         0         0         0  \n",
      "1         0         0         0         0         0  \n",
      "2         0         0         0         0         0  \n",
      "3         0         0         0         0         0  \n",
      "4         0         0         0         0         0  \n",
      "\n",
      "[5 rows x 784 columns]\n"
     ]
    }
   ],
   "source": [
    "# load data\n",
    "import pandas as pd, numpy as np\n",
    "pd.set_option(\"display.width\", 80)\n",
    "pd.set_option(\"display.max_rows\", 20)\n",
    "import seaborn as sns, matplotlib.pyplot as plt\n",
    "import multiprocessing as mp\n",
    "n_cpus = mp.cpu_count()\n",
    "\n",
    "train_df = pd.read_csv(\"./train.csv\")   # 42000\n",
    "#train_df = pd.read_csv(\"./train.csv\", nrows=10000)\n",
    "test_df = pd.read_csv(\"./test.csv\")   # 28000\n",
    "train_num = train_df.shape[0]\n",
    "test_num = test_df.shape[0]\n",
    "train_x = train_df.drop(['label'], axis=1)\n",
    "train_y = train_df[\"label\"]\n",
    "test_x = test_df\n",
    "all_df = pd.concat((train_x, test_df))\n",
    "\n",
    "dfd = {'train': train_df, 'test': test_df, 'all': all_df}\n",
    "for name,df in dfd.items():\n",
    "    print(name, df.shape)\n",
    "    print(df.head())"
   ]
  },
  {
   "cell_type": "code",
   "execution_count": 3,
   "metadata": {
    "autoscroll": "json-false",
    "ein.tags": [
     "worksheet-0"
    ],
    "slideshow": {
     "slide_type": "-"
    }
   },
   "outputs": [
    {
     "name": "stdout",
     "output_type": "stream",
     "text": [
      "train\n",
      "<class 'pandas.core.frame.DataFrame'>\n",
      "RangeIndex: 42000 entries, 0 to 41999\n",
      "Columns: 785 entries, label to pixel783\n",
      "dtypes: int64(785)\n",
      "memory usage: 251.5 MB\n",
      "None\n",
      "test\n",
      "<class 'pandas.core.frame.DataFrame'>\n",
      "RangeIndex: 28000 entries, 0 to 27999\n",
      "Columns: 784 entries, pixel0 to pixel783\n",
      "dtypes: int64(784)\n",
      "memory usage: 167.5 MB\n",
      "None\n",
      "all\n",
      "<class 'pandas.core.frame.DataFrame'>\n",
      "Int64Index: 70000 entries, 0 to 27999\n",
      "Columns: 784 entries, pixel0 to pixel783\n",
      "dtypes: int64(784)\n",
      "memory usage: 419.2 MB\n",
      "None\n"
     ]
    }
   ],
   "source": [
    "# check data\n",
    "for name,df in dfd.items():\n",
    "    print(name)\n",
    "    print(df.info())\n",
    "    #print(df.describe())   # doesn't show a lot of information"
   ]
  },
  {
   "cell_type": "code",
   "execution_count": 4,
   "metadata": {
    "autoscroll": "json-false",
    "ein.tags": [
     "worksheet-0"
    ],
    "slideshow": {
     "slide_type": "-"
    }
   },
   "outputs": [
    {
     "name": "stdout",
     "output_type": "stream",
     "text": [
      "train\n",
      "Series([], dtype: float64)\n",
      "test\n",
      "Series([], dtype: float64)\n",
      "all\n",
      "Series([], dtype: float64)\n"
     ]
    }
   ],
   "source": [
    "# check null\n",
    "for name,df in dfd.items():\n",
    "    print(name)\n",
    "    isnull_ratio = df.isnull().sum()/df.isnull().count()\n",
    "    print(isnull_ratio[isnull_ratio != 0].sort_values(ascending=False))"
   ]
  },
  {
   "cell_type": "code",
   "execution_count": 5,
   "metadata": {
    "autoscroll": "json-false",
    "ein.tags": [
     "worksheet-0"
    ],
    "slideshow": {
     "slide_type": "-"
    }
   },
   "outputs": [],
   "source": [
    "# check correlation (takes time)\n",
    "# -> pixel436 has high correlation with label.. so what?\n",
    "# correlations = train_df.astype(float).corr()['label'].sort_values(ascending=False)\n",
    "# print(correlations.head())\n",
    "# print(correlations.tail())"
   ]
  },
  {
   "cell_type": "code",
   "execution_count": 6,
   "metadata": {
    "autoscroll": "json-false",
    "ein.tags": [
     "worksheet-0"
    ],
    "slideshow": {
     "slide_type": "-"
    }
   },
   "outputs": [],
   "source": [
    "# check skewness (takes time)\n",
    "# -> pixel367 has high skewness, but log/boxcox transform doesn't help\n",
    "# from scipy.stats import skew\n",
    "# skewness = all_df.apply(lambda x: skew(x)).sort_values(ascending=False)\n",
    "# print(skewness.head())\n",
    "# print(skewness.tail())\n",
    "# all_df['pixel367'].hist(bins=50)\n",
    "# plt.show()"
   ]
  },
  {
   "cell_type": "code",
   "execution_count": 7,
   "metadata": {
    "autoscroll": "json-false",
    "ein.tags": [
     "worksheet-0"
    ],
    "slideshow": {
     "slide_type": "-"
    }
   },
   "outputs": [],
   "source": [
    "# grid search (takes time)\n",
    "from sklearn.linear_model import LogisticRegression, Perceptron, SGDClassifier\n",
    "from sklearn.ensemble import RandomForestClassifier, ExtraTreesClassifier, AdaBoostClassifier, GradientBoostingClassifier, BaggingClassifier\n",
    "from sklearn.tree import DecisionTreeClassifier\n",
    "from sklearn.svm import SVC, LinearSVC\n",
    "from sklearn.neighbors import KNeighborsClassifier\n",
    "from sklearn.naive_bayes import GaussianNB\n",
    "from sklearn.model_selection import GridSearchCV\n",
    "from mlxtend.classifier import StackingClassifier\n",
    "from sklearn.base import clone\n",
    "\n",
    "train_x = all_df[:train_num]\n",
    "test_x = all_df[train_num:]\n",
    "\n",
    "# models = []\n",
    "# C_list, gamma_list, degree_list = np.logspace(-2, 0, 3), np.logspace(-3, -1, 3), np.linspace(1, 3, 3)\n",
    "# grid = [\n",
    "#     {'C': C_list, 'kernel': ['poly'], 'gamma': gamma_list, 'degree': degree_list},\n",
    "#     # {'C': C_list, 'kernel': ['sigmoid'], 'gamma': gamma_list},\n",
    "#     # {'C': C_list, 'kernel': ['linear']},\n",
    "#     # {'C': C_list, 'kernel': ['rbf'], 'gamma': gamma_list},\n",
    "#     ]\n",
    "# models.append(('svm', GridSearchCV(SVC(), grid, cv=3, n_jobs=n_cpus)))\n",
    "# grid = [{'n_estimators': [1000], 'max_depth': [6,7,8], 'min_samples_leaf': [2,3], 'max_features' : ['sqrt']}]\n",
    "# models.append(('random_forest', GridSearchCV(RandomForestClassifier(), grid, cv=3, n_jobs=n_cpus)))\n",
    "# models.append(('extra_trees', GridSearchCV(ExtraTreesClassifier(), grid, cv=3, n_jobs=n_cpus)))\n",
    "# grid = {'n_estimators': [1000], 'learning_rate' : [0.25, 0.5, 0.75]}\n",
    "# models.append(('ada_boost', GridSearchCV(AdaBoostClassifier(), grid, cv=3, n_jobs=n_cpus)))\n",
    "# grid = {'n_estimators': [1000], 'max_depth': [6,7,8], 'min_samples_leaf': [2,3]}\n",
    "# models.append(('gradient_boosting', GridSearchCV(GradientBoostingClassifier(), grid, cv=3, n_jobs=n_cpus)))\n",
    "# grid = {'max_iter': [1000], 'tol': [0.001]}\n",
    "# models.append(('perceptron', GridSearchCV(Perceptron(max_iter=1000, tol=0.001), grid, cv=3, n_jobs=n_cpus)))\n",
    "# models.append(('sgd_classifier', GridSearchCV(SGDClassifier(max_iter=1000, tol=0.001), grid, cv=3, n_jobs=n_cpus)))\n",
    "# grid = {'n_neighbors': [2,3,4]}\n",
    "# models.append(('k-nearest_neighbors', GridSearchCV(KNeighborsClassifier(), grid, cv=3, n_jobs=n_cpus)))\n",
    "# grid = {}\n",
    "# models.append(('logistic_regression', GridSerchCV(LogisticRegression(), grid, cv=3, n_jobs=n_cpus)))\n",
    "# models.append(('gaussian_naive bayes', GridSearchCV(GaussianNB(), grid, cv=3, n_jobs=n_cpus)))\n",
    "# models.append(('linear_svc', GridSearchCV(LinearSVC(), grid, cv=3, n_jobs=n_cpus)))\n",
    "# models.append(('decision_tree', GridSearchCV(DecisionTreeClassifier(), grid, cv=3, n_jobs=n_cpus)))\n",
    "\n",
    "# params = {}\n",
    "# for name,model in models:\n",
    "#     model.fit(train_x, train_y)\n",
    "#     print(name, model.best_score_, model.best_params_)\n",
    "#     params[name] = model.best_params_\n",
    "#     # results = model.cv_results_\n",
    "#     # for mean, std, params in zip(results['mean_test_score'], results['std_test_score'], results['params']):\n",
    "#     #     print(\"{:0.3f} (+/-{:0.03f} for {}\".format(mean, std, params))\n",
    "\n",
    "# from the result of nrows=20000\n",
    "params = {\n",
    "    'k-nearest_neighbors': {'n_neighbors': 3},\n",
    "    'sgd_classifier': {'max_iter': 1000, 'tol': 0.001},\n",
    "    'perceptron': {'max_iter': 1000, 'tol': 0.001},\n",
    "    'gradient_boosting': {'max_depth': 6, 'min_samples_leaf': 3, 'n_estimators': 1000},\n",
    "    'ada_boost': {'learning_rate': 0.25, 'n_estimators': 1000},\n",
    "    'extra_trees': {'max_depth': 8, 'max_features': 'sqrt', 'min_samples_leaf': 2, 'n_estimators': 1000},\n",
    "    'random_forest': {'max_depth': 8, 'max_features': 'sqrt', 'min_samples_leaf': 2, 'n_estimators': 1000},\n",
    "    'svm': {'C': 0.01, 'degree': 2.0, 'gamma': 0.001, 'kernel': 'poly'},\n",
    "    'logistic_regression': {},\n",
    "    'gaussian_naive bayes': {},\n",
    "    'linear_svc': {},\n",
    "    'decision_tree': {},\n",
    "    }\n",
    "\n",
    "svm_model = SVC(**params['svm'])\n",
    "# bagging_svm_model = BaggingClassifier(base_estimator=clone(svm_model),\n",
    "#                                       n_estimators=10, max_samples=0.9, max_features=0.2)\n",
    "et_model = ExtraTreesClassifier(**params['extra_trees'])\n",
    "# bagging_et_model = BaggingClassifier(base_estimator=clone(et_model),\n",
    "#                                      n_estimators=10, max_samples=0.9, max_features=0.2)\n",
    "knn_model = KNeighborsClassifier(**params['k-nearest_neighbors'])\n",
    "# bagging_knn_model = BaggingClassifier(base_estimator=clone(knn_model),\n",
    "#                                       n_estimators=10, max_samples=0.9, max_features=0.2)\n",
    "lr_model = LogisticRegression(**params['logistic_regression'])\n",
    "# stacking_model = StackingClassifier(classifiers=[clone(svm_model), clone(et_model), clone(knn_model)],\n",
    "#                                     meta_classifier=clone(lr_model))\n",
    "models = [\n",
    "    ('svm', svm_model),\n",
    "    # ('bagging_svm', bagging_svm_model),\n",
    "    ('extra_trees', et_model),\n",
    "    # ('bagging_extra_trees', bagging_et_model),\n",
    "    ('random_forest', RandomForestClassifier(**params['random_forest'])),\n",
    "    ('ada_boost', AdaBoostClassifier(**params['ada_boost'])),\n",
    "    ('gradient_boosting', GradientBoostingClassifier(**params['gradient_boosting'])),\n",
    "    ('perceptron', Perceptron(**params['perceptron'])),\n",
    "    ('sgd_classifier', SGDClassifier(**params['sgd_classifier'])),\n",
    "    ('k-nearest_neighbors', knn_model),\n",
    "    # ('bagging_k-nearest_neighbors', bagging_knn_model),\n",
    "    ('logistic_regression', lr_model),\n",
    "    ('gaussian_naive bayes', GaussianNB(**params['gaussian_naive bayes'])),\n",
    "    ('linear_svc', LinearSVC(**params['linear_svc'])),\n",
    "    ('decision_tree', DecisionTreeClassifier(**params['decision_tree'])),\n",
    "    # ('stacking', stacking_model),\n",
    "    ]"
   ]
  },
  {
   "cell_type": "code",
   "execution_count": 8,
   "metadata": {
    "autoscroll": "json-false",
    "ein.tags": [
     "worksheet-0"
    ],
    "slideshow": {
     "slide_type": "-"
    }
   },
   "outputs": [],
   "source": [
    "# cross validation\n",
    "from sklearn.model_selection import KFold, cross_validate\n",
    "from multiprocessing import Manager\n",
    "from sklearn.externals.joblib import Parallel, delayed\n",
    "\n",
    "# k_fold = KFold(n_splits=3)\n",
    "# with Manager() as manager:\n",
    "#     results = manager.list()\n",
    "#     def validate_one_model(name, model):\n",
    "#          # Multiprocessing-backed parallel loops cannot be nested\n",
    "#          scores = cross_validate(model, train_x, train_y, cv=k_fold, scoring='accuracy')\n",
    "#          result = {}\n",
    "#          result['model'] = name\n",
    "#          result['test_mean'] = np.mean(scores['test_score'])\n",
    "#          result['test_std'] = np.std(scores['test_score'])\n",
    "#          result['train_mean'] = np.mean(scores['train_score'])\n",
    "#          result['train_std'] = np.std(scores['train_score'])\n",
    "#          results.append(result)\n",
    "#     Parallel(n_jobs=n_cpus)(delayed(validate_one_model)(name, model) for name,model in models)\n",
    "#     results_merged = {'model': [], 'test_mean': [], 'test_std': [], 'train_mean': [], 'train_std': []}\n",
    "#     for result in results:\n",
    "#         for k,v in result.items():\n",
    "#             results_merged[k].append(v)\n",
    "#     print(pd.DataFrame(results_merged).sort_values(by='test_mean', ascending=False))"
   ]
  },
  {
   "cell_type": "code",
   "execution_count": 9,
   "metadata": {
    "autoscroll": "json-false",
    "ein.tags": [
     "worksheet-0"
    ],
    "slideshow": {
     "slide_type": "-"
    }
   },
   "outputs": [],
   "source": [
    "# learn, predict and report\n",
    "from sklearn.metrics import confusion_matrix, classification_report\n",
    "from sklearn.externals.joblib import Parallel, delayed, dump\n",
    "test_id = np.arange(1, test_num+1)\n",
    "# results = {}\n",
    "# def process_one_model(name, model):\n",
    "#     model.fit(train_x, train_y)\n",
    "#     predict_y = model.predict(train_x)\n",
    "#     output = model.predict(test_x)\n",
    "#     results[name] = output\n",
    "#     print(output[:20])\n",
    "#     submit = pd.DataFrame(data={'ImageId':test_id, 'Label':output})\n",
    "#     submit.to_csv('{}_submit.csv'.format(name), index=False)\n",
    "#     #dump(model, '{}.learn'.format(name))\n",
    "#     print(name)\n",
    "#     print(confusion_matrix(train_y, predict_y))\n",
    "#     print(classification_report(train_y, predict_y))\n",
    "# Parallel(n_jobs=n_cpus)(delayed(process_one_model)(name, model) for name,model in models)"
   ]
  },
  {
   "cell_type": "code",
   "execution_count": 10,
   "metadata": {
    "autoscroll": "json-false",
    "ein.tags": [
     "worksheet-0"
    ],
    "slideshow": {
     "slide_type": "-"
    }
   },
   "outputs": [
    {
     "name": "stdout",
     "output_type": "stream",
     "text": [
      "ImageId,Label\r\n",
      "1,2\r\n",
      "2,0\r\n",
      "3,9\r\n",
      "4,9\r\n",
      "5,3\r\n",
      "6,7\r\n",
      "7,0\r\n",
      "8,3\r\n",
      "9,0\r\n"
     ]
    }
   ],
   "source": [
    "!head svm_submit.csv"
   ]
  },
  {
   "cell_type": "code",
   "execution_count": 31,
   "metadata": {
    "autoscroll": "json-false",
    "ein.tags": [
     "worksheet-0"
    ],
    "slideshow": {
     "slide_type": "-"
    }
   },
   "outputs": [
    {
     "name": "stdout",
     "output_type": "stream",
     "text": [
      "learning..\n",
      "0 1 2 3 4 5 6 7 8 9 10 11 12 13 14 15 16 17 18 19 20 21 \n",
      "         acc   val_acc\n",
      "17  0.985820  0.992381\n",
      "18  0.986878  0.993333\n",
      "19  0.986587  0.993095\n",
      "20  0.987804  0.992857\n",
      "21  0.987884  0.992857\n"
     ]
    },
    {
     "data": {
      "image/png": "[encoded data removed]",
      "text/plain": [
       "<matplotlib.figure.Figure at 0x7fd6448e05f8>"
      ]
     },
     "metadata": {},
     "output_type": "display_data"
    },
    {
     "data": {
      "image/png": "[encoded data removed]",
      "text/plain": [
       "<matplotlib.figure.Figure at 0x7fd64493a518>"
      ]
     },
     "metadata": {},
     "output_type": "display_data"
    },
    {
     "name": "stdout",
     "output_type": "stream",
     "text": [
      "predicting..\n",
      "\n",
      "   32/28000 [..............................] - ETA: 194s\n",
      "  832/28000 [..............................] - ETA: 9s  \n",
      " 1504/28000 [>.............................] - ETA: 6s\n",
      " 2144/28000 [=>............................] - ETA: 5s\n",
      " 2784/28000 [=>............................] - ETA: 4s\n",
      " 3488/28000 [==>...........................] - ETA: 3s\n",
      " 4160/28000 [===>..........................] - ETA: 3s\n",
      " 4896/28000 [====>.........................] - ETA: 3s\n",
      " 5664/28000 [=====>........................] - ETA: 2s\n",
      " 6368/28000 [=====>........................] - ETA: 2s\n",
      " 7008/28000 [======>.......................] - ETA: 2s\n",
      " 7648/28000 [=======>......................] - ETA: 2s\n",
      " 8352/28000 [=======>......................] - ETA: 2s\n",
      " 8992/28000 [========>.....................] - ETA: 2s\n",
      " 9664/28000 [=========>....................] - ETA: 2s\n",
      "10368/28000 [==========>...................] - ETA: 2s\n",
      "11104/28000 [==========>...................] - ETA: 2s\n",
      "11808/28000 [===========>..................] - ETA: 2s\n",
      "12480/28000 [============>.................] - ETA: 1s\n",
      "13184/28000 [=============>................] - ETA: 1s\n",
      "13760/28000 [=============>................] - ETA: 1s\n",
      "14464/28000 [==============>...............] - ETA: 1s\n",
      "15136/28000 [===============>..............] - ETA: 1s\n",
      "15808/28000 [===============>..............] - ETA: 1s\n",
      "16416/28000 [================>.............] - ETA: 1s\n",
      "17184/28000 [=================>............] - ETA: 1s\n",
      "17824/28000 [==================>...........] - ETA: 1s\n",
      "18464/28000 [==================>...........] - ETA: 1s\n",
      "19168/28000 [===================>..........] - ETA: 1s\n",
      "19776/28000 [====================>.........] - ETA: 1s\n",
      "20448/28000 [====================>.........] - ETA: 1s\n",
      "21088/28000 [=====================>........] - ETA: 1s\n",
      "21728/28000 [======================>.......] - ETA: 1s\n",
      "22272/28000 [======================>.......] - ETA: 0s\n",
      "22912/28000 [=======================>......] - ETA: 0s\n",
      "23616/28000 [========================>.....] - ETA: 0s\n",
      "24288/28000 [=========================>....] - ETA: 0s\n",
      "24992/28000 [=========================>....] - ETA: 0s\n",
      "25632/28000 [==========================>...] - ETA: 0s\n",
      "26240/28000 [===========================>..] - ETA: 0s\n",
      "26880/28000 [===========================>..] - ETA: 0s\n",
      "27488/28000 [============================>.] - ETA: 0s\n",
      "28000/28000 [==============================] - ETA: 0s\n",
      "\n",
      "predict:  [2 0 9 9 3 7 0 3 0 3 5 7 4 0 4 3 3 1 9 0]\n"
     ]
    }
   ],
   "source": [
    "from keras.models import Sequential\n",
    "from keras.layers import Dense, Dropout, Flatten, Conv2D, MaxPooling2D\n",
    "from keras.callbacks import EarlyStopping, Callback\n",
    "from keras.wrappers.scikit_learn import KerasClassifier\n",
    "\n",
    "trainX = train_x.values.reshape(len(train_x.index), 28, 28, 1).astype('float32')/255\n",
    "testX = test_x.values.reshape(len(test_x.index), 28, 28, 1).astype('float32')/255\n",
    "trainY = train_y.values\n",
    "# trainY = np_utils.to_categorical(train_y.values, num_classes=10)   # required for categorical_crossentropy\n",
    "\n",
    "def get_keras_model(activation='relu', optimizer='adadelta'):\n",
    "    keras_model = Sequential([\n",
    "        Conv2D(filters=32, kernel_size=(3, 3), activation=activation, input_shape=(28, 28, 1)),\n",
    "        Conv2D(filters=32, kernel_size=(3, 3), activation=activation),\n",
    "        MaxPooling2D(pool_size=(2, 2)),\n",
    "        Dropout(rate=0.5),\n",
    "        Conv2D(filters=64, kernel_size=(3, 3), activation=activation, input_shape=(28, 28, 1)),\n",
    "        Conv2D(filters=64, kernel_size=(3, 3), activation=activation),\n",
    "        MaxPooling2D(pool_size=(2, 2)),\n",
    "        Dropout(rate=0.5),\n",
    "        Flatten(),\n",
    "        Dense(units=256, activation=activation),\n",
    "        Dropout(rate=0.5),\n",
    "        Dense(units=10, activation='softmax'),\n",
    "    ])\n",
    "    keras_model.compile(loss='sparse_categorical_crossentropy', optimizer=optimizer, metrics=['accuracy'])\n",
    "    # print(keras_model.summary())\n",
    "    return keras_model\n",
    "keras_model = get_keras_model()\n",
    "\n",
    "#print('cross validating..')\n",
    "#keras_model = KerasClassifier(build_fn=get_keras_model, verbose=0)\n",
    "#grid = [{'activation': ['relu'], 'optimizer': ['adadelta', 'adam', 'adagrad'],\n",
    "#         'batch_size' : [128]}]\n",
    "#grid_cv = GridSearchCV(keras_model, grid, cv=3)\n",
    "#grid_cv.fit(trainX, trainY)   # hangs up\n",
    "#print(grid_cv.best_score_, grid_cv.best_params_)\n",
    "\n",
    "print('learning..')\n",
    "class PrintProgress(Callback):\n",
    "    def on_epoch_end(self, epoch, logs=None):\n",
    "        print(epoch, end=' ')\n",
    "history = keras_model.fit(trainX, trainY, epochs=24, batch_size=64, validation_split=0.1,\n",
    "                          callbacks=[EarlyStopping(patience=3), PrintProgress()], verbose=0)\n",
    "print()\n",
    "hist_loss = pd.DataFrame({'loss': history.history['loss'], 'val_loss': history.history['val_loss']})\n",
    "hist_acc = pd.DataFrame({'acc': history.history['acc'], 'val_acc': history.history['val_acc']})\n",
    "print(hist_acc.tail())\n",
    "hist_loss.plot()\n",
    "hist_acc.plot()\n",
    "plt.show()\n",
    "\n",
    "print('predicting..')\n",
    "output = keras_model.predict_classes(testX)\n",
    "print()\n",
    "print('predict: ', output[:20])\n",
    "submit = pd.DataFrame(data={'ImageId':test_id, 'Label':output})\n",
    "submit.to_csv('nn_keras_submit.csv'.format(name), index=False)"
   ]
  },
  {
   "cell_type": "code",
   "execution_count": null,
   "metadata": {
    "autoscroll": "json-false",
    "ein.tags": [
     "worksheet-0"
    ],
    "slideshow": {
     "slide_type": "-"
    }
   },
   "outputs": [],
   "source": [
    "!head nn_keras_submit.csv"
   ]
  },
  {
   "cell_type": "code",
   "execution_count": null,
   "metadata": {
    "autoscroll": "json-false",
    "ein.tags": [
     "worksheet-0"
    ],
    "slideshow": {
     "slide_type": "-"
    }
   },
   "outputs": [],
   "source": [
    "# neural network with tensorflow (skflow -> contrib.learn -> estimator)\n",
    "# import tensorflow as tf\n",
    "# trainX = train_x/255\n",
    "# testX = test_x/255\n",
    "# trainY = train_y\n",
    "# feature_columns = [tf.feature_column.numeric_column(k) for k in train_x.columns]\n",
    "# tf_model = tf.estimator.DNNClassifier(hidden_units=[1000], n_classes=10, feature_columns=feature_columns)\n",
    "# input_fn_train = tf.estimator.inputs.pandas_input_fn(x=trainX, y=trainY, shuffle=False)\n",
    "# tf_model.train(input_fn=input_fn_train, steps=100)\n",
    "# tf_model.evaluate(input_fn=input_fn_train, steps=10)\n",
    "# #scores = cross_validate(tf_model, train_x, train_y, cv=k_fold, scoring='accuracy')   # throws an error\n",
    "# input_fn_predict = tf.estimator.inputs.pandas_input_fn(x=testX, shuffle=False)\n",
    "# generator = tf_model.predict(input_fn=input_fn_predict)\n",
    "# output = [d['class_ids'][0] for d in generator]\n",
    "# print(output[:20])\n",
    "# submit = pd.DataFrame(data={'ImageId':test_id, 'Label':output})\n",
    "# submit.to_csv('nn_tensor_submit.csv'.format(name), index=False)"
   ]
  },
  {
   "cell_type": "code",
   "execution_count": null,
   "metadata": {
    "autoscroll": "json-false",
    "ein.tags": [
     "worksheet-0"
    ],
    "slideshow": {
     "slide_type": "-"
    }
   },
   "outputs": [],
   "source": []
  }
 ],
 "metadata": {
  "kernelspec": {
   "display_name": "Python 3",
   "language": "python",
   "name": "python3"
  },
  "language_info": {
   "codemirror_mode": {
    "name": "ipython",
    "version": 3
   },
   "file_extension": ".py",
   "mimetype": "text/x-python",
   "name": "python",
   "nbconvert_exporter": "python",
   "pygments_lexer": "ipython3",
   "version": "3.6.0"
  },
  "name": "digit.ipynb"
 },
 "nbformat": 4,
 "nbformat_minor": 2
}
